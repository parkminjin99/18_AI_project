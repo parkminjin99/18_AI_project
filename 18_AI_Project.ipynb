{
  "nbformat": 4,
  "nbformat_minor": 0,
  "metadata": {
    "colab": {
      "name": "18_AI_Project.ipynb",
      "provenance": [],
      "authorship_tag": "ABX9TyNmI+g/e2w0vu0nvKVwSav9",
      "include_colab_link": true
    },
    "kernelspec": {
      "name": "python3",
      "display_name": "Python 3"
    }
  },
  "cells": [
    {
      "cell_type": "markdown",
      "metadata": {
        "id": "view-in-github",
        "colab_type": "text"
      },
      "source": [
        "<a href=\"https://colab.research.google.com/github/parkminjin99/18_AI_project/blob/main/18_AI_Project.ipynb\" target=\"_parent\"><img src=\"https://colab.research.google.com/assets/colab-badge.svg\" alt=\"Open In Colab\"/></a>"
      ]
    },
    {
      "cell_type": "code",
      "metadata": {
        "id": "DOn0diWJA0ny",
        "outputId": "592b3cde-eeb3-404a-a856-5396ff018f7e",
        "colab": {
          "base_uri": "https://localhost:8080/"
        }
      },
      "source": [
        "from google.colab import drive\n",
        "drive.mount('/content/drive')"
      ],
      "execution_count": 20,
      "outputs": [
        {
          "output_type": "stream",
          "text": [
            "Drive already mounted at /content/drive; to attempt to forcibly remount, call drive.mount(\"/content/drive\", force_remount=True).\n"
          ],
          "name": "stdout"
        }
      ]
    },
    {
      "cell_type": "code",
      "metadata": {
        "id": "keIII2QCBq74"
      },
      "source": [
        "!unzip /content/drive/My\\ Drive/데이터.zip"
      ],
      "execution_count": null,
      "outputs": []
    },
    {
      "cell_type": "code",
      "metadata": {
        "id": "EZgc6h0EBrCB"
      },
      "source": [
        "import os\n",
        "import glob\n",
        "import json\n",
        "import pprint\n",
        "\n",
        "import numpy as np\n",
        "\n",
        "from lightgbm import LGBMClassifier\n",
        "\n",
        "from sklearn.svm import SVC\n",
        "from sklearn.tree import DecisionTreeClassifier\n",
        "from sklearn.ensemble import RandomForestClassifier\n",
        "from sklearn.ensemble import AdaBoostClassifier\n",
        "from sklearn.neighbors import KNeighborsClassifier\n",
        "from sklearn.linear_model import LogisticRegression\n",
        "from sklearn.neural_network import MLPClassifier\n",
        "\n",
        "from sklearn.metrics import accuracy_score\n",
        "from sklearn.pipeline import Pipeline\n",
        "from sklearn.feature_selection import RFE"
      ],
      "execution_count": 3,
      "outputs": []
    },
    {
      "cell_type": "code",
      "metadata": {
        "id": "6kyjjezGBrGv"
      },
      "source": [
        "def read_label_csv(path):\n",
        "    label_table = dict()\n",
        "    with open(path, \"r\", encoding = \"cp949\") as f: #csv파일을 읽는다\n",
        "        for line in f.readlines()[1:]:\n",
        "            fname, label = line.strip().split(\",\")\n",
        "            label_table[fname] = int(label)\n",
        "    return label_table\n",
        "\n",
        "def read_json(path):\n",
        "    with open(path, \"r\") as f:  #json파일을 읽는다 \n",
        "        return json.load(f)"
      ],
      "execution_count": 6,
      "outputs": []
    },
    {
      "cell_type": "code",
      "metadata": {
        "id": "d5qFXrt5BrIr"
      },
      "source": [
        "learn_label_table = read_label_csv(\"학습데이터_정답.csv\")\n",
        "verify_label_table = read_label_csv(\"검증데이터_정답.csv\")"
      ],
      "execution_count": 26,
      "outputs": []
    },
    {
      "cell_type": "markdown",
      "metadata": {
        "id": "_fR3Sl5BF0WF"
      },
      "source": [
        "특징 벡터 생성 예시\n",
        "\n",
        "*   PEMINER 정보는 모두 수치형 데이터이므로 특별히 가공을 하지 않고 사용 가능\n",
        "*   EMBER, PESTUDIO 정보는 가공해서 사용해야 할 특징들이 있음 (e.g. imports, exports 등의 문자열 정보를 가지는 데이터)\n",
        "*   수치형 데이터가 아닌 데이터(범주형 데이터)를 어떻게 가공할 지가 관건 >> 인코딩 (e.g. 원핫인코딩, 레이블인코딩 등)\n"
      ]
    },
    {
      "cell_type": "code",
      "metadata": {
        "id": "IA-2oSccBrNF"
      },
      "source": [
        "ember_path = \"EMBER/학습데이터/000c4ae5e00a1d4de991a9decf9ecbac59ed5582f5972f05b48bc1a1fe57338a.json\"\n",
        "peminer_path = \"PEMINER/학습데이터/000c4ae5e00a1d4de991a9decf9ecbac59ed5582f5972f05b48bc1a1fe57338a.json\"\n",
        "pestudio_path = \"PESTUDIO/학습데이터/bda2ab110f80f6fa79b3d650b6ae4565d8e840d7ba5b69e38c2874f63cc423a8.json\"\n",
        "\n",
        "ember_result = read_json(ember_path)\n",
        "peminer_result = read_json(peminer_path)\n",
        "pestudio_result = read_json(pestudio_path)"
      ],
      "execution_count": 7,
      "outputs": []
    },
    {
      "cell_type": "code",
      "metadata": {
        "id": "egeH7Fc1BrPd"
      },
      "source": [
        "pprint.pprint(ember_result)"
      ],
      "execution_count": null,
      "outputs": []
    },
    {
      "cell_type": "code",
      "metadata": {
        "id": "aFTuW6iCBrSD"
      },
      "source": [
        "pprint.pprint(peminer_result)"
      ],
      "execution_count": null,
      "outputs": []
    },
    {
      "cell_type": "code",
      "metadata": {
        "id": "GBLSzjf_BrU3"
      },
      "source": [
        "pprint.pprint(pestudio_result,depth = 2)"
      ],
      "execution_count": null,
      "outputs": []
    },
    {
      "cell_type": "code",
      "metadata": {
        "id": "LJRZiddIGPP9"
      },
      "source": [
        "class PeminerParser:\n",
        "    def __init__(self, path):\n",
        "        self.report = read_json(path)\n",
        "        self.vector = []\n",
        "    \n",
        "    def process_report(self):\n",
        "        '''\n",
        "            전체 데이터 사용        \n",
        "        '''\n",
        "        self.vector = [value for _, value in sorted(self.report.items(), key=lambda x: x[0])]\n",
        "        return self.vector"
      ],
      "execution_count": 9,
      "outputs": []
    },
    {
      "cell_type": "code",
      "metadata": {
        "id": "CjYVFWhTGP4o"
      },
      "source": [
        "class EmberParser:\n",
        "    '''\n",
        "        예제에서 사용하지 않은 특징도 사용하여 벡터화 할 것을 권장\n",
        "    '''\n",
        "    def __init__(self, path):\n",
        "        self.report = read_json(path)\n",
        "        self.vector = []\n",
        "    \n",
        "    def get_histogram_info(self):\n",
        "        histogram = np.array(self.report[\"histogram\"])\n",
        "        total = histogram.sum()\n",
        "        vector = histogram / total\n",
        "        return vector.tolist()\n",
        "    \n",
        "    def get_string_info(self):\n",
        "        strings = self.report[\"strings\"]\n",
        "\n",
        "        hist_divisor = float(strings['printables']) if strings['printables'] > 0 else 1.0\n",
        "        vector = [\n",
        "            strings['numstrings'], \n",
        "            strings['avlength'], \n",
        "            strings['printables'],\n",
        "            strings['entropy'], \n",
        "            strings['paths'], \n",
        "            strings['urls'],\n",
        "            strings['registry'], \n",
        "            strings['MZ']\n",
        "        ]\n",
        "        vector += (np.asarray(strings['printabledist']) / hist_divisor).tolist()\n",
        "        return vector\n",
        "    \n",
        "    def get_general_file_info(self):\n",
        "        general = self.report[\"general\"]\n",
        "        vector = [\n",
        "            general['size'], general['vsize'], general['has_debug'], general['exports'], general['imports'],\n",
        "            general['has_relocations'], general['has_resources'], general['has_signature'], general['has_tls'],\n",
        "            general['symbols']\n",
        "        ]\n",
        "        return vector\n",
        "\n",
        "    def process_report(self):\n",
        "        vector = []\n",
        "        vector += self.get_general_file_info()\n",
        "        vector += self.get_histogram_info()\n",
        "        vector += self.get_string_info()\n",
        "        '''\n",
        "            특징 추가\n",
        "        '''\n",
        "        return vector"
      ],
      "execution_count": 10,
      "outputs": []
    },
    {
      "cell_type": "code",
      "metadata": {
        "id": "P2RoaWWnGPt0"
      },
      "source": [
        "class PestudioParser:\n",
        "    '''\n",
        "        사용할 특징을 선택하여 벡터화 할 것을 권장\n",
        "    '''\n",
        "    \n",
        "    def __init__(self, path):\n",
        "        self.report = read_json(path)\n",
        "        self.vector = []\n",
        "    \n",
        "    def process_report(self):\n",
        "        pass"
      ],
      "execution_count": 11,
      "outputs": []
    },
    {
      "cell_type": "markdown",
      "metadata": {
        "id": "wH_fYIR_GoO6"
      },
      "source": [
        "학습데이터 구성\n"
      ]
    },
    {
      "cell_type": "code",
      "metadata": {
        "id": "lx-P4FMQQ3e8"
      },
      "source": [
        "import os\n",
        "import queue\n",
        "\n",
        "peminer_data = []\n",
        "\n",
        "def get_subdir(path):\n",
        "    global peminer_data\n",
        "    try:  # 검색이 허가되지 않은 디렉토리 접근에 관한 예외처리\n",
        "        dirfiles = os.listdir(path)  # path에 해당하는 디렉토리 dirfiles에 추가\n",
        "    except PermissionError:\n",
        "        return []\n",
        "\n",
        "    subdir_list = []\n",
        "    for each in dirfiles:\n",
        "        if each.endswith(\".json\"):  # .txt로 끝나는 파일은 따로 all_txt리스트에 저장\n",
        "            peminer_data.append(path + each)\n",
        "        full_name = path + each  # path와 each(디렉토리)\n",
        "        if os.path.isdir(full_name):\n",
        "            subdir_list.append(full_name + \"/\")\n",
        "    return subdir_list\n",
        "\n",
        "\n",
        "dir_queue = queue.Queue()\n",
        "# /Library/ 아래의 모든 하위 디렉토리 찾기\n",
        "dir_queue.put(\"PEMINER/학습데이터/\")  # 검색하고자 하는 디렉토리를 줄 앞에 세움\n",
        "\n",
        "while not dir_queue.empty():  # 큐가 비어있는 상태인지 확인\n",
        "    dir_name = dir_queue.get()  # 큐에서 빼낸 dir_name\n",
        "    subdir_names = get_subdir(dir_name)  # dir_name의 하위 디렉토리를 subdir_names에 저장\n",
        "    for each in subdir_names:  # subdir_names리스트에 있는 디렉토리들을 다시 큐에 넣음\n",
        "        dir_queue.put(each)\n",
        "\n",
        "for dir in peminer_data:\n",
        "    print(dir)"
      ],
      "execution_count": null,
      "outputs": []
    },
    {
      "cell_type": "code",
      "metadata": {
        "id": "eJ-RQSBTXqGg"
      },
      "source": [
        "import os\n",
        "import queue\n",
        "\n",
        "ember_data = []\n",
        "\n",
        "def get_subdir(path):\n",
        "    global ember_data\n",
        "    try:  # 검색이 허가되지 않은 디렉토리 접근에 관한 예외처리\n",
        "        dirfiles = os.listdir(path)  # path에 해당하는 디렉토리 dirfiles에 추가\n",
        "    except PermissionError:\n",
        "        return []\n",
        "\n",
        "    subdir_list = []\n",
        "    for each in dirfiles:\n",
        "        if each.endswith(\".json\"):  # .txt로 끝나는 파일은 따로 all_txt리스트에 저장\n",
        "            ember_data.append(path + each)\n",
        "        full_name = path + each  # path와 each(디렉토리)\n",
        "        if os.path.isdir(full_name):\n",
        "            subdir_list.append(full_name + \"/\")\n",
        "    return subdir_list\n",
        "\n",
        "\n",
        "dir_queue = queue.Queue()\n",
        "# /Library/ 아래의 모든 하위 디렉토리 찾기\n",
        "dir_queue.put(\"EMBER/학습데이터/\")  # 검색하고자 하는 디렉토리를 줄 앞에 세움\n",
        "\n",
        "while not dir_queue.empty():  # 큐가 비어있는 상태인지 확인\n",
        "    dir_name = dir_queue.get()  # 큐에서 빼낸 dir_name\n",
        "    subdir_names = get_subdir(dir_name)  # dir_name의 하위 디렉토리를 subdir_names에 저장\n",
        "    for each in subdir_names:  # subdir_names리스트에 있는 디렉토리들을 다시 큐에 넣음\n",
        "        dir_queue.put(each)\n",
        "\n",
        "for dir in ember_data:\n",
        "    print(dir)"
      ],
      "execution_count": null,
      "outputs": []
    },
    {
      "cell_type": "code",
      "metadata": {
        "id": "6_wfhNejGnrd",
        "outputId": "7ef67e48-fce9-4396-be92-e74f2ed28706",
        "colab": {
          "base_uri": "https://localhost:8080/"
        }
      },
      "source": [
        "# 데이터의 특징 벡터 모음(2차원 리스트) : X\n",
        "# 데이터의 레이블 모음(1차원 리스트) : y\n",
        "X, y = [], []\n",
        "\n",
        "for path in peminer_data:\n",
        "  feature_vector = []\n",
        "  temp, fdata, fname = path.strip().split(\"/\")\n",
        "  fname = fname.replace(\".json\",\"\")\n",
        "  label = learn_label_table[fname]\n",
        "  for data in [\"PEMINER\", \"EMBER\"]:\n",
        "        path = f\"{data}/{fdata}/{fname}.json\"\n",
        "        if data == \"PEMINER\":\n",
        "            feature_vector += PeminerParser(path).process_report()\n",
        "        else:\n",
        "            feature_vector += EmberParser(path).process_report()\n",
        "  X.append(feature_vector)\n",
        "  y.append(label)\n",
        "\n",
        "for path in ember_data:\n",
        "  feature_vector = []\n",
        "  temp, fdata, fname = path.strip().split(\"/\")\n",
        "  fname = fname.replace(\".json\",\"\")\n",
        "  label = learn_label_table[fname]\n",
        "  for data in [\"PEMINER\", \"EMBER\"]:\n",
        "        path = f\"{data}/{fdata}/{fname}.json\"\n",
        "        if data == \"PEMINER\":\n",
        "            feature_vector += PeminerParser(path).process_report()\n",
        "        else:\n",
        "            feature_vector += EmberParser(path).process_report()\n",
        "  X.append(feature_vector)\n",
        "  y.append(label)\n",
        "\n",
        "np.asarray(X).shape, np.asarray(y).shape"
      ],
      "execution_count": 45,
      "outputs": [
        {
          "output_type": "execute_result",
          "data": {
            "text/plain": [
              "((40000, 558), (40000,))"
            ]
          },
          "metadata": {
            "tags": []
          },
          "execution_count": 45
        }
      ]
    },
    {
      "cell_type": "code",
      "metadata": {
        "id": "EiVxs_7cbuFD",
        "outputId": "e8fd910e-ae41-4905-d00d-f901a4b4a215",
        "colab": {
          "base_uri": "https://localhost:8080/"
        }
      },
      "source": [
        "X, y = [], []\n",
        "for fname_ in [\"학습데이터/000c4ae5e00a1d4de991a9decf9ecbac59ed5582f5972f05b48bc1a1fe57338a\", \"학습데이터/00ed7bc707559e6e63818b2bba0ac6b338ba17d95aea6f0838cbdc40cb9acd94\"]:\n",
        "    feature_vector = []\n",
        "    fdata, fname = fname_.strip().split(\"/\")\n",
        "    label = learn_label_table[fname]\n",
        "    for data in [\"PEMINER\", \"EMBER\"]:\n",
        "        path = f\"{data}/{fname_}.json\"\n",
        "        if data == \"PEMINER\":\n",
        "            feature_vector += PeminerParser(path).process_report()\n",
        "        else:\n",
        "            feature_vector += EmberParser(path).process_report()\n",
        "    X.append(feature_vector)\n",
        "    y.append(label)\n",
        "\n",
        "np.asarray(X).shape, np.asarray(y).shape"
      ],
      "execution_count": 42,
      "outputs": [
        {
          "output_type": "execute_result",
          "data": {
            "text/plain": [
              "((2, 558), (2,))"
            ]
          },
          "metadata": {
            "tags": []
          },
          "execution_count": 42
        }
      ]
    },
    {
      "cell_type": "markdown",
      "metadata": {
        "id": "cJoqBTsAIaPG"
      },
      "source": [
        "검증데이터 구성"
      ]
    },
    {
      "cell_type": "code",
      "metadata": {
        "id": "KSdc5ApKGQ9z"
      },
      "source": [
        "import os\n",
        "import queue\n",
        "\n",
        "peminer_veri_data = []\n",
        "\n",
        "def get_subdir(path):\n",
        "    global peminer_veri_data\n",
        "    try:  # 검색이 허가되지 않은 디렉토리 접근에 관한 예외처리\n",
        "        dirfiles = os.listdir(path)  # path에 해당하는 디렉토리 dirfiles에 추가\n",
        "    except PermissionError:\n",
        "        return []\n",
        "\n",
        "    subdir_list = []\n",
        "    for each in dirfiles:\n",
        "        if each.endswith(\".json\"):  # .txt로 끝나는 파일은 따로 all_txt리스트에 저장\n",
        "            peminer_veri_data.append(path + each)\n",
        "        full_name = path + each  # path와 each(디렉토리)\n",
        "        if os.path.isdir(full_name):\n",
        "            subdir_list.append(full_name + \"/\")\n",
        "    return subdir_list\n",
        "\n",
        "\n",
        "dir_queue = queue.Queue()\n",
        "# /Library/ 아래의 모든 하위 디렉토리 찾기\n",
        "dir_queue.put(\"PEMINER/검증데이터/\")  # 검색하고자 하는 디렉토리를 줄 앞에 세움\n",
        "\n",
        "while not dir_queue.empty():  # 큐가 비어있는 상태인지 확인\n",
        "    dir_name = dir_queue.get()  # 큐에서 빼낸 dir_name\n",
        "    subdir_names = get_subdir(dir_name)  # dir_name의 하위 디렉토리를 subdir_names에 저장\n",
        "    for each in subdir_names:  # subdir_names리스트에 있는 디렉토리들을 다시 큐에 넣음\n",
        "        dir_queue.put(each)\n",
        "\n",
        "for dir in peminer_veri_data:\n",
        "    print(dir)"
      ],
      "execution_count": null,
      "outputs": []
    },
    {
      "cell_type": "code",
      "metadata": {
        "id": "B4rO4P3YnB7X"
      },
      "source": [
        "import os\n",
        "import queue\n",
        "\n",
        "ember_veri_data = []\n",
        "\n",
        "def get_subdir(path):\n",
        "    global ember_veri_data\n",
        "    try:  # 검색이 허가되지 않은 디렉토리 접근에 관한 예외처리\n",
        "        dirfiles = os.listdir(path)  # path에 해당하는 디렉토리 dirfiles에 추가\n",
        "    except PermissionError:\n",
        "        return []\n",
        "\n",
        "    subdir_list = []\n",
        "    for each in dirfiles:\n",
        "        if each.endswith(\".json\"):  # .txt로 끝나는 파일은 따로 all_txt리스트에 저장\n",
        "            ember_veri_data.append(path + each)\n",
        "        full_name = path + each  # path와 each(디렉토리)\n",
        "        if os.path.isdir(full_name):\n",
        "            subdir_list.append(full_name + \"/\")\n",
        "    return subdir_list\n",
        "\n",
        "\n",
        "dir_queue = queue.Queue()\n",
        "# /Library/ 아래의 모든 하위 디렉토리 찾기\n",
        "dir_queue.put(\"EMBER/검증데이터/\")  # 검색하고자 하는 디렉토리를 줄 앞에 세움\n",
        "\n",
        "while not dir_queue.empty():  # 큐가 비어있는 상태인지 확인\n",
        "    dir_name = dir_queue.get()  # 큐에서 빼낸 dir_name\n",
        "    subdir_names = get_subdir(dir_name)  # dir_name의 하위 디렉토리를 subdir_names에 저장\n",
        "    for each in subdir_names:  # subdir_names리스트에 있는 디렉토리들을 다시 큐에 넣음\n",
        "        dir_queue.put(each)\n",
        "\n",
        "for dir in ember_veri_data:\n",
        "    print(dir)"
      ],
      "execution_count": null,
      "outputs": []
    },
    {
      "cell_type": "code",
      "metadata": {
        "id": "XskaeAIdnCNY",
        "outputId": "f90f533a-394b-4f5e-ce0f-b47e1335035e",
        "colab": {
          "base_uri": "https://localhost:8080/"
        }
      },
      "source": [
        "# 데이터의 특징 벡터 모음(2차원 리스트) : X\n",
        "# 데이터의 레이블 모음(1차원 리스트) : y\n",
        "A, b = [], []\n",
        "\n",
        "for path in peminer_veri_data:\n",
        "  feature_vector = []\n",
        "  temp, fdata, fname = path.strip().split(\"/\")\n",
        "  fname = fname.replace(\".json\",\"\")\n",
        "  label = verify_label_table[fname]\n",
        "  for data in [\"PEMINER\", \"EMBER\"]:\n",
        "        path = f\"{data}/{fdata}/{fname}.json\"\n",
        "        if data == \"PEMINER\":\n",
        "            feature_vector += PeminerParser(path).process_report()\n",
        "        else:\n",
        "            feature_vector += EmberParser(path).process_report()\n",
        "  A.append(feature_vector)\n",
        "  b.append(label)\n",
        "\n",
        "for path in ember_veri_data:\n",
        "  feature_vector = []\n",
        "  temp, fdata, fname = path.strip().split(\"/\")\n",
        "  fname = fname.replace(\".json\",\"\")\n",
        "  label = verify_label_table[fname]\n",
        "  for data in [\"PEMINER\", \"EMBER\"]:\n",
        "        path = f\"{data}/{fdata}/{fname}.json\"\n",
        "        if data == \"PEMINER\":\n",
        "            feature_vector += PeminerParser(path).process_report()\n",
        "        else:\n",
        "            feature_vector += EmberParser(path).process_report()\n",
        "  A.append(feature_vector)\n",
        "  b.append(label)\n",
        "\n",
        "np.asarray(A).shape, np.asarray(b).shape"
      ],
      "execution_count": 55,
      "outputs": [
        {
          "output_type": "execute_result",
          "data": {
            "text/plain": [
              "((20000, 558), (20000,))"
            ]
          },
          "metadata": {
            "tags": []
          },
          "execution_count": 55
        }
      ]
    },
    {
      "cell_type": "code",
      "metadata": {
        "id": "YHvwvHTSnBs0"
      },
      "source": [
        ""
      ],
      "execution_count": null,
      "outputs": []
    },
    {
      "cell_type": "markdown",
      "metadata": {
        "id": "7D4p7EzGHzbm"
      },
      "source": [
        "학습 및 검증"
      ]
    },
    {
      "cell_type": "code",
      "metadata": {
        "id": "WjDcWbxPH5Nn"
      },
      "source": [
        "SEED = 41\n",
        "\n",
        "def load_model(**kwargs):\n",
        "    if kwargs[\"model\"] == \"rf\":\n",
        "        return RandomForestClassifier(random_state=kwargs[\"random_state\"], n_jobs=4)\n",
        "    elif kwargs[\"model\"] == \"dt\": # decision tree\n",
        "        return DecisionTreeClassifier(random_state=kwargs[\"random_state\"])\n",
        "    elif kwargs[\"model\"] == \"lgb\":\n",
        "        return LGBMClassifier(random_state=kwargs[\"random_state\"])\n",
        "    elif kwargs[\"model\"] == \"svm\":\n",
        "        return SVC(random_state=kwargs[\"random_state\"])\n",
        "    elif kwargs[\"model\"] == \"lr\":\n",
        "        return LogisticRegression(random_state=kwargs[\"random_state\"], n_jobs=-1)\n",
        "    elif kwargs[\"model\"] == \"knn\":\n",
        "        return KNeighborsClassifier(n_jobs=-1)\n",
        "    elif kwargs[\"model\"] == \"adaboost\":\n",
        "        return AdaBoostClassifier(random_state=kwargs[\"random_state\"])\n",
        "    elif kwargs[\"model\"] == \"mlp\":\n",
        "        return MLPClassifier(random_state=kwargs[\"random_state\"])\n",
        "    else:\n",
        "        print(\"Unsupported Algorithm\")\n",
        "        return None\n",
        "\n",
        "def train(X_train, y_train, model):\n",
        "    '''\n",
        "        머신러닝 모델을 선택하여 학습을 진행하는 함수\n",
        "\t\n",
        "        :param X_train: 학습할 2차원 리스트 특징벡터\n",
        "        :param y_train: 학습할 1차원 리스트 레이블 벡터\n",
        "        :param model: 문자열, 선택할 머신러닝 알고리즘\n",
        "        :return: 학습된 머신러닝 모델 객체\n",
        "    '''\n",
        "    clf = load_model(model=model, random_state=SEED)\n",
        "    clf.fit(X_train, y_train)\n",
        "    return clf\n",
        "\n",
        "def evaluate(X_test, y_test, model):\n",
        "    '''\n",
        "        학습된 머신러닝 모델로 검증 데이터를 검증하는 함수\n",
        "\t\n",
        "        :param X_test: 검증할 2차원 리스트 특징 벡터\n",
        "        :param y_test: 검증할 1차원 리스트 레이블 벡터\n",
        "        :param model: 학습된 머신러닝 모델 객체\n",
        "    '''\n",
        "    predict = model.predict(X_test)\n",
        "    print(\"정확도\", model.score(X_test, y_test))\n"
      ],
      "execution_count": 48,
      "outputs": []
    },
    {
      "cell_type": "code",
      "metadata": {
        "id": "cbWTdCAdGRAr",
        "outputId": "02f0c47f-c671-44fd-816d-2a4e897897d4",
        "colab": {
          "base_uri": "https://localhost:8080/"
        }
      },
      "source": [
        "# 학습\n",
        "models = []\n",
        "for model in [\"rf\", \"lgb\"]:\n",
        "    clf = train(X, y, model)\n",
        "    models.append(clf)\n",
        "\n",
        "# 검증\n",
        "# 실제 검증 시에는 제공한 검증데이터를 검증에 사용해야 함\n",
        "for model in models:\n",
        "    evaluate(A, b, model)"
      ],
      "execution_count": 56,
      "outputs": [
        {
          "output_type": "stream",
          "text": [
            "정확도 0.9436\n",
            "정확도 0.9523\n"
          ],
          "name": "stdout"
        }
      ]
    },
    {
      "cell_type": "markdown",
      "metadata": {
        "id": "2BymEmm0qN8C"
      },
      "source": [
        "앙상블 예제"
      ]
    },
    {
      "cell_type": "code",
      "metadata": {
        "id": "gpMv5cR0GRGt"
      },
      "source": [
        "def ensemble_result(X, y, models):\n",
        "    '''\n",
        "        학습된 모델들의 결과를 앙상블하는 함수\n",
        "\t\n",
        "        :param X: 검증할 2차원 리스트 특징 벡터\n",
        "        :param y: 검증할 1차원 리스트 레이블 벡터\n",
        "        :param models: 1개 이상의 학습된 머신러닝 모델 객체를 가지는 1차원 리스트\n",
        "    '''\n",
        "    \n",
        "    # Soft Voting\n",
        "    # https://devkor.tistory.com/entry/Soft-Voting-%EA%B3%BC-Hard-Voting\n",
        "    predicts = []\n",
        "    for i in range(len(X)):\n",
        "        probs = []\n",
        "        for model in models:\n",
        "            prob = model.predict_proba(X)[i][1]\n",
        "            probs.append(prob)\n",
        "        predict = 1 if np.mean(probs) >= 0.5 else 0\n",
        "        predicts.append(predict)\n",
        "        \n",
        "    print(\"정확도\", accuracy_score(y, predicts))"
      ],
      "execution_count": 57,
      "outputs": []
    },
    {
      "cell_type": "code",
      "metadata": {
        "id": "8cYbnqlhGRLj"
      },
      "source": [
        "ensemble_result(A, b, models)"
      ],
      "execution_count": null,
      "outputs": []
    },
    {
      "cell_type": "code",
      "metadata": {
        "id": "L_wO8elFGRSE"
      },
      "source": [
        ""
      ],
      "execution_count": null,
      "outputs": []
    },
    {
      "cell_type": "code",
      "metadata": {
        "id": "AxubqDvDGRUc"
      },
      "source": [
        ""
      ],
      "execution_count": null,
      "outputs": []
    },
    {
      "cell_type": "code",
      "metadata": {
        "id": "OqKnwHOOGRXS"
      },
      "source": [
        ""
      ],
      "execution_count": null,
      "outputs": []
    }
  ]
}