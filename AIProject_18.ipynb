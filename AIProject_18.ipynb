{
  "nbformat": 4,
  "nbformat_minor": 0,
  "metadata": {
    "colab": {
      "name": "AIProject_18.ipynb",
      "provenance": [],
      "collapsed_sections": [
        "VdCXZkBhLYs8",
        "lnvablNa6aw1"
      ],
      "toc_visible": true
    },
    "kernelspec": {
      "display_name": "Python 3",
      "name": "python3"
    }
  },
  "cells": [
    {
      "cell_type": "markdown",
      "metadata": {
        "id": "aMOmT6o2LI8u"
      },
      "source": [
        "### 필요한 라이브러리 설치"
      ]
    },
    {
      "cell_type": "code",
      "metadata": {
        "id": "KVM0UZ_0LL14"
      },
      "source": [
        "!pip install pefile\n",
        "!pip install numpy\n",
        "!pip install sklearn\n",
        "!pip install lightgbm\n",
        "!pip install tqdm\n",
        "!pip install pandas\n",
        "!pip install graphviz\n",
        "!pip install overload\n",
        "!pip install lief"
      ],
      "execution_count": null,
      "outputs": []
    },
    {
      "cell_type": "markdown",
      "metadata": {
        "id": "orRRzVaCLVC0"
      },
      "source": [
        "### 구글 드라이브 연동 및 데이터 다운로드"
      ]
    },
    {
      "cell_type": "code",
      "metadata": {
        "colab": {
          "base_uri": "https://localhost:8080/"
        },
        "id": "DOn0diWJA0ny",
        "outputId": "dbab7a5e-2d37-4f5d-cd1d-ccf815f4af88"
      },
      "source": [
        "from google.colab import drive\n",
        "drive.mount('/content/drive')"
      ],
      "execution_count": null,
      "outputs": [
        {
          "output_type": "stream",
          "text": [
            "Mounted at /content/drive\n"
          ],
          "name": "stdout"
        }
      ]
    },
    {
      "cell_type": "code",
      "metadata": {
        "id": "keIII2QCBq74"
      },
      "source": [
        "!unzip /content/drive/My\\ Drive/데이터.zip"
      ],
      "execution_count": null,
      "outputs": []
    },
    {
      "cell_type": "markdown",
      "metadata": {
        "id": "VdCXZkBhLYs8"
      },
      "source": [
        "### 사용할 헤더"
      ]
    },
    {
      "cell_type": "code",
      "metadata": {
        "id": "EZgc6h0EBrCB"
      },
      "source": [
        "## Tutorial\n",
        "import os\n",
        "import glob\n",
        "import json\n",
        "import pprint\n",
        "\n",
        "import numpy as np\n",
        "\n",
        "from lightgbm import LGBMClassifier\n",
        "\n",
        "from sklearn.svm import SVC\n",
        "from sklearn.tree import DecisionTreeClassifier\n",
        "from sklearn.ensemble import RandomForestClassifier\n",
        "from sklearn.ensemble import AdaBoostClassifier\n",
        "from sklearn.neighbors import KNeighborsClassifier\n",
        "from sklearn.linear_model import LogisticRegression\n",
        "from sklearn.neural_network import MLPClassifier\n",
        "\n",
        "from sklearn.metrics import accuracy_score\n",
        "from sklearn.pipeline import Pipeline\n",
        "from sklearn.feature_selection import RFE\n",
        "\n",
        "## PE-Miner\n",
        "import pickle\n",
        "# import  peminer\n",
        "import seaborn as sns\n",
        "# from overload import overload\n",
        "\n",
        "## Ember\n",
        "# import  ember\n",
        "#import pandas as pd\n",
        "import  pandas as  pd\n",
        "from  tqdm.notebook import  tqdm\n",
        "from  sklearn import  tree\n",
        "from  sklearn.metrics import  precision_score\n",
        "from  sklearn.metrics import  recall_score\n",
        "from  sklearn.metrics import  f1_score\n",
        "from  sklearn.metrics import  plot_confusion_matrix\n",
        "from  sklearn.metrics import  confusion_matrix\n",
        "from  sklearn.model_selection import  GridSearchCV\n",
        "import  matplotlib.pyplot as  plt\n",
        "from sklearn.feature_extraction import FeatureHasher\n",
        "\n",
        "# from  pprint import  pprint\n",
        "\n",
        "%matplotlib inline"
      ],
      "execution_count": null,
      "outputs": []
    },
    {
      "cell_type": "markdown",
      "metadata": {
        "id": "7SmvNpNbLbCS"
      },
      "source": [
        "### 파일 읽기"
      ]
    },
    {
      "cell_type": "code",
      "metadata": {
        "id": "6kyjjezGBrGv"
      },
      "source": [
        "def read_label_csv(path):\n",
        "    label_table = dict()\n",
        "    with open(path, \"r\", encoding = \"cp949\") as f: #csv파일을 읽는다\n",
        "        for line in f.readlines()[1:]:\n",
        "            fname, label = line.strip().split(\",\")\n",
        "            label_table[fname] = int(label)\n",
        "    return label_table\n",
        "\n",
        "def read_json(path):\n",
        "    with open(path, \"r\") as f:  #json파일을 읽는다 \n",
        "        return json.load(f)"
      ],
      "execution_count": null,
      "outputs": []
    },
    {
      "cell_type": "code",
      "metadata": {
        "id": "d5qFXrt5BrIr"
      },
      "source": [
        "learn_label_table = read_label_csv(\"학습데이터_정답.csv\")\n",
        "verify_label_table = read_label_csv(\"검증데이터_정답.csv\")"
      ],
      "execution_count": null,
      "outputs": []
    },
    {
      "cell_type": "markdown",
      "metadata": {
        "id": "_fR3Sl5BF0WF"
      },
      "source": [
        "###특징 벡터 생성 예시\n",
        "\n",
        "*   PEMINER 정보는 모두 수치형 데이터이므로 특별히 가공을 하지 않고 사용 가능\n",
        "*   EMBER, PESTUDIO 정보는 가공해서 사용해야 할 특징들이 있음 (e.g. imports, exports 등의 문자열 정보를 가지는 데이터)\n",
        "*   수치형 데이터가 아닌 데이터(범주형 데이터)를 어떻게 가공할 지가 관건 >> 인코딩 (e.g. 원핫인코딩, 레이블인코딩 등)\n"
      ]
    },
    {
      "cell_type": "markdown",
      "metadata": {
        "id": "rsCIDYxy73dU"
      },
      "source": [
        "> #### PEMINER\n",
        "\n"
      ]
    },
    {
      "cell_type": "code",
      "metadata": {
        "id": "LJRZiddIGPP9"
      },
      "source": [
        "## 중요도가 높은 상위 10개 단위로 가져온 리스트들\n",
        "# peminer_header_10 = ['OptionalHeader.ImageBase', 'OptionalHeader.DataDirectory.IMAGE_DIRECTORY_ENTRY_SECURITY.Size', 'OptionalHeader.DataDirectory.IMAGE_DIRECTORY_ENTRY_EXPORT.Size', 'FileHeader.Characteristics', 'OptionalHeader.DataDirectory.IMAGE_DIRECTORY_ENTRY_SECURITY.VirtualAddress', 'OptionalHeader.DataDirectory.IMAGE_DIRECTORY_ENTRY_EXPORT.VirtualAddress', 'OptionalHeader.AddressOfEntryPoint', 'OptionalHeader.CheckSum', 'OptionalHeader.SizeOfImage', 'OptionalHeader.DataDirectory.IMAGE_DIRECTORY_ENTRY_IMPORT.Size']\n",
        "# peminer_header_20 = ['OptionalHeader.ImageBase', 'OptionalHeader.DataDirectory.IMAGE_DIRECTORY_ENTRY_SECURITY.Size', 'OptionalHeader.DataDirectory.IMAGE_DIRECTORY_ENTRY_EXPORT.Size', 'FileHeader.Characteristics', 'OptionalHeader.DataDirectory.IMAGE_DIRECTORY_ENTRY_SECURITY.VirtualAddress', 'OptionalHeader.DataDirectory.IMAGE_DIRECTORY_ENTRY_EXPORT.VirtualAddress', 'OptionalHeader.AddressOfEntryPoint', 'OptionalHeader.CheckSum', 'OptionalHeader.SizeOfImage', 'OptionalHeader.DataDirectory.IMAGE_DIRECTORY_ENTRY_IMPORT.Size', 'OptionalHeader.DataDirectory.IMAGE_DIRECTORY_ENTRY_RESOURCE.Size', 'Section.rsrc.VirtualSize', 'OptionalHeader.MajorOperatingSystemVersion', 'OptionalHeader.MajorImageVersion', 'OptionalHeader.DataDirectory.IMAGE_DIRECTORY_ENTRY_IAT.Size', 'OptionalHeader.DataDirectory.IMAGE_DIRECTORY_ENTRY_IMPORT.VirtualAddress', 'OptionalHeader.Subsystem', 'OptionalHeader.DataDirectory.IMAGE_DIRECTORY_ENTRY_RESOURCE.VirtualAddress', 'OptionalHeader.SizeOfCode', 'Section.rsrc.SizeOfRawData']\n",
        "# peminer_header_30 = ['OptionalHeader.ImageBase', 'OptionalHeader.DataDirectory.IMAGE_DIRECTORY_ENTRY_SECURITY.Size', 'OptionalHeader.DataDirectory.IMAGE_DIRECTORY_ENTRY_EXPORT.Size', 'FileHeader.Characteristics', 'OptionalHeader.DataDirectory.IMAGE_DIRECTORY_ENTRY_SECURITY.VirtualAddress', 'OptionalHeader.DataDirectory.IMAGE_DIRECTORY_ENTRY_EXPORT.VirtualAddress', 'OptionalHeader.AddressOfEntryPoint', 'OptionalHeader.CheckSum', 'OptionalHeader.SizeOfImage', 'OptionalHeader.DataDirectory.IMAGE_DIRECTORY_ENTRY_IMPORT.Size', 'OptionalHeader.DataDirectory.IMAGE_DIRECTORY_ENTRY_RESOURCE.Size', 'Section.rsrc.VirtualSize', 'OptionalHeader.MajorOperatingSystemVersion', 'OptionalHeader.MajorImageVersion', 'OptionalHeader.DataDirectory.IMAGE_DIRECTORY_ENTRY_IAT.Size', 'OptionalHeader.DataDirectory.IMAGE_DIRECTORY_ENTRY_IMPORT.VirtualAddress', 'OptionalHeader.Subsystem', 'OptionalHeader.DataDirectory.IMAGE_DIRECTORY_ENTRY_RESOURCE.VirtualAddress', 'OptionalHeader.SizeOfCode', 'Section.rsrc.SizeOfRawData', 'OptionalHeader.MajorLinkerVersion', 'Section.rsrc.VirtualAddress', 'OptionalHeader.DllCharacteristics', 'Section.data.VirtualSize', 'Section.rsrc.PointerToRawData', 'Section.text.VirtualSize', 'OptionalHeader.SizeOfInitializedData', 'OptionalHeader.BaseOfData', 'Section.data.PointerToRawData', 'OptionalHeader.DataDirectory.IMAGE_DIRECTORY_ENTRY_BASERELOC.Size']\n",
        "peminer_header_40 = ['OptionalHeader.ImageBase', 'OptionalHeader.DataDirectory.IMAGE_DIRECTORY_ENTRY_SECURITY.Size', 'OptionalHeader.DataDirectory.IMAGE_DIRECTORY_ENTRY_EXPORT.Size', 'FileHeader.Characteristics', 'OptionalHeader.DataDirectory.IMAGE_DIRECTORY_ENTRY_SECURITY.VirtualAddress', 'OptionalHeader.DataDirectory.IMAGE_DIRECTORY_ENTRY_EXPORT.VirtualAddress', 'OptionalHeader.AddressOfEntryPoint', 'OptionalHeader.CheckSum', 'OptionalHeader.SizeOfImage', 'OptionalHeader.DataDirectory.IMAGE_DIRECTORY_ENTRY_IMPORT.Size', 'OptionalHeader.DataDirectory.IMAGE_DIRECTORY_ENTRY_RESOURCE.Size', 'Section.rsrc.VirtualSize', 'OptionalHeader.MajorOperatingSystemVersion', 'OptionalHeader.MajorImageVersion', 'OptionalHeader.DataDirectory.IMAGE_DIRECTORY_ENTRY_IAT.Size', 'OptionalHeader.DataDirectory.IMAGE_DIRECTORY_ENTRY_IMPORT.VirtualAddress', 'OptionalHeader.Subsystem', 'OptionalHeader.DataDirectory.IMAGE_DIRECTORY_ENTRY_RESOURCE.VirtualAddress', 'OptionalHeader.SizeOfCode', 'Section.rsrc.SizeOfRawData', 'OptionalHeader.MajorLinkerVersion', 'Section.rsrc.VirtualAddress', 'OptionalHeader.DllCharacteristics', 'Section.data.VirtualSize', 'Section.rsrc.PointerToRawData', 'Section.text.VirtualSize', 'OptionalHeader.SizeOfInitializedData', 'OptionalHeader.BaseOfData', 'Section.data.PointerToRawData', 'OptionalHeader.DataDirectory.IMAGE_DIRECTORY_ENTRY_BASERELOC.Size', 'Section.text.SizeOfRawData', 'OptionalHeader.DataDirectory.IMAGE_DIRECTORY_ENTRY_DEBUG.VirtualAddress', 'Section.data.VirtualAddress', 'Section.data.SizeOfRawData', 'OptionalHeader.MajorSubsystemVersion', 'OptionalHeader.DataDirectory.IMAGE_DIRECTORY_ENTRY_IAT.VirtualAddress', 'OptionalHeader.DataDirectory.IMAGE_DIRECTORY_ENTRY_DEBUG.Size', 'OptionalHeader.DataDirectory.IMAGE_DIRECTORY_ENTRY_BASERELOC.VirtualAddress', 'OptionalHeader.DataDirectory.IMAGE_DIRECTORY_ENTRY_LOAD_CONFIG.Size', 'OptionalHeader.DataDirectory.IMAGE_DIRECTORY_ENTRY_TLS.VirtualAddress']\n",
        "# peminer_header_50 = ['OptionalHeader.ImageBase', 'OptionalHeader.DataDirectory.IMAGE_DIRECTORY_ENTRY_SECURITY.Size', 'OptionalHeader.DataDirectory.IMAGE_DIRECTORY_ENTRY_EXPORT.Size', 'FileHeader.Characteristics', 'OptionalHeader.DataDirectory.IMAGE_DIRECTORY_ENTRY_SECURITY.VirtualAddress', 'OptionalHeader.DataDirectory.IMAGE_DIRECTORY_ENTRY_EXPORT.VirtualAddress', 'OptionalHeader.AddressOfEntryPoint', 'OptionalHeader.CheckSum', 'OptionalHeader.SizeOfImage', 'OptionalHeader.DataDirectory.IMAGE_DIRECTORY_ENTRY_IMPORT.Size', 'OptionalHeader.DataDirectory.IMAGE_DIRECTORY_ENTRY_RESOURCE.Size', 'Section.rsrc.VirtualSize', 'OptionalHeader.MajorOperatingSystemVersion', 'OptionalHeader.MajorImageVersion', 'OptionalHeader.DataDirectory.IMAGE_DIRECTORY_ENTRY_IAT.Size', 'OptionalHeader.DataDirectory.IMAGE_DIRECTORY_ENTRY_IMPORT.VirtualAddress', 'OptionalHeader.Subsystem', 'OptionalHeader.DataDirectory.IMAGE_DIRECTORY_ENTRY_RESOURCE.VirtualAddress', 'OptionalHeader.SizeOfCode', 'Section.rsrc.SizeOfRawData', 'OptionalHeader.MajorLinkerVersion', 'Section.rsrc.VirtualAddress', 'OptionalHeader.DllCharacteristics', 'Section.data.VirtualSize', 'Section.rsrc.PointerToRawData', 'Section.text.VirtualSize', 'OptionalHeader.SizeOfInitializedData', 'OptionalHeader.BaseOfData', 'Section.data.PointerToRawData', 'OptionalHeader.DataDirectory.IMAGE_DIRECTORY_ENTRY_BASERELOC.Size', 'Section.text.SizeOfRawData', 'OptionalHeader.DataDirectory.IMAGE_DIRECTORY_ENTRY_DEBUG.VirtualAddress', 'Section.data.VirtualAddress', 'Section.data.SizeOfRawData', 'OptionalHeader.MajorSubsystemVersion', 'OptionalHeader.DataDirectory.IMAGE_DIRECTORY_ENTRY_IAT.VirtualAddress', 'OptionalHeader.DataDirectory.IMAGE_DIRECTORY_ENTRY_DEBUG.Size', 'OptionalHeader.DataDirectory.IMAGE_DIRECTORY_ENTRY_BASERELOC.VirtualAddress', 'OptionalHeader.DataDirectory.IMAGE_DIRECTORY_ENTRY_LOAD_CONFIG.Size', 'OptionalHeader.DataDirectory.IMAGE_DIRECTORY_ENTRY_TLS.VirtualAddress', 'OptionalHeader.DataDirectory.IMAGE_DIRECTORY_ENTRY_LOAD_CONFIG.VirtualAddress', 'OptionalHeader.SizeOfUninitializedData', 'OptionalHeader.MinorLinkerVersion', 'COMCTL32.DLL', 'OptionalHeader.SizeOfStackReserve', 'Section.text.PointerToRawData', 'OptionalHeader.SizeOfStackCommit', 'OptionalHeader.DataDirectory.IMAGE_DIRECTORY_ENTRY_DELAY_IMPORT.VirtualAddress', 'VERSION.DLL', 'Section.text.Characteristics']\n",
        "# peminer_header_60 = ['OptionalHeader.ImageBase', 'OptionalHeader.DataDirectory.IMAGE_DIRECTORY_ENTRY_SECURITY.Size', 'OptionalHeader.DataDirectory.IMAGE_DIRECTORY_ENTRY_EXPORT.Size', 'FileHeader.Characteristics', 'OptionalHeader.DataDirectory.IMAGE_DIRECTORY_ENTRY_SECURITY.VirtualAddress', 'OptionalHeader.DataDirectory.IMAGE_DIRECTORY_ENTRY_EXPORT.VirtualAddress', 'OptionalHeader.AddressOfEntryPoint', 'OptionalHeader.CheckSum', 'OptionalHeader.SizeOfImage', 'OptionalHeader.DataDirectory.IMAGE_DIRECTORY_ENTRY_IMPORT.Size', 'OptionalHeader.DataDirectory.IMAGE_DIRECTORY_ENTRY_RESOURCE.Size', 'Section.rsrc.VirtualSize', 'OptionalHeader.MajorOperatingSystemVersion', 'OptionalHeader.MajorImageVersion', 'OptionalHeader.DataDirectory.IMAGE_DIRECTORY_ENTRY_IAT.Size', 'OptionalHeader.DataDirectory.IMAGE_DIRECTORY_ENTRY_IMPORT.VirtualAddress', 'OptionalHeader.Subsystem', 'OptionalHeader.DataDirectory.IMAGE_DIRECTORY_ENTRY_RESOURCE.VirtualAddress', 'OptionalHeader.SizeOfCode', 'Section.rsrc.SizeOfRawData', 'OptionalHeader.MajorLinkerVersion', 'Section.rsrc.VirtualAddress', 'OptionalHeader.DllCharacteristics', 'Section.data.VirtualSize', 'Section.rsrc.PointerToRawData', 'Section.text.VirtualSize', 'OptionalHeader.SizeOfInitializedData', 'OptionalHeader.BaseOfData', 'Section.data.PointerToRawData', 'OptionalHeader.DataDirectory.IMAGE_DIRECTORY_ENTRY_BASERELOC.Size', 'Section.text.SizeOfRawData', 'OptionalHeader.DataDirectory.IMAGE_DIRECTORY_ENTRY_DEBUG.VirtualAddress', 'Section.data.VirtualAddress', 'Section.data.SizeOfRawData', 'OptionalHeader.MajorSubsystemVersion', 'OptionalHeader.DataDirectory.IMAGE_DIRECTORY_ENTRY_IAT.VirtualAddress', 'OptionalHeader.DataDirectory.IMAGE_DIRECTORY_ENTRY_DEBUG.Size', 'OptionalHeader.DataDirectory.IMAGE_DIRECTORY_ENTRY_BASERELOC.VirtualAddress', 'OptionalHeader.DataDirectory.IMAGE_DIRECTORY_ENTRY_LOAD_CONFIG.Size', 'OptionalHeader.DataDirectory.IMAGE_DIRECTORY_ENTRY_TLS.VirtualAddress', 'OptionalHeader.DataDirectory.IMAGE_DIRECTORY_ENTRY_LOAD_CONFIG.VirtualAddress', 'OptionalHeader.SizeOfUninitializedData', 'OptionalHeader.MinorLinkerVersion', 'COMCTL32.DLL', 'OptionalHeader.SizeOfStackReserve', 'Section.text.PointerToRawData', 'OptionalHeader.SizeOfStackCommit', 'OptionalHeader.DataDirectory.IMAGE_DIRECTORY_ENTRY_DELAY_IMPORT.VirtualAddress', 'VERSION.DLL', 'Section.text.Characteristics', 'SHELL32.DLL', 'Section.rsrc.Characteristics', 'OptionalHeader.MinorImageVersion', 'OptionalHeader.SizeOfHeaders', 'OptionalHeader.DataDirectory.IMAGE_DIRECTORY_ENTRY_BOUND_IMPORT.VirtualAddress', 'COMDLG32.DLL', 'OptionalHeader.BaseOfCode', 'Section.text.VirtualAddress', 'GDI32.DLL', 'OptionalHeader.DataDirectory.IMAGE_DIRECTORY_ENTRY_TLS.Size']\n",
        "# peminer_header_70 = ['OptionalHeader.ImageBase', 'OptionalHeader.DataDirectory.IMAGE_DIRECTORY_ENTRY_SECURITY.Size', 'OptionalHeader.DataDirectory.IMAGE_DIRECTORY_ENTRY_EXPORT.Size', 'FileHeader.Characteristics', 'OptionalHeader.DataDirectory.IMAGE_DIRECTORY_ENTRY_SECURITY.VirtualAddress', 'OptionalHeader.DataDirectory.IMAGE_DIRECTORY_ENTRY_EXPORT.VirtualAddress', 'OptionalHeader.AddressOfEntryPoint', 'OptionalHeader.CheckSum', 'OptionalHeader.SizeOfImage', 'OptionalHeader.DataDirectory.IMAGE_DIRECTORY_ENTRY_IMPORT.Size', 'OptionalHeader.DataDirectory.IMAGE_DIRECTORY_ENTRY_RESOURCE.Size', 'Section.rsrc.VirtualSize', 'OptionalHeader.MajorOperatingSystemVersion', 'OptionalHeader.MajorImageVersion', 'OptionalHeader.DataDirectory.IMAGE_DIRECTORY_ENTRY_IAT.Size', 'OptionalHeader.DataDirectory.IMAGE_DIRECTORY_ENTRY_IMPORT.VirtualAddress', 'OptionalHeader.Subsystem', 'OptionalHeader.DataDirectory.IMAGE_DIRECTORY_ENTRY_RESOURCE.VirtualAddress', 'OptionalHeader.SizeOfCode', 'Section.rsrc.SizeOfRawData', 'OptionalHeader.MajorLinkerVersion', 'Section.rsrc.VirtualAddress', 'OptionalHeader.DllCharacteristics', 'Section.data.VirtualSize', 'Section.rsrc.PointerToRawData', 'Section.text.VirtualSize', 'OptionalHeader.SizeOfInitializedData', 'OptionalHeader.BaseOfData', 'Section.data.PointerToRawData', 'OptionalHeader.DataDirectory.IMAGE_DIRECTORY_ENTRY_BASERELOC.Size', 'Section.text.SizeOfRawData', 'OptionalHeader.DataDirectory.IMAGE_DIRECTORY_ENTRY_DEBUG.VirtualAddress', 'Section.data.VirtualAddress', 'Section.data.SizeOfRawData', 'OptionalHeader.MajorSubsystemVersion', 'OptionalHeader.DataDirectory.IMAGE_DIRECTORY_ENTRY_IAT.VirtualAddress', 'OptionalHeader.DataDirectory.IMAGE_DIRECTORY_ENTRY_DEBUG.Size', 'OptionalHeader.DataDirectory.IMAGE_DIRECTORY_ENTRY_BASERELOC.VirtualAddress', 'OptionalHeader.DataDirectory.IMAGE_DIRECTORY_ENTRY_LOAD_CONFIG.Size', 'OptionalHeader.DataDirectory.IMAGE_DIRECTORY_ENTRY_TLS.VirtualAddress', 'OptionalHeader.DataDirectory.IMAGE_DIRECTORY_ENTRY_LOAD_CONFIG.VirtualAddress', 'OptionalHeader.SizeOfUninitializedData', 'OptionalHeader.MinorLinkerVersion', 'COMCTL32.DLL', 'OptionalHeader.SizeOfStackReserve', 'Section.text.PointerToRawData', 'OptionalHeader.SizeOfStackCommit', 'OptionalHeader.DataDirectory.IMAGE_DIRECTORY_ENTRY_DELAY_IMPORT.VirtualAddress', 'VERSION.DLL', 'Section.text.Characteristics', 'SHELL32.DLL', 'Section.rsrc.Characteristics', 'OptionalHeader.MinorImageVersion', 'OptionalHeader.SizeOfHeaders', 'OptionalHeader.DataDirectory.IMAGE_DIRECTORY_ENTRY_BOUND_IMPORT.VirtualAddress', 'COMDLG32.DLL', 'OptionalHeader.BaseOfCode', 'Section.text.VirtualAddress', 'GDI32.DLL', 'OptionalHeader.DataDirectory.IMAGE_DIRECTORY_ENTRY_TLS.Size', 'Section.data.Characteristics', 'USER32.DLL', 'SHLWAPI.DLL', 'OptionalHeader.DataDirectory.IMAGE_DIRECTORY_ENTRY_DELAY_IMPORT.Size', 'WSOCK32.DLL', 'OptionalHeader.MinorOperatingSystemVersion', 'OptionalHeader.FileAlignment', 'OptionalHeader.DataDirectory.IMAGE_DIRECTORY_ENTRY_BOUND_IMPORT.Size', 'WINMM.DLL', 'WININET.DLL']\n",
        "# peminer_header_80 = ['OptionalHeader.ImageBase', 'OptionalHeader.DataDirectory.IMAGE_DIRECTORY_ENTRY_SECURITY.Size', 'OptionalHeader.DataDirectory.IMAGE_DIRECTORY_ENTRY_EXPORT.Size', 'FileHeader.Characteristics', 'OptionalHeader.DataDirectory.IMAGE_DIRECTORY_ENTRY_SECURITY.VirtualAddress', 'OptionalHeader.DataDirectory.IMAGE_DIRECTORY_ENTRY_EXPORT.VirtualAddress', 'OptionalHeader.AddressOfEntryPoint', 'OptionalHeader.CheckSum', 'OptionalHeader.SizeOfImage', 'OptionalHeader.DataDirectory.IMAGE_DIRECTORY_ENTRY_IMPORT.Size', 'OptionalHeader.DataDirectory.IMAGE_DIRECTORY_ENTRY_RESOURCE.Size', 'Section.rsrc.VirtualSize', 'OptionalHeader.MajorOperatingSystemVersion', 'OptionalHeader.MajorImageVersion', 'OptionalHeader.DataDirectory.IMAGE_DIRECTORY_ENTRY_IAT.Size', 'OptionalHeader.DataDirectory.IMAGE_DIRECTORY_ENTRY_IMPORT.VirtualAddress', 'OptionalHeader.Subsystem', 'OptionalHeader.DataDirectory.IMAGE_DIRECTORY_ENTRY_RESOURCE.VirtualAddress', 'OptionalHeader.SizeOfCode', 'Section.rsrc.SizeOfRawData', 'OptionalHeader.MajorLinkerVersion', 'Section.rsrc.VirtualAddress', 'OptionalHeader.DllCharacteristics', 'Section.data.VirtualSize', 'Section.rsrc.PointerToRawData', 'Section.text.VirtualSize', 'OptionalHeader.SizeOfInitializedData', 'OptionalHeader.BaseOfData', 'Section.data.PointerToRawData', 'OptionalHeader.DataDirectory.IMAGE_DIRECTORY_ENTRY_BASERELOC.Size', 'Section.text.SizeOfRawData', 'OptionalHeader.DataDirectory.IMAGE_DIRECTORY_ENTRY_DEBUG.VirtualAddress', 'Section.data.VirtualAddress', 'Section.data.SizeOfRawData', 'OptionalHeader.MajorSubsystemVersion', 'OptionalHeader.DataDirectory.IMAGE_DIRECTORY_ENTRY_IAT.VirtualAddress', 'OptionalHeader.DataDirectory.IMAGE_DIRECTORY_ENTRY_DEBUG.Size', 'OptionalHeader.DataDirectory.IMAGE_DIRECTORY_ENTRY_BASERELOC.VirtualAddress', 'OptionalHeader.DataDirectory.IMAGE_DIRECTORY_ENTRY_LOAD_CONFIG.Size', 'OptionalHeader.DataDirectory.IMAGE_DIRECTORY_ENTRY_TLS.VirtualAddress', 'OptionalHeader.DataDirectory.IMAGE_DIRECTORY_ENTRY_LOAD_CONFIG.VirtualAddress', 'OptionalHeader.SizeOfUninitializedData', 'OptionalHeader.MinorLinkerVersion', 'COMCTL32.DLL', 'OptionalHeader.SizeOfStackReserve', 'Section.text.PointerToRawData', 'OptionalHeader.SizeOfStackCommit', 'OptionalHeader.DataDirectory.IMAGE_DIRECTORY_ENTRY_DELAY_IMPORT.VirtualAddress', 'VERSION.DLL', 'Section.text.Characteristics', 'SHELL32.DLL', 'Section.rsrc.Characteristics', 'OptionalHeader.MinorImageVersion', 'OptionalHeader.SizeOfHeaders', 'OptionalHeader.DataDirectory.IMAGE_DIRECTORY_ENTRY_BOUND_IMPORT.VirtualAddress', 'COMDLG32.DLL', 'OptionalHeader.BaseOfCode', 'Section.text.VirtualAddress', 'GDI32.DLL', 'OptionalHeader.DataDirectory.IMAGE_DIRECTORY_ENTRY_TLS.Size', 'Section.data.Characteristics', 'USER32.DLL', 'SHLWAPI.DLL', 'OptionalHeader.DataDirectory.IMAGE_DIRECTORY_ENTRY_DELAY_IMPORT.Size', 'WSOCK32.DLL', 'OptionalHeader.MinorOperatingSystemVersion', 'OptionalHeader.FileAlignment', 'OptionalHeader.DataDirectory.IMAGE_DIRECTORY_ENTRY_BOUND_IMPORT.Size', 'WINMM.DLL', 'WININET.DLL', 'MPR.DLL', 'OptionalHeader.MinorSubsystemVersion', 'OptionalHeader.SizeOfHeapReserve', 'SECUR32.DLL', 'OLEDLG.DLL', 'NETAPI32.DLL', 'OptionalHeader.DataDirectory.IMAGE_DIRECTORY_ENTRY_COM_DESCRIPTOR.VirtualAddress', 'OptionalHeader.DataDirectory.IMAGE_DIRECTORY_ENTRY_COM_DESCRIPTOR.Size', 'OptionalHeader.SectionAlignment', 'RPCRT4.DLL']\n",
        "# peminer_header_90 = ['OptionalHeader.ImageBase', 'OptionalHeader.DataDirectory.IMAGE_DIRECTORY_ENTRY_SECURITY.Size', 'OptionalHeader.DataDirectory.IMAGE_DIRECTORY_ENTRY_EXPORT.Size', 'FileHeader.Characteristics', 'OptionalHeader.DataDirectory.IMAGE_DIRECTORY_ENTRY_SECURITY.VirtualAddress', 'OptionalHeader.DataDirectory.IMAGE_DIRECTORY_ENTRY_EXPORT.VirtualAddress', 'OptionalHeader.AddressOfEntryPoint', 'OptionalHeader.CheckSum', 'OptionalHeader.SizeOfImage', 'OptionalHeader.DataDirectory.IMAGE_DIRECTORY_ENTRY_IMPORT.Size', 'OptionalHeader.DataDirectory.IMAGE_DIRECTORY_ENTRY_RESOURCE.Size', 'Section.rsrc.VirtualSize', 'OptionalHeader.MajorOperatingSystemVersion', 'OptionalHeader.MajorImageVersion', 'OptionalHeader.DataDirectory.IMAGE_DIRECTORY_ENTRY_IAT.Size', 'OptionalHeader.DataDirectory.IMAGE_DIRECTORY_ENTRY_IMPORT.VirtualAddress', 'OptionalHeader.Subsystem', 'OptionalHeader.DataDirectory.IMAGE_DIRECTORY_ENTRY_RESOURCE.VirtualAddress', 'OptionalHeader.SizeOfCode', 'Section.rsrc.SizeOfRawData', 'OptionalHeader.MajorLinkerVersion', 'Section.rsrc.VirtualAddress', 'OptionalHeader.DllCharacteristics', 'Section.data.VirtualSize', 'Section.rsrc.PointerToRawData', 'Section.text.VirtualSize', 'OptionalHeader.SizeOfInitializedData', 'OptionalHeader.BaseOfData', 'Section.data.PointerToRawData', 'OptionalHeader.DataDirectory.IMAGE_DIRECTORY_ENTRY_BASERELOC.Size', 'Section.text.SizeOfRawData', 'OptionalHeader.DataDirectory.IMAGE_DIRECTORY_ENTRY_DEBUG.VirtualAddress', 'Section.data.VirtualAddress', 'Section.data.SizeOfRawData', 'OptionalHeader.MajorSubsystemVersion', 'OptionalHeader.DataDirectory.IMAGE_DIRECTORY_ENTRY_IAT.VirtualAddress', 'OptionalHeader.DataDirectory.IMAGE_DIRECTORY_ENTRY_DEBUG.Size', 'OptionalHeader.DataDirectory.IMAGE_DIRECTORY_ENTRY_BASERELOC.VirtualAddress', 'OptionalHeader.DataDirectory.IMAGE_DIRECTORY_ENTRY_LOAD_CONFIG.Size', 'OptionalHeader.DataDirectory.IMAGE_DIRECTORY_ENTRY_TLS.VirtualAddress', 'OptionalHeader.DataDirectory.IMAGE_DIRECTORY_ENTRY_LOAD_CONFIG.VirtualAddress', 'OptionalHeader.SizeOfUninitializedData', 'OptionalHeader.MinorLinkerVersion', 'COMCTL32.DLL', 'OptionalHeader.SizeOfStackReserve', 'Section.text.PointerToRawData', 'OptionalHeader.SizeOfStackCommit', 'OptionalHeader.DataDirectory.IMAGE_DIRECTORY_ENTRY_DELAY_IMPORT.VirtualAddress', 'VERSION.DLL', 'Section.text.Characteristics', 'SHELL32.DLL', 'Section.rsrc.Characteristics', 'OptionalHeader.MinorImageVersion', 'OptionalHeader.SizeOfHeaders', 'OptionalHeader.DataDirectory.IMAGE_DIRECTORY_ENTRY_BOUND_IMPORT.VirtualAddress', 'COMDLG32.DLL', 'OptionalHeader.BaseOfCode', 'Section.text.VirtualAddress', 'GDI32.DLL', 'OptionalHeader.DataDirectory.IMAGE_DIRECTORY_ENTRY_TLS.Size', 'Section.data.Characteristics', 'USER32.DLL', 'SHLWAPI.DLL', 'OptionalHeader.DataDirectory.IMAGE_DIRECTORY_ENTRY_DELAY_IMPORT.Size', 'WSOCK32.DLL', 'OptionalHeader.MinorOperatingSystemVersion', 'OptionalHeader.FileAlignment', 'OptionalHeader.DataDirectory.IMAGE_DIRECTORY_ENTRY_BOUND_IMPORT.Size', 'WINMM.DLL', 'WININET.DLL', 'MPR.DLL', 'OptionalHeader.MinorSubsystemVersion', 'OptionalHeader.SizeOfHeapReserve', 'SECUR32.DLL', 'OLEDLG.DLL', 'NETAPI32.DLL', 'OptionalHeader.DataDirectory.IMAGE_DIRECTORY_ENTRY_COM_DESCRIPTOR.VirtualAddress', 'OptionalHeader.DataDirectory.IMAGE_DIRECTORY_ENTRY_COM_DESCRIPTOR.Size', 'OptionalHeader.SectionAlignment', 'RPCRT4.DLL', 'RASAPI32.DLL', 'LZ32.DLL', 'OptionalHeader.SizeOfHeapCommit', 'OptionalHeader.DataDirectory.IMAGE_DIRECTORY_ENTRY_RESERVED.Size', 'CRTDLL.DLL', 'OptionalHeader.DataDirectory.IMAGE_DIRECTORY_ENTRY_EXCEPTION.Size', 'OptionalHeader.NumberOfRvaAndSizes', 'OptionalHeader.Reserved1', 'Section.rsrc.NumberOfLinenumbers', 'Section.text.PointerToLinenumbers']\n",
        "# peminer_header_100 = ['OptionalHeader.ImageBase', 'OptionalHeader.DataDirectory.IMAGE_DIRECTORY_ENTRY_SECURITY.Size', 'OptionalHeader.DataDirectory.IMAGE_DIRECTORY_ENTRY_EXPORT.Size', 'FileHeader.Characteristics', 'OptionalHeader.DataDirectory.IMAGE_DIRECTORY_ENTRY_SECURITY.VirtualAddress', 'OptionalHeader.DataDirectory.IMAGE_DIRECTORY_ENTRY_EXPORT.VirtualAddress', 'OptionalHeader.AddressOfEntryPoint', 'OptionalHeader.CheckSum', 'OptionalHeader.SizeOfImage', 'OptionalHeader.DataDirectory.IMAGE_DIRECTORY_ENTRY_IMPORT.Size', 'OptionalHeader.DataDirectory.IMAGE_DIRECTORY_ENTRY_RESOURCE.Size', 'Section.rsrc.VirtualSize', 'OptionalHeader.MajorOperatingSystemVersion', 'OptionalHeader.MajorImageVersion', 'OptionalHeader.DataDirectory.IMAGE_DIRECTORY_ENTRY_IAT.Size', 'OptionalHeader.DataDirectory.IMAGE_DIRECTORY_ENTRY_IMPORT.VirtualAddress', 'OptionalHeader.Subsystem', 'OptionalHeader.DataDirectory.IMAGE_DIRECTORY_ENTRY_RESOURCE.VirtualAddress', 'OptionalHeader.SizeOfCode', 'Section.rsrc.SizeOfRawData', 'OptionalHeader.MajorLinkerVersion', 'Section.rsrc.VirtualAddress', 'OptionalHeader.DllCharacteristics', 'Section.data.VirtualSize', 'Section.rsrc.PointerToRawData', 'Section.text.VirtualSize', 'OptionalHeader.SizeOfInitializedData', 'OptionalHeader.BaseOfData', 'Section.data.PointerToRawData', 'OptionalHeader.DataDirectory.IMAGE_DIRECTORY_ENTRY_BASERELOC.Size', 'Section.text.SizeOfRawData', 'OptionalHeader.DataDirectory.IMAGE_DIRECTORY_ENTRY_DEBUG.VirtualAddress', 'Section.data.VirtualAddress', 'Section.data.SizeOfRawData', 'OptionalHeader.MajorSubsystemVersion', 'OptionalHeader.DataDirectory.IMAGE_DIRECTORY_ENTRY_IAT.VirtualAddress', 'OptionalHeader.DataDirectory.IMAGE_DIRECTORY_ENTRY_DEBUG.Size', 'OptionalHeader.DataDirectory.IMAGE_DIRECTORY_ENTRY_BASERELOC.VirtualAddress', 'OptionalHeader.DataDirectory.IMAGE_DIRECTORY_ENTRY_LOAD_CONFIG.Size', 'OptionalHeader.DataDirectory.IMAGE_DIRECTORY_ENTRY_TLS.VirtualAddress', 'OptionalHeader.DataDirectory.IMAGE_DIRECTORY_ENTRY_LOAD_CONFIG.VirtualAddress', 'OptionalHeader.SizeOfUninitializedData', 'OptionalHeader.MinorLinkerVersion', 'COMCTL32.DLL', 'OptionalHeader.SizeOfStackReserve', 'Section.text.PointerToRawData', 'OptionalHeader.SizeOfStackCommit', 'OptionalHeader.DataDirectory.IMAGE_DIRECTORY_ENTRY_DELAY_IMPORT.VirtualAddress', 'VERSION.DLL', 'Section.text.Characteristics', 'SHELL32.DLL', 'Section.rsrc.Characteristics', 'OptionalHeader.MinorImageVersion', 'OptionalHeader.SizeOfHeaders', 'OptionalHeader.DataDirectory.IMAGE_DIRECTORY_ENTRY_BOUND_IMPORT.VirtualAddress', 'COMDLG32.DLL', 'OptionalHeader.BaseOfCode', 'Section.text.VirtualAddress', 'GDI32.DLL', 'OptionalHeader.DataDirectory.IMAGE_DIRECTORY_ENTRY_TLS.Size', 'Section.data.Characteristics', 'USER32.DLL', 'SHLWAPI.DLL', 'OptionalHeader.DataDirectory.IMAGE_DIRECTORY_ENTRY_DELAY_IMPORT.Size', 'WSOCK32.DLL', 'OptionalHeader.MinorOperatingSystemVersion', 'OptionalHeader.FileAlignment', 'OptionalHeader.DataDirectory.IMAGE_DIRECTORY_ENTRY_BOUND_IMPORT.Size', 'WINMM.DLL', 'WININET.DLL', 'MPR.DLL', 'OptionalHeader.MinorSubsystemVersion', 'OptionalHeader.SizeOfHeapReserve', 'SECUR32.DLL', 'OLEDLG.DLL', 'NETAPI32.DLL', 'OptionalHeader.DataDirectory.IMAGE_DIRECTORY_ENTRY_COM_DESCRIPTOR.VirtualAddress', 'OptionalHeader.DataDirectory.IMAGE_DIRECTORY_ENTRY_COM_DESCRIPTOR.Size', 'OptionalHeader.SectionAlignment', 'RPCRT4.DLL', 'RASAPI32.DLL', 'LZ32.DLL', 'OptionalHeader.SizeOfHeapCommit', 'OptionalHeader.DataDirectory.IMAGE_DIRECTORY_ENTRY_RESERVED.Size', 'CRTDLL.DLL', 'OptionalHeader.DataDirectory.IMAGE_DIRECTORY_ENTRY_EXCEPTION.Size', 'OptionalHeader.NumberOfRvaAndSizes', 'OptionalHeader.Reserved1', 'Section.rsrc.NumberOfLinenumbers', 'Section.text.PointerToLinenumbers', 'OptionalHeader.LoaderFlags', 'OptionalHeader.DataDirectory.IMAGE_DIRECTORY_ENTRY_EXCEPTION.VirtualAddress', 'OptionalHeader.Magic', 'Section.text.PointerToRelocations', 'WINSOCK.DLL', 'Section.text.NumberOfLinenumbers', 'Section.rsrc.PointerToRelocations', 'OptionalHeader.DataDirectory.IMAGE_DIRECTORY_ENTRY_RESERVED.VirtualAddress', 'OptionalHeader.DataDirectory.IMAGE_DIRECTORY_ENTRY_GLOBALPTR.Size', 'Section.rsrc.PointerToLinenumbers']\n",
        "## 중요도가 0인 것을 제외한 리스트(107)\n",
        "# peminer_header_107 = ['COMCTL32.DLL', 'COMDLG32.DLL', 'CRTDLL.DLL', 'DCIMAN32.DLL', 'FileHeader.Characteristics', 'GDI32.DLL', 'LZ32.DLL', 'MAPI32.DLL', 'MPR.DLL', 'NETAPI32.DLL', 'OLEDLG.DLL', 'OptionalHeader.AddressOfEntryPoint', 'OptionalHeader.BaseOfCode', 'OptionalHeader.BaseOfData', 'OptionalHeader.CheckSum', 'OptionalHeader.DataDirectory.IMAGE_DIRECTORY_ENTRY_BASERELOC.Size', 'OptionalHeader.DataDirectory.IMAGE_DIRECTORY_ENTRY_BASERELOC.VirtualAddress', 'OptionalHeader.DataDirectory.IMAGE_DIRECTORY_ENTRY_BOUND_IMPORT.Size', 'OptionalHeader.DataDirectory.IMAGE_DIRECTORY_ENTRY_BOUND_IMPORT.VirtualAddress', 'OptionalHeader.DataDirectory.IMAGE_DIRECTORY_ENTRY_COM_DESCRIPTOR.Size', 'OptionalHeader.DataDirectory.IMAGE_DIRECTORY_ENTRY_COM_DESCRIPTOR.VirtualAddress', 'OptionalHeader.DataDirectory.IMAGE_DIRECTORY_ENTRY_DEBUG.Size', 'OptionalHeader.DataDirectory.IMAGE_DIRECTORY_ENTRY_DEBUG.VirtualAddress', 'OptionalHeader.DataDirectory.IMAGE_DIRECTORY_ENTRY_DELAY_IMPORT.Size', 'OptionalHeader.DataDirectory.IMAGE_DIRECTORY_ENTRY_DELAY_IMPORT.VirtualAddress', 'OptionalHeader.DataDirectory.IMAGE_DIRECTORY_ENTRY_EXCEPTION.Size', 'OptionalHeader.DataDirectory.IMAGE_DIRECTORY_ENTRY_EXCEPTION.VirtualAddress', 'OptionalHeader.DataDirectory.IMAGE_DIRECTORY_ENTRY_EXPORT.Size', 'OptionalHeader.DataDirectory.IMAGE_DIRECTORY_ENTRY_EXPORT.VirtualAddress', 'OptionalHeader.DataDirectory.IMAGE_DIRECTORY_ENTRY_GLOBALPTR.Size', 'OptionalHeader.DataDirectory.IMAGE_DIRECTORY_ENTRY_IAT.Size', 'OptionalHeader.DataDirectory.IMAGE_DIRECTORY_ENTRY_IAT.VirtualAddress', 'OptionalHeader.DataDirectory.IMAGE_DIRECTORY_ENTRY_IMPORT.Size', 'OptionalHeader.DataDirectory.IMAGE_DIRECTORY_ENTRY_IMPORT.VirtualAddress', 'OptionalHeader.DataDirectory.IMAGE_DIRECTORY_ENTRY_LOAD_CONFIG.Size', 'OptionalHeader.DataDirectory.IMAGE_DIRECTORY_ENTRY_LOAD_CONFIG.VirtualAddress', 'OptionalHeader.DataDirectory.IMAGE_DIRECTORY_ENTRY_RESERVED.Size', 'OptionalHeader.DataDirectory.IMAGE_DIRECTORY_ENTRY_RESERVED.VirtualAddress', 'OptionalHeader.DataDirectory.IMAGE_DIRECTORY_ENTRY_RESOURCE.Size', 'OptionalHeader.DataDirectory.IMAGE_DIRECTORY_ENTRY_RESOURCE.VirtualAddress', 'OptionalHeader.DataDirectory.IMAGE_DIRECTORY_ENTRY_SECURITY.Size', 'OptionalHeader.DataDirectory.IMAGE_DIRECTORY_ENTRY_SECURITY.VirtualAddress', 'OptionalHeader.DataDirectory.IMAGE_DIRECTORY_ENTRY_TLS.Size', 'OptionalHeader.DataDirectory.IMAGE_DIRECTORY_ENTRY_TLS.VirtualAddress', 'OptionalHeader.DllCharacteristics', 'OptionalHeader.FileAlignment', 'OptionalHeader.ImageBase', 'OptionalHeader.LoaderFlags', 'OptionalHeader.Magic', 'OptionalHeader.MajorImageVersion', 'OptionalHeader.MajorLinkerVersion', 'OptionalHeader.MajorOperatingSystemVersion', 'OptionalHeader.MajorSubsystemVersion', 'OptionalHeader.MinorImageVersion', 'OptionalHeader.MinorLinkerVersion', 'OptionalHeader.MinorOperatingSystemVersion', 'OptionalHeader.MinorSubsystemVersion', 'OptionalHeader.NumberOfRvaAndSizes', 'OptionalHeader.Reserved1', 'OptionalHeader.SectionAlignment', 'OptionalHeader.SizeOfCode', 'OptionalHeader.SizeOfHeaders', 'OptionalHeader.SizeOfHeapCommit', 'OptionalHeader.SizeOfHeapReserve', 'OptionalHeader.SizeOfImage', 'OptionalHeader.SizeOfInitializedData', 'OptionalHeader.SizeOfStackCommit', 'OptionalHeader.SizeOfStackReserve', 'OptionalHeader.SizeOfUninitializedData', 'OptionalHeader.Subsystem', 'RASAPI32.DLL', 'RPCRT4.DLL', 'SECUR32.DLL', 'SHELL32.DLL', 'SHLWAPI.DLL', 'Section.data.Characteristics', 'Section.data.NumberOfLinenumbers', 'Section.data.PointerToLinenumbers', 'Section.data.PointerToRawData', 'Section.data.PointerToRelocations', 'Section.data.SizeOfRawData', 'Section.data.VirtualAddress', 'Section.data.VirtualSize', 'Section.rsrc.Characteristics', 'Section.rsrc.NumberOfLinenumbers', 'Section.rsrc.NumberOfRelocations', 'Section.rsrc.PointerToLinenumbers', 'Section.rsrc.PointerToRawData', 'Section.rsrc.PointerToRelocations', 'Section.rsrc.SizeOfRawData', 'Section.rsrc.VirtualAddress', 'Section.rsrc.VirtualSize', 'Section.text.Characteristics', 'Section.text.NumberOfLinenumbers', 'Section.text.NumberOfRelocations', 'Section.text.PointerToLinenumbers', 'Section.text.PointerToRawData', 'Section.text.PointerToRelocations', 'Section.text.SizeOfRawData', 'Section.text.VirtualAddress', 'Section.text.VirtualSize', 'USER32.DLL', 'VERSION.DLL', 'WININET.DLL', 'WINMM.DLL', 'WINSOCK.DLL', 'WSOCK32.DLL']\n",
        "# peminer_header_110 = ['OptionalHeader.ImageBase', 'OptionalHeader.DataDirectory.IMAGE_DIRECTORY_ENTRY_SECURITY.Size', 'OptionalHeader.DataDirectory.IMAGE_DIRECTORY_ENTRY_EXPORT.Size', 'FileHeader.Characteristics', 'OptionalHeader.DataDirectory.IMAGE_DIRECTORY_ENTRY_SECURITY.VirtualAddress', 'OptionalHeader.DataDirectory.IMAGE_DIRECTORY_ENTRY_EXPORT.VirtualAddress', 'OptionalHeader.AddressOfEntryPoint', 'OptionalHeader.CheckSum', 'OptionalHeader.SizeOfImage', 'OptionalHeader.DataDirectory.IMAGE_DIRECTORY_ENTRY_IMPORT.Size', 'OptionalHeader.DataDirectory.IMAGE_DIRECTORY_ENTRY_RESOURCE.Size', 'Section.rsrc.VirtualSize', 'OptionalHeader.MajorOperatingSystemVersion', 'OptionalHeader.MajorImageVersion', 'OptionalHeader.DataDirectory.IMAGE_DIRECTORY_ENTRY_IAT.Size', 'OptionalHeader.DataDirectory.IMAGE_DIRECTORY_ENTRY_IMPORT.VirtualAddress', 'OptionalHeader.Subsystem', 'OptionalHeader.DataDirectory.IMAGE_DIRECTORY_ENTRY_RESOURCE.VirtualAddress', 'OptionalHeader.SizeOfCode', 'Section.rsrc.SizeOfRawData', 'OptionalHeader.MajorLinkerVersion', 'Section.rsrc.VirtualAddress', 'OptionalHeader.DllCharacteristics', 'Section.data.VirtualSize', 'Section.rsrc.PointerToRawData', 'Section.text.VirtualSize', 'OptionalHeader.SizeOfInitializedData', 'OptionalHeader.BaseOfData', 'Section.data.PointerToRawData', 'OptionalHeader.DataDirectory.IMAGE_DIRECTORY_ENTRY_BASERELOC.Size', 'Section.text.SizeOfRawData', 'OptionalHeader.DataDirectory.IMAGE_DIRECTORY_ENTRY_DEBUG.VirtualAddress', 'Section.data.VirtualAddress', 'Section.data.SizeOfRawData', 'OptionalHeader.MajorSubsystemVersion', 'OptionalHeader.DataDirectory.IMAGE_DIRECTORY_ENTRY_IAT.VirtualAddress', 'OptionalHeader.DataDirectory.IMAGE_DIRECTORY_ENTRY_DEBUG.Size', 'OptionalHeader.DataDirectory.IMAGE_DIRECTORY_ENTRY_BASERELOC.VirtualAddress', 'OptionalHeader.DataDirectory.IMAGE_DIRECTORY_ENTRY_LOAD_CONFIG.Size', 'OptionalHeader.DataDirectory.IMAGE_DIRECTORY_ENTRY_TLS.VirtualAddress', 'OptionalHeader.DataDirectory.IMAGE_DIRECTORY_ENTRY_LOAD_CONFIG.VirtualAddress', 'OptionalHeader.SizeOfUninitializedData', 'OptionalHeader.MinorLinkerVersion', 'COMCTL32.DLL', 'OptionalHeader.SizeOfStackReserve', 'Section.text.PointerToRawData', 'OptionalHeader.SizeOfStackCommit', 'OptionalHeader.DataDirectory.IMAGE_DIRECTORY_ENTRY_DELAY_IMPORT.VirtualAddress', 'VERSION.DLL', 'Section.text.Characteristics', 'SHELL32.DLL', 'Section.rsrc.Characteristics', 'OptionalHeader.MinorImageVersion', 'OptionalHeader.SizeOfHeaders', 'OptionalHeader.DataDirectory.IMAGE_DIRECTORY_ENTRY_BOUND_IMPORT.VirtualAddress', 'COMDLG32.DLL', 'OptionalHeader.BaseOfCode', 'Section.text.VirtualAddress', 'GDI32.DLL', 'OptionalHeader.DataDirectory.IMAGE_DIRECTORY_ENTRY_TLS.Size', 'Section.data.Characteristics', 'USER32.DLL', 'SHLWAPI.DLL', 'OptionalHeader.DataDirectory.IMAGE_DIRECTORY_ENTRY_DELAY_IMPORT.Size', 'WSOCK32.DLL', 'OptionalHeader.MinorOperatingSystemVersion', 'OptionalHeader.FileAlignment', 'OptionalHeader.DataDirectory.IMAGE_DIRECTORY_ENTRY_BOUND_IMPORT.Size', 'WINMM.DLL', 'WININET.DLL', 'MPR.DLL', 'OptionalHeader.MinorSubsystemVersion', 'OptionalHeader.SizeOfHeapReserve', 'SECUR32.DLL', 'OLEDLG.DLL', 'NETAPI32.DLL', 'OptionalHeader.DataDirectory.IMAGE_DIRECTORY_ENTRY_COM_DESCRIPTOR.VirtualAddress', 'OptionalHeader.DataDirectory.IMAGE_DIRECTORY_ENTRY_COM_DESCRIPTOR.Size', 'OptionalHeader.SectionAlignment', 'RPCRT4.DLL', 'RASAPI32.DLL', 'LZ32.DLL', 'OptionalHeader.SizeOfHeapCommit', 'OptionalHeader.DataDirectory.IMAGE_DIRECTORY_ENTRY_RESERVED.Size', 'CRTDLL.DLL', 'OptionalHeader.DataDirectory.IMAGE_DIRECTORY_ENTRY_EXCEPTION.Size', 'OptionalHeader.NumberOfRvaAndSizes', 'OptionalHeader.Reserved1', 'Section.rsrc.NumberOfLinenumbers', 'Section.text.PointerToLinenumbers', 'OptionalHeader.LoaderFlags', 'OptionalHeader.DataDirectory.IMAGE_DIRECTORY_ENTRY_EXCEPTION.VirtualAddress', 'OptionalHeader.Magic', 'Section.text.PointerToRelocations', 'WINSOCK.DLL', 'Section.text.NumberOfLinenumbers', 'Section.rsrc.PointerToRelocations', 'OptionalHeader.DataDirectory.IMAGE_DIRECTORY_ENTRY_RESERVED.VirtualAddress', 'OptionalHeader.DataDirectory.IMAGE_DIRECTORY_ENTRY_GLOBALPTR.Size', 'Section.rsrc.PointerToLinenumbers', 'Section.text.NumberOfRelocations', 'Section.rsrc.NumberOfRelocations', 'Section.data.PointerToLinenumbers', 'MAPI32.DLL', 'Section.data.PointerToRelocations', 'Section.data.NumberOfLinenumbers', 'DCIMAN32.DLL', 'ADVAP132.DLL', 'AWFAXP32.DLL', 'AWFXAB32.DLL']\n",
        "# peminer_header_120 = ['OptionalHeader.ImageBase', 'OptionalHeader.DataDirectory.IMAGE_DIRECTORY_ENTRY_SECURITY.Size', 'OptionalHeader.DataDirectory.IMAGE_DIRECTORY_ENTRY_EXPORT.Size', 'FileHeader.Characteristics', 'OptionalHeader.DataDirectory.IMAGE_DIRECTORY_ENTRY_SECURITY.VirtualAddress', 'OptionalHeader.DataDirectory.IMAGE_DIRECTORY_ENTRY_EXPORT.VirtualAddress', 'OptionalHeader.AddressOfEntryPoint', 'OptionalHeader.CheckSum', 'OptionalHeader.SizeOfImage', 'OptionalHeader.DataDirectory.IMAGE_DIRECTORY_ENTRY_IMPORT.Size', 'OptionalHeader.DataDirectory.IMAGE_DIRECTORY_ENTRY_RESOURCE.Size', 'Section.rsrc.VirtualSize', 'OptionalHeader.MajorOperatingSystemVersion', 'OptionalHeader.MajorImageVersion', 'OptionalHeader.DataDirectory.IMAGE_DIRECTORY_ENTRY_IAT.Size', 'OptionalHeader.DataDirectory.IMAGE_DIRECTORY_ENTRY_IMPORT.VirtualAddress', 'OptionalHeader.Subsystem', 'OptionalHeader.DataDirectory.IMAGE_DIRECTORY_ENTRY_RESOURCE.VirtualAddress', 'OptionalHeader.SizeOfCode', 'Section.rsrc.SizeOfRawData', 'OptionalHeader.MajorLinkerVersion', 'Section.rsrc.VirtualAddress', 'OptionalHeader.DllCharacteristics', 'Section.data.VirtualSize', 'Section.rsrc.PointerToRawData', 'Section.text.VirtualSize', 'OptionalHeader.SizeOfInitializedData', 'OptionalHeader.BaseOfData', 'Section.data.PointerToRawData', 'OptionalHeader.DataDirectory.IMAGE_DIRECTORY_ENTRY_BASERELOC.Size', 'Section.text.SizeOfRawData', 'OptionalHeader.DataDirectory.IMAGE_DIRECTORY_ENTRY_DEBUG.VirtualAddress', 'Section.data.VirtualAddress', 'Section.data.SizeOfRawData', 'OptionalHeader.MajorSubsystemVersion', 'OptionalHeader.DataDirectory.IMAGE_DIRECTORY_ENTRY_IAT.VirtualAddress', 'OptionalHeader.DataDirectory.IMAGE_DIRECTORY_ENTRY_DEBUG.Size', 'OptionalHeader.DataDirectory.IMAGE_DIRECTORY_ENTRY_BASERELOC.VirtualAddress', 'OptionalHeader.DataDirectory.IMAGE_DIRECTORY_ENTRY_LOAD_CONFIG.Size', 'OptionalHeader.DataDirectory.IMAGE_DIRECTORY_ENTRY_TLS.VirtualAddress', 'OptionalHeader.DataDirectory.IMAGE_DIRECTORY_ENTRY_LOAD_CONFIG.VirtualAddress', 'OptionalHeader.SizeOfUninitializedData', 'OptionalHeader.MinorLinkerVersion', 'COMCTL32.DLL', 'OptionalHeader.SizeOfStackReserve', 'Section.text.PointerToRawData', 'OptionalHeader.SizeOfStackCommit', 'OptionalHeader.DataDirectory.IMAGE_DIRECTORY_ENTRY_DELAY_IMPORT.VirtualAddress', 'VERSION.DLL', 'Section.text.Characteristics', 'SHELL32.DLL', 'Section.rsrc.Characteristics', 'OptionalHeader.MinorImageVersion', 'OptionalHeader.SizeOfHeaders', 'OptionalHeader.DataDirectory.IMAGE_DIRECTORY_ENTRY_BOUND_IMPORT.VirtualAddress', 'COMDLG32.DLL', 'OptionalHeader.BaseOfCode', 'Section.text.VirtualAddress', 'GDI32.DLL', 'OptionalHeader.DataDirectory.IMAGE_DIRECTORY_ENTRY_TLS.Size', 'Section.data.Characteristics', 'USER32.DLL', 'SHLWAPI.DLL', 'OptionalHeader.DataDirectory.IMAGE_DIRECTORY_ENTRY_DELAY_IMPORT.Size', 'WSOCK32.DLL', 'OptionalHeader.MinorOperatingSystemVersion', 'OptionalHeader.FileAlignment', 'OptionalHeader.DataDirectory.IMAGE_DIRECTORY_ENTRY_BOUND_IMPORT.Size', 'WINMM.DLL', 'WININET.DLL', 'MPR.DLL', 'OptionalHeader.MinorSubsystemVersion', 'OptionalHeader.SizeOfHeapReserve', 'SECUR32.DLL', 'OLEDLG.DLL', 'NETAPI32.DLL', 'OptionalHeader.DataDirectory.IMAGE_DIRECTORY_ENTRY_COM_DESCRIPTOR.VirtualAddress', 'OptionalHeader.DataDirectory.IMAGE_DIRECTORY_ENTRY_COM_DESCRIPTOR.Size', 'OptionalHeader.SectionAlignment', 'RPCRT4.DLL', 'RASAPI32.DLL', 'LZ32.DLL', 'OptionalHeader.SizeOfHeapCommit', 'OptionalHeader.DataDirectory.IMAGE_DIRECTORY_ENTRY_RESERVED.Size', 'CRTDLL.DLL', 'OptionalHeader.DataDirectory.IMAGE_DIRECTORY_ENTRY_EXCEPTION.Size', 'OptionalHeader.NumberOfRvaAndSizes', 'OptionalHeader.Reserved1', 'Section.rsrc.NumberOfLinenumbers', 'Section.text.PointerToLinenumbers', 'OptionalHeader.LoaderFlags', 'OptionalHeader.DataDirectory.IMAGE_DIRECTORY_ENTRY_EXCEPTION.VirtualAddress', 'OptionalHeader.Magic', 'Section.text.PointerToRelocations', 'WINSOCK.DLL', 'Section.text.NumberOfLinenumbers', 'Section.rsrc.PointerToRelocations', 'OptionalHeader.DataDirectory.IMAGE_DIRECTORY_ENTRY_RESERVED.VirtualAddress', 'OptionalHeader.DataDirectory.IMAGE_DIRECTORY_ENTRY_GLOBALPTR.Size', 'Section.rsrc.PointerToLinenumbers', 'Section.text.NumberOfRelocations', 'Section.rsrc.NumberOfRelocations', 'Section.data.PointerToLinenumbers', 'MAPI32.DLL', 'Section.data.PointerToRelocations', 'Section.data.NumberOfLinenumbers', 'DCIMAN32.DLL', 'ADVAP132.DLL', 'AWFAXP32.DLL', 'AWFXAB32.DLL', 'AWPWD32.DLL', 'AWRESX32.DLL', 'AWUTIL32.DLL', 'BHNETB.DLL', 'BHSUPP.DLL', 'CCAPI.DLL', 'CCEI.DLL', 'CCPSH.DLL', 'CCTN20.DLL', 'CMC.DLL']\n",
        "# peminer_header_130 = ['OptionalHeader.ImageBase', 'OptionalHeader.DataDirectory.IMAGE_DIRECTORY_ENTRY_SECURITY.Size', 'OptionalHeader.DataDirectory.IMAGE_DIRECTORY_ENTRY_EXPORT.Size', 'FileHeader.Characteristics', 'OptionalHeader.DataDirectory.IMAGE_DIRECTORY_ENTRY_SECURITY.VirtualAddress', 'OptionalHeader.DataDirectory.IMAGE_DIRECTORY_ENTRY_EXPORT.VirtualAddress', 'OptionalHeader.AddressOfEntryPoint', 'OptionalHeader.CheckSum', 'OptionalHeader.SizeOfImage', 'OptionalHeader.DataDirectory.IMAGE_DIRECTORY_ENTRY_IMPORT.Size', 'OptionalHeader.DataDirectory.IMAGE_DIRECTORY_ENTRY_RESOURCE.Size', 'Section.rsrc.VirtualSize', 'OptionalHeader.MajorOperatingSystemVersion', 'OptionalHeader.MajorImageVersion', 'OptionalHeader.DataDirectory.IMAGE_DIRECTORY_ENTRY_IAT.Size', 'OptionalHeader.DataDirectory.IMAGE_DIRECTORY_ENTRY_IMPORT.VirtualAddress', 'OptionalHeader.Subsystem', 'OptionalHeader.DataDirectory.IMAGE_DIRECTORY_ENTRY_RESOURCE.VirtualAddress', 'OptionalHeader.SizeOfCode', 'Section.rsrc.SizeOfRawData', 'OptionalHeader.MajorLinkerVersion', 'Section.rsrc.VirtualAddress', 'OptionalHeader.DllCharacteristics', 'Section.data.VirtualSize', 'Section.rsrc.PointerToRawData', 'Section.text.VirtualSize', 'OptionalHeader.SizeOfInitializedData', 'OptionalHeader.BaseOfData', 'Section.data.PointerToRawData', 'OptionalHeader.DataDirectory.IMAGE_DIRECTORY_ENTRY_BASERELOC.Size', 'Section.text.SizeOfRawData', 'OptionalHeader.DataDirectory.IMAGE_DIRECTORY_ENTRY_DEBUG.VirtualAddress', 'Section.data.VirtualAddress', 'Section.data.SizeOfRawData', 'OptionalHeader.MajorSubsystemVersion', 'OptionalHeader.DataDirectory.IMAGE_DIRECTORY_ENTRY_IAT.VirtualAddress', 'OptionalHeader.DataDirectory.IMAGE_DIRECTORY_ENTRY_DEBUG.Size', 'OptionalHeader.DataDirectory.IMAGE_DIRECTORY_ENTRY_BASERELOC.VirtualAddress', 'OptionalHeader.DataDirectory.IMAGE_DIRECTORY_ENTRY_LOAD_CONFIG.Size', 'OptionalHeader.DataDirectory.IMAGE_DIRECTORY_ENTRY_TLS.VirtualAddress', 'OptionalHeader.DataDirectory.IMAGE_DIRECTORY_ENTRY_LOAD_CONFIG.VirtualAddress', 'OptionalHeader.SizeOfUninitializedData', 'OptionalHeader.MinorLinkerVersion', 'COMCTL32.DLL', 'OptionalHeader.SizeOfStackReserve', 'Section.text.PointerToRawData', 'OptionalHeader.SizeOfStackCommit', 'OptionalHeader.DataDirectory.IMAGE_DIRECTORY_ENTRY_DELAY_IMPORT.VirtualAddress', 'VERSION.DLL', 'Section.text.Characteristics', 'SHELL32.DLL', 'Section.rsrc.Characteristics', 'OptionalHeader.MinorImageVersion', 'OptionalHeader.SizeOfHeaders', 'OptionalHeader.DataDirectory.IMAGE_DIRECTORY_ENTRY_BOUND_IMPORT.VirtualAddress', 'COMDLG32.DLL', 'OptionalHeader.BaseOfCode', 'Section.text.VirtualAddress', 'GDI32.DLL', 'OptionalHeader.DataDirectory.IMAGE_DIRECTORY_ENTRY_TLS.Size', 'Section.data.Characteristics', 'USER32.DLL', 'SHLWAPI.DLL', 'OptionalHeader.DataDirectory.IMAGE_DIRECTORY_ENTRY_DELAY_IMPORT.Size', 'WSOCK32.DLL', 'OptionalHeader.MinorOperatingSystemVersion', 'OptionalHeader.FileAlignment', 'OptionalHeader.DataDirectory.IMAGE_DIRECTORY_ENTRY_BOUND_IMPORT.Size', 'WINMM.DLL', 'WININET.DLL', 'MPR.DLL', 'OptionalHeader.MinorSubsystemVersion', 'OptionalHeader.SizeOfHeapReserve', 'SECUR32.DLL', 'OLEDLG.DLL', 'NETAPI32.DLL', 'OptionalHeader.DataDirectory.IMAGE_DIRECTORY_ENTRY_COM_DESCRIPTOR.VirtualAddress', 'OptionalHeader.DataDirectory.IMAGE_DIRECTORY_ENTRY_COM_DESCRIPTOR.Size', 'OptionalHeader.SectionAlignment', 'RPCRT4.DLL', 'RASAPI32.DLL', 'LZ32.DLL', 'OptionalHeader.SizeOfHeapCommit', 'OptionalHeader.DataDirectory.IMAGE_DIRECTORY_ENTRY_RESERVED.Size', 'CRTDLL.DLL', 'OptionalHeader.DataDirectory.IMAGE_DIRECTORY_ENTRY_EXCEPTION.Size', 'OptionalHeader.NumberOfRvaAndSizes', 'OptionalHeader.Reserved1', 'Section.rsrc.NumberOfLinenumbers', 'Section.text.PointerToLinenumbers', 'OptionalHeader.LoaderFlags', 'OptionalHeader.DataDirectory.IMAGE_DIRECTORY_ENTRY_EXCEPTION.VirtualAddress', 'OptionalHeader.Magic', 'Section.text.PointerToRelocations', 'WINSOCK.DLL', 'Section.text.NumberOfLinenumbers', 'Section.rsrc.PointerToRelocations', 'OptionalHeader.DataDirectory.IMAGE_DIRECTORY_ENTRY_RESERVED.VirtualAddress', 'OptionalHeader.DataDirectory.IMAGE_DIRECTORY_ENTRY_GLOBALPTR.Size', 'Section.rsrc.PointerToLinenumbers', 'Section.text.NumberOfRelocations', 'Section.rsrc.NumberOfRelocations', 'Section.data.PointerToLinenumbers', 'MAPI32.DLL', 'Section.data.PointerToRelocations', 'Section.data.NumberOfLinenumbers', 'DCIMAN32.DLL', 'ADVAP132.DLL', 'AWFAXP32.DLL', 'AWFXAB32.DLL', 'AWPWD32.DLL', 'AWRESX32.DLL', 'AWUTIL32.DLL', 'BHNETB.DLL', 'BHSUPP.DLL', 'CCAPI.DLL', 'CCEI.DLL', 'CCPSH.DLL', 'CCTN20.DLL', 'CMC.DLL', 'DCIMAN.DLL', 'DSKMAINT.DLL', 'FileHeader.Machine', 'FileHeader.NumberOfSections', 'FileHeader.NumberOfSymbols', 'FileHeader.PointerToSymbolTable', 'FileHeader.SizeOfOptionalHeader', 'FileHeader.TimeDateStamp', 'GROUP.DLL', 'HYPERTERM.DLL']\n",
        "# peminer_header_140 = ['OptionalHeader.ImageBase', 'OptionalHeader.DataDirectory.IMAGE_DIRECTORY_ENTRY_SECURITY.Size', 'OptionalHeader.DataDirectory.IMAGE_DIRECTORY_ENTRY_EXPORT.Size', 'FileHeader.Characteristics', 'OptionalHeader.DataDirectory.IMAGE_DIRECTORY_ENTRY_SECURITY.VirtualAddress', 'OptionalHeader.DataDirectory.IMAGE_DIRECTORY_ENTRY_EXPORT.VirtualAddress', 'OptionalHeader.AddressOfEntryPoint', 'OptionalHeader.CheckSum', 'OptionalHeader.SizeOfImage', 'OptionalHeader.DataDirectory.IMAGE_DIRECTORY_ENTRY_IMPORT.Size', 'OptionalHeader.DataDirectory.IMAGE_DIRECTORY_ENTRY_RESOURCE.Size', 'Section.rsrc.VirtualSize', 'OptionalHeader.MajorOperatingSystemVersion', 'OptionalHeader.MajorImageVersion', 'OptionalHeader.DataDirectory.IMAGE_DIRECTORY_ENTRY_IAT.Size', 'OptionalHeader.DataDirectory.IMAGE_DIRECTORY_ENTRY_IMPORT.VirtualAddress', 'OptionalHeader.Subsystem', 'OptionalHeader.DataDirectory.IMAGE_DIRECTORY_ENTRY_RESOURCE.VirtualAddress', 'OptionalHeader.SizeOfCode', 'Section.rsrc.SizeOfRawData', 'OptionalHeader.MajorLinkerVersion', 'Section.rsrc.VirtualAddress', 'OptionalHeader.DllCharacteristics', 'Section.data.VirtualSize', 'Section.rsrc.PointerToRawData', 'Section.text.VirtualSize', 'OptionalHeader.SizeOfInitializedData', 'OptionalHeader.BaseOfData', 'Section.data.PointerToRawData', 'OptionalHeader.DataDirectory.IMAGE_DIRECTORY_ENTRY_BASERELOC.Size', 'Section.text.SizeOfRawData', 'OptionalHeader.DataDirectory.IMAGE_DIRECTORY_ENTRY_DEBUG.VirtualAddress', 'Section.data.VirtualAddress', 'Section.data.SizeOfRawData', 'OptionalHeader.MajorSubsystemVersion', 'OptionalHeader.DataDirectory.IMAGE_DIRECTORY_ENTRY_IAT.VirtualAddress', 'OptionalHeader.DataDirectory.IMAGE_DIRECTORY_ENTRY_DEBUG.Size', 'OptionalHeader.DataDirectory.IMAGE_DIRECTORY_ENTRY_BASERELOC.VirtualAddress', 'OptionalHeader.DataDirectory.IMAGE_DIRECTORY_ENTRY_LOAD_CONFIG.Size', 'OptionalHeader.DataDirectory.IMAGE_DIRECTORY_ENTRY_TLS.VirtualAddress', 'OptionalHeader.DataDirectory.IMAGE_DIRECTORY_ENTRY_LOAD_CONFIG.VirtualAddress', 'OptionalHeader.SizeOfUninitializedData', 'OptionalHeader.MinorLinkerVersion', 'COMCTL32.DLL', 'OptionalHeader.SizeOfStackReserve', 'Section.text.PointerToRawData', 'OptionalHeader.SizeOfStackCommit', 'OptionalHeader.DataDirectory.IMAGE_DIRECTORY_ENTRY_DELAY_IMPORT.VirtualAddress', 'VERSION.DLL', 'Section.text.Characteristics', 'SHELL32.DLL', 'Section.rsrc.Characteristics', 'OptionalHeader.MinorImageVersion', 'OptionalHeader.SizeOfHeaders', 'OptionalHeader.DataDirectory.IMAGE_DIRECTORY_ENTRY_BOUND_IMPORT.VirtualAddress', 'COMDLG32.DLL', 'OptionalHeader.BaseOfCode', 'Section.text.VirtualAddress', 'GDI32.DLL', 'OptionalHeader.DataDirectory.IMAGE_DIRECTORY_ENTRY_TLS.Size', 'Section.data.Characteristics', 'USER32.DLL', 'SHLWAPI.DLL', 'OptionalHeader.DataDirectory.IMAGE_DIRECTORY_ENTRY_DELAY_IMPORT.Size', 'WSOCK32.DLL', 'OptionalHeader.MinorOperatingSystemVersion', 'OptionalHeader.FileAlignment', 'OptionalHeader.DataDirectory.IMAGE_DIRECTORY_ENTRY_BOUND_IMPORT.Size', 'WINMM.DLL', 'WININET.DLL', 'MPR.DLL', 'OptionalHeader.MinorSubsystemVersion', 'OptionalHeader.SizeOfHeapReserve', 'SECUR32.DLL', 'OLEDLG.DLL', 'NETAPI32.DLL', 'OptionalHeader.DataDirectory.IMAGE_DIRECTORY_ENTRY_COM_DESCRIPTOR.VirtualAddress', 'OptionalHeader.DataDirectory.IMAGE_DIRECTORY_ENTRY_COM_DESCRIPTOR.Size', 'OptionalHeader.SectionAlignment', 'RPCRT4.DLL', 'RASAPI32.DLL', 'LZ32.DLL', 'OptionalHeader.SizeOfHeapCommit', 'OptionalHeader.DataDirectory.IMAGE_DIRECTORY_ENTRY_RESERVED.Size', 'CRTDLL.DLL', 'OptionalHeader.DataDirectory.IMAGE_DIRECTORY_ENTRY_EXCEPTION.Size', 'OptionalHeader.NumberOfRvaAndSizes', 'OptionalHeader.Reserved1', 'Section.rsrc.NumberOfLinenumbers', 'Section.text.PointerToLinenumbers', 'OptionalHeader.LoaderFlags', 'OptionalHeader.DataDirectory.IMAGE_DIRECTORY_ENTRY_EXCEPTION.VirtualAddress', 'OptionalHeader.Magic', 'Section.text.PointerToRelocations', 'WINSOCK.DLL', 'Section.text.NumberOfLinenumbers', 'Section.rsrc.PointerToRelocations', 'OptionalHeader.DataDirectory.IMAGE_DIRECTORY_ENTRY_RESERVED.VirtualAddress', 'OptionalHeader.DataDirectory.IMAGE_DIRECTORY_ENTRY_GLOBALPTR.Size', 'Section.rsrc.PointerToLinenumbers', 'Section.text.NumberOfRelocations', 'Section.rsrc.NumberOfRelocations', 'Section.data.PointerToLinenumbers', 'MAPI32.DLL', 'Section.data.PointerToRelocations', 'Section.data.NumberOfLinenumbers', 'DCIMAN32.DLL', 'ADVAP132.DLL', 'AWFAXP32.DLL', 'AWFXAB32.DLL', 'AWPWD32.DLL', 'AWRESX32.DLL', 'AWUTIL32.DLL', 'BHNETB.DLL', 'BHSUPP.DLL', 'CCAPI.DLL', 'CCEI.DLL', 'CCPSH.DLL', 'CCTN20.DLL', 'CMC.DLL', 'DCIMAN.DLL', 'DSKMAINT.DLL', 'FileHeader.Machine', 'FileHeader.NumberOfSections', 'FileHeader.NumberOfSymbols', 'FileHeader.PointerToSymbolTable', 'FileHeader.SizeOfOptionalHeader', 'FileHeader.TimeDateStamp', 'GROUP.DLL', 'HYPERTERM.DLL', 'KERNL32.DLL', 'MAPI.DLL', 'MFC30.DLL', 'MSFS32.DLL', 'MSNDUI.DLL', 'MSNET32.DLL', 'MSPST32.DLL', 'MSSHRUI.DLL', 'MSVIEWUT.DLL', 'NAL.DLL']\n",
        "# peminer_header_150 = ['OptionalHeader.ImageBase', 'OptionalHeader.DataDirectory.IMAGE_DIRECTORY_ENTRY_SECURITY.Size', 'OptionalHeader.DataDirectory.IMAGE_DIRECTORY_ENTRY_EXPORT.Size', 'FileHeader.Characteristics', 'OptionalHeader.DataDirectory.IMAGE_DIRECTORY_ENTRY_SECURITY.VirtualAddress', 'OptionalHeader.DataDirectory.IMAGE_DIRECTORY_ENTRY_EXPORT.VirtualAddress', 'OptionalHeader.AddressOfEntryPoint', 'OptionalHeader.CheckSum', 'OptionalHeader.SizeOfImage', 'OptionalHeader.DataDirectory.IMAGE_DIRECTORY_ENTRY_IMPORT.Size', 'OptionalHeader.DataDirectory.IMAGE_DIRECTORY_ENTRY_RESOURCE.Size', 'Section.rsrc.VirtualSize', 'OptionalHeader.MajorOperatingSystemVersion', 'OptionalHeader.MajorImageVersion', 'OptionalHeader.DataDirectory.IMAGE_DIRECTORY_ENTRY_IAT.Size', 'OptionalHeader.DataDirectory.IMAGE_DIRECTORY_ENTRY_IMPORT.VirtualAddress', 'OptionalHeader.Subsystem', 'OptionalHeader.DataDirectory.IMAGE_DIRECTORY_ENTRY_RESOURCE.VirtualAddress', 'OptionalHeader.SizeOfCode', 'Section.rsrc.SizeOfRawData', 'OptionalHeader.MajorLinkerVersion', 'Section.rsrc.VirtualAddress', 'OptionalHeader.DllCharacteristics', 'Section.data.VirtualSize', 'Section.rsrc.PointerToRawData', 'Section.text.VirtualSize', 'OptionalHeader.SizeOfInitializedData', 'OptionalHeader.BaseOfData', 'Section.data.PointerToRawData', 'OptionalHeader.DataDirectory.IMAGE_DIRECTORY_ENTRY_BASERELOC.Size', 'Section.text.SizeOfRawData', 'OptionalHeader.DataDirectory.IMAGE_DIRECTORY_ENTRY_DEBUG.VirtualAddress', 'Section.data.VirtualAddress', 'Section.data.SizeOfRawData', 'OptionalHeader.MajorSubsystemVersion', 'OptionalHeader.DataDirectory.IMAGE_DIRECTORY_ENTRY_IAT.VirtualAddress', 'OptionalHeader.DataDirectory.IMAGE_DIRECTORY_ENTRY_DEBUG.Size', 'OptionalHeader.DataDirectory.IMAGE_DIRECTORY_ENTRY_BASERELOC.VirtualAddress', 'OptionalHeader.DataDirectory.IMAGE_DIRECTORY_ENTRY_LOAD_CONFIG.Size', 'OptionalHeader.DataDirectory.IMAGE_DIRECTORY_ENTRY_TLS.VirtualAddress', 'OptionalHeader.DataDirectory.IMAGE_DIRECTORY_ENTRY_LOAD_CONFIG.VirtualAddress', 'OptionalHeader.SizeOfUninitializedData', 'OptionalHeader.MinorLinkerVersion', 'COMCTL32.DLL', 'OptionalHeader.SizeOfStackReserve', 'Section.text.PointerToRawData', 'OptionalHeader.SizeOfStackCommit', 'OptionalHeader.DataDirectory.IMAGE_DIRECTORY_ENTRY_DELAY_IMPORT.VirtualAddress', 'VERSION.DLL', 'Section.text.Characteristics', 'SHELL32.DLL', 'Section.rsrc.Characteristics', 'OptionalHeader.MinorImageVersion', 'OptionalHeader.SizeOfHeaders', 'OptionalHeader.DataDirectory.IMAGE_DIRECTORY_ENTRY_BOUND_IMPORT.VirtualAddress', 'COMDLG32.DLL', 'OptionalHeader.BaseOfCode', 'Section.text.VirtualAddress', 'GDI32.DLL', 'OptionalHeader.DataDirectory.IMAGE_DIRECTORY_ENTRY_TLS.Size', 'Section.data.Characteristics', 'USER32.DLL', 'SHLWAPI.DLL', 'OptionalHeader.DataDirectory.IMAGE_DIRECTORY_ENTRY_DELAY_IMPORT.Size', 'WSOCK32.DLL', 'OptionalHeader.MinorOperatingSystemVersion', 'OptionalHeader.FileAlignment', 'OptionalHeader.DataDirectory.IMAGE_DIRECTORY_ENTRY_BOUND_IMPORT.Size', 'WINMM.DLL', 'WININET.DLL', 'MPR.DLL', 'OptionalHeader.MinorSubsystemVersion', 'OptionalHeader.SizeOfHeapReserve', 'SECUR32.DLL', 'OLEDLG.DLL', 'NETAPI32.DLL', 'OptionalHeader.DataDirectory.IMAGE_DIRECTORY_ENTRY_COM_DESCRIPTOR.VirtualAddress', 'OptionalHeader.DataDirectory.IMAGE_DIRECTORY_ENTRY_COM_DESCRIPTOR.Size', 'OptionalHeader.SectionAlignment', 'RPCRT4.DLL', 'RASAPI32.DLL', 'LZ32.DLL', 'OptionalHeader.SizeOfHeapCommit', 'OptionalHeader.DataDirectory.IMAGE_DIRECTORY_ENTRY_RESERVED.Size', 'CRTDLL.DLL', 'OptionalHeader.DataDirectory.IMAGE_DIRECTORY_ENTRY_EXCEPTION.Size', 'OptionalHeader.NumberOfRvaAndSizes', 'OptionalHeader.Reserved1', 'Section.rsrc.NumberOfLinenumbers', 'Section.text.PointerToLinenumbers', 'OptionalHeader.LoaderFlags', 'OptionalHeader.DataDirectory.IMAGE_DIRECTORY_ENTRY_EXCEPTION.VirtualAddress', 'OptionalHeader.Magic', 'Section.text.PointerToRelocations', 'WINSOCK.DLL', 'Section.text.NumberOfLinenumbers', 'Section.rsrc.PointerToRelocations', 'OptionalHeader.DataDirectory.IMAGE_DIRECTORY_ENTRY_RESERVED.VirtualAddress', 'OptionalHeader.DataDirectory.IMAGE_DIRECTORY_ENTRY_GLOBALPTR.Size', 'Section.rsrc.PointerToLinenumbers', 'Section.text.NumberOfRelocations', 'Section.rsrc.NumberOfRelocations', 'Section.data.PointerToLinenumbers', 'MAPI32.DLL', 'Section.data.PointerToRelocations', 'Section.data.NumberOfLinenumbers', 'DCIMAN32.DLL', 'ADVAP132.DLL', 'AWFAXP32.DLL', 'AWFXAB32.DLL', 'AWPWD32.DLL', 'AWRESX32.DLL', 'AWUTIL32.DLL', 'BHNETB.DLL', 'BHSUPP.DLL', 'CCAPI.DLL', 'CCEI.DLL', 'CCPSH.DLL', 'CCTN20.DLL', 'CMC.DLL', 'DCIMAN.DLL', 'DSKMAINT.DLL', 'FileHeader.Machine', 'FileHeader.NumberOfSections', 'FileHeader.NumberOfSymbols', 'FileHeader.PointerToSymbolTable', 'FileHeader.SizeOfOptionalHeader', 'FileHeader.TimeDateStamp', 'GROUP.DLL', 'HYPERTERM.DLL', 'KERNL32.DLL', 'MAPI.DLL', 'MFC30.DLL', 'MSFS32.DLL', 'MSNDUI.DLL', 'MSNET32.DLL', 'MSPST32.DLL', 'MSSHRUI.DLL', 'MSVIEWUT.DLL', 'NAL.DLL', 'NDIS30.DLL', 'NETAPI.DLL', 'NETBIOS.DLL', 'NETDI.DLL', 'NETSETUP.DLL', 'NWAB32.DLL', 'NWNET32.DLL', 'NWNP32.DLL', 'OptionalHeader.DataDirectory.IMAGE_DIRECTORY_ENTRY_GLOBALPTR.VirtualAddress', 'POWERCFG.DLL']\n",
        "# peminer_header_160 = ['OptionalHeader.ImageBase', 'OptionalHeader.DataDirectory.IMAGE_DIRECTORY_ENTRY_SECURITY.Size', 'OptionalHeader.DataDirectory.IMAGE_DIRECTORY_ENTRY_EXPORT.Size', 'FileHeader.Characteristics', 'OptionalHeader.DataDirectory.IMAGE_DIRECTORY_ENTRY_SECURITY.VirtualAddress', 'OptionalHeader.DataDirectory.IMAGE_DIRECTORY_ENTRY_EXPORT.VirtualAddress', 'OptionalHeader.AddressOfEntryPoint', 'OptionalHeader.CheckSum', 'OptionalHeader.SizeOfImage', 'OptionalHeader.DataDirectory.IMAGE_DIRECTORY_ENTRY_IMPORT.Size', 'OptionalHeader.DataDirectory.IMAGE_DIRECTORY_ENTRY_RESOURCE.Size', 'Section.rsrc.VirtualSize', 'OptionalHeader.MajorOperatingSystemVersion', 'OptionalHeader.MajorImageVersion', 'OptionalHeader.DataDirectory.IMAGE_DIRECTORY_ENTRY_IAT.Size', 'OptionalHeader.DataDirectory.IMAGE_DIRECTORY_ENTRY_IMPORT.VirtualAddress', 'OptionalHeader.Subsystem', 'OptionalHeader.DataDirectory.IMAGE_DIRECTORY_ENTRY_RESOURCE.VirtualAddress', 'OptionalHeader.SizeOfCode', 'Section.rsrc.SizeOfRawData', 'OptionalHeader.MajorLinkerVersion', 'Section.rsrc.VirtualAddress', 'OptionalHeader.DllCharacteristics', 'Section.data.VirtualSize', 'Section.rsrc.PointerToRawData', 'Section.text.VirtualSize', 'OptionalHeader.SizeOfInitializedData', 'OptionalHeader.BaseOfData', 'Section.data.PointerToRawData', 'OptionalHeader.DataDirectory.IMAGE_DIRECTORY_ENTRY_BASERELOC.Size', 'Section.text.SizeOfRawData', 'OptionalHeader.DataDirectory.IMAGE_DIRECTORY_ENTRY_DEBUG.VirtualAddress', 'Section.data.VirtualAddress', 'Section.data.SizeOfRawData', 'OptionalHeader.MajorSubsystemVersion', 'OptionalHeader.DataDirectory.IMAGE_DIRECTORY_ENTRY_IAT.VirtualAddress', 'OptionalHeader.DataDirectory.IMAGE_DIRECTORY_ENTRY_DEBUG.Size', 'OptionalHeader.DataDirectory.IMAGE_DIRECTORY_ENTRY_BASERELOC.VirtualAddress', 'OptionalHeader.DataDirectory.IMAGE_DIRECTORY_ENTRY_LOAD_CONFIG.Size', 'OptionalHeader.DataDirectory.IMAGE_DIRECTORY_ENTRY_TLS.VirtualAddress', 'OptionalHeader.DataDirectory.IMAGE_DIRECTORY_ENTRY_LOAD_CONFIG.VirtualAddress', 'OptionalHeader.SizeOfUninitializedData', 'OptionalHeader.MinorLinkerVersion', 'COMCTL32.DLL', 'OptionalHeader.SizeOfStackReserve', 'Section.text.PointerToRawData', 'OptionalHeader.SizeOfStackCommit', 'OptionalHeader.DataDirectory.IMAGE_DIRECTORY_ENTRY_DELAY_IMPORT.VirtualAddress', 'VERSION.DLL', 'Section.text.Characteristics', 'SHELL32.DLL', 'Section.rsrc.Characteristics', 'OptionalHeader.MinorImageVersion', 'OptionalHeader.SizeOfHeaders', 'OptionalHeader.DataDirectory.IMAGE_DIRECTORY_ENTRY_BOUND_IMPORT.VirtualAddress', 'COMDLG32.DLL', 'OptionalHeader.BaseOfCode', 'Section.text.VirtualAddress', 'GDI32.DLL', 'OptionalHeader.DataDirectory.IMAGE_DIRECTORY_ENTRY_TLS.Size', 'Section.data.Characteristics', 'USER32.DLL', 'SHLWAPI.DLL', 'OptionalHeader.DataDirectory.IMAGE_DIRECTORY_ENTRY_DELAY_IMPORT.Size', 'WSOCK32.DLL', 'OptionalHeader.MinorOperatingSystemVersion', 'OptionalHeader.FileAlignment', 'OptionalHeader.DataDirectory.IMAGE_DIRECTORY_ENTRY_BOUND_IMPORT.Size', 'WINMM.DLL', 'WININET.DLL', 'MPR.DLL', 'OptionalHeader.MinorSubsystemVersion', 'OptionalHeader.SizeOfHeapReserve', 'SECUR32.DLL', 'OLEDLG.DLL', 'NETAPI32.DLL', 'OptionalHeader.DataDirectory.IMAGE_DIRECTORY_ENTRY_COM_DESCRIPTOR.VirtualAddress', 'OptionalHeader.DataDirectory.IMAGE_DIRECTORY_ENTRY_COM_DESCRIPTOR.Size', 'OptionalHeader.SectionAlignment', 'RPCRT4.DLL', 'RASAPI32.DLL', 'LZ32.DLL', 'OptionalHeader.SizeOfHeapCommit', 'OptionalHeader.DataDirectory.IMAGE_DIRECTORY_ENTRY_RESERVED.Size', 'CRTDLL.DLL', 'OptionalHeader.DataDirectory.IMAGE_DIRECTORY_ENTRY_EXCEPTION.Size', 'OptionalHeader.NumberOfRvaAndSizes', 'OptionalHeader.Reserved1', 'Section.rsrc.NumberOfLinenumbers', 'Section.text.PointerToLinenumbers', 'OptionalHeader.LoaderFlags', 'OptionalHeader.DataDirectory.IMAGE_DIRECTORY_ENTRY_EXCEPTION.VirtualAddress', 'OptionalHeader.Magic', 'Section.text.PointerToRelocations', 'WINSOCK.DLL', 'Section.text.NumberOfLinenumbers', 'Section.rsrc.PointerToRelocations', 'OptionalHeader.DataDirectory.IMAGE_DIRECTORY_ENTRY_RESERVED.VirtualAddress', 'OptionalHeader.DataDirectory.IMAGE_DIRECTORY_ENTRY_GLOBALPTR.Size', 'Section.rsrc.PointerToLinenumbers', 'Section.text.NumberOfRelocations', 'Section.rsrc.NumberOfRelocations', 'Section.data.PointerToLinenumbers', 'MAPI32.DLL', 'Section.data.PointerToRelocations', 'Section.data.NumberOfLinenumbers', 'DCIMAN32.DLL', 'ADVAP132.DLL', 'AWFAXP32.DLL', 'AWFXAB32.DLL', 'AWPWD32.DLL', 'AWRESX32.DLL', 'AWUTIL32.DLL', 'BHNETB.DLL', 'BHSUPP.DLL', 'CCAPI.DLL', 'CCEI.DLL', 'CCPSH.DLL', 'CCTN20.DLL', 'CMC.DLL', 'DCIMAN.DLL', 'DSKMAINT.DLL', 'FileHeader.Machine', 'FileHeader.NumberOfSections', 'FileHeader.NumberOfSymbols', 'FileHeader.PointerToSymbolTable', 'FileHeader.SizeOfOptionalHeader', 'FileHeader.TimeDateStamp', 'GROUP.DLL', 'HYPERTERM.DLL', 'KERNL32.DLL', 'MAPI.DLL', 'MFC30.DLL', 'MSFS32.DLL', 'MSNDUI.DLL', 'MSNET32.DLL', 'MSPST32.DLL', 'MSSHRUI.DLL', 'MSVIEWUT.DLL', 'NAL.DLL', 'NDIS30.DLL', 'NETAPI.DLL', 'NETBIOS.DLL', 'NETDI.DLL', 'NETSETUP.DLL', 'NWAB32.DLL', 'NWNET32.DLL', 'NWNP32.DLL', 'OptionalHeader.DataDirectory.IMAGE_DIRECTORY_ENTRY_GLOBALPTR.VirtualAddress', 'POWERCFG.DLL', 'RASAPI16.DLL', 'RASPI.DLL', 'RPCLTC1.DLL', 'RPCNS4.DLL', 'RPCTLC3.DLL', 'RPCTLC5.DLL', 'RPCTLC6.DLL', 'RPCTLS3.DLL', 'RPCTLS5.DLL', 'RPCTLS6.DLL']\n",
        "# peminer_header_170 = ['OptionalHeader.ImageBase', 'OptionalHeader.DataDirectory.IMAGE_DIRECTORY_ENTRY_SECURITY.Size', 'OptionalHeader.DataDirectory.IMAGE_DIRECTORY_ENTRY_EXPORT.Size', 'FileHeader.Characteristics', 'OptionalHeader.DataDirectory.IMAGE_DIRECTORY_ENTRY_SECURITY.VirtualAddress', 'OptionalHeader.DataDirectory.IMAGE_DIRECTORY_ENTRY_EXPORT.VirtualAddress', 'OptionalHeader.AddressOfEntryPoint', 'OptionalHeader.CheckSum', 'OptionalHeader.SizeOfImage', 'OptionalHeader.DataDirectory.IMAGE_DIRECTORY_ENTRY_IMPORT.Size', 'OptionalHeader.DataDirectory.IMAGE_DIRECTORY_ENTRY_RESOURCE.Size', 'Section.rsrc.VirtualSize', 'OptionalHeader.MajorOperatingSystemVersion', 'OptionalHeader.MajorImageVersion', 'OptionalHeader.DataDirectory.IMAGE_DIRECTORY_ENTRY_IAT.Size', 'OptionalHeader.DataDirectory.IMAGE_DIRECTORY_ENTRY_IMPORT.VirtualAddress', 'OptionalHeader.Subsystem', 'OptionalHeader.DataDirectory.IMAGE_DIRECTORY_ENTRY_RESOURCE.VirtualAddress', 'OptionalHeader.SizeOfCode', 'Section.rsrc.SizeOfRawData', 'OptionalHeader.MajorLinkerVersion', 'Section.rsrc.VirtualAddress', 'OptionalHeader.DllCharacteristics', 'Section.data.VirtualSize', 'Section.rsrc.PointerToRawData', 'Section.text.VirtualSize', 'OptionalHeader.SizeOfInitializedData', 'OptionalHeader.BaseOfData', 'Section.data.PointerToRawData', 'OptionalHeader.DataDirectory.IMAGE_DIRECTORY_ENTRY_BASERELOC.Size', 'Section.text.SizeOfRawData', 'OptionalHeader.DataDirectory.IMAGE_DIRECTORY_ENTRY_DEBUG.VirtualAddress', 'Section.data.VirtualAddress', 'Section.data.SizeOfRawData', 'OptionalHeader.MajorSubsystemVersion', 'OptionalHeader.DataDirectory.IMAGE_DIRECTORY_ENTRY_IAT.VirtualAddress', 'OptionalHeader.DataDirectory.IMAGE_DIRECTORY_ENTRY_DEBUG.Size', 'OptionalHeader.DataDirectory.IMAGE_DIRECTORY_ENTRY_BASERELOC.VirtualAddress', 'OptionalHeader.DataDirectory.IMAGE_DIRECTORY_ENTRY_LOAD_CONFIG.Size', 'OptionalHeader.DataDirectory.IMAGE_DIRECTORY_ENTRY_TLS.VirtualAddress', 'OptionalHeader.DataDirectory.IMAGE_DIRECTORY_ENTRY_LOAD_CONFIG.VirtualAddress', 'OptionalHeader.SizeOfUninitializedData', 'OptionalHeader.MinorLinkerVersion', 'COMCTL32.DLL', 'OptionalHeader.SizeOfStackReserve', 'Section.text.PointerToRawData', 'OptionalHeader.SizeOfStackCommit', 'OptionalHeader.DataDirectory.IMAGE_DIRECTORY_ENTRY_DELAY_IMPORT.VirtualAddress', 'VERSION.DLL', 'Section.text.Characteristics', 'SHELL32.DLL', 'Section.rsrc.Characteristics', 'OptionalHeader.MinorImageVersion', 'OptionalHeader.SizeOfHeaders', 'OptionalHeader.DataDirectory.IMAGE_DIRECTORY_ENTRY_BOUND_IMPORT.VirtualAddress', 'COMDLG32.DLL', 'OptionalHeader.BaseOfCode', 'Section.text.VirtualAddress', 'GDI32.DLL', 'OptionalHeader.DataDirectory.IMAGE_DIRECTORY_ENTRY_TLS.Size', 'Section.data.Characteristics', 'USER32.DLL', 'SHLWAPI.DLL', 'OptionalHeader.DataDirectory.IMAGE_DIRECTORY_ENTRY_DELAY_IMPORT.Size', 'WSOCK32.DLL', 'OptionalHeader.MinorOperatingSystemVersion', 'OptionalHeader.FileAlignment', 'OptionalHeader.DataDirectory.IMAGE_DIRECTORY_ENTRY_BOUND_IMPORT.Size', 'WINMM.DLL', 'WININET.DLL', 'MPR.DLL', 'OptionalHeader.MinorSubsystemVersion', 'OptionalHeader.SizeOfHeapReserve', 'SECUR32.DLL', 'OLEDLG.DLL', 'NETAPI32.DLL', 'OptionalHeader.DataDirectory.IMAGE_DIRECTORY_ENTRY_COM_DESCRIPTOR.VirtualAddress', 'OptionalHeader.DataDirectory.IMAGE_DIRECTORY_ENTRY_COM_DESCRIPTOR.Size', 'OptionalHeader.SectionAlignment', 'RPCRT4.DLL', 'RASAPI32.DLL', 'LZ32.DLL', 'OptionalHeader.SizeOfHeapCommit', 'OptionalHeader.DataDirectory.IMAGE_DIRECTORY_ENTRY_RESERVED.Size', 'CRTDLL.DLL', 'OptionalHeader.DataDirectory.IMAGE_DIRECTORY_ENTRY_EXCEPTION.Size', 'OptionalHeader.NumberOfRvaAndSizes', 'OptionalHeader.Reserved1', 'Section.rsrc.NumberOfLinenumbers', 'Section.text.PointerToLinenumbers', 'OptionalHeader.LoaderFlags', 'OptionalHeader.DataDirectory.IMAGE_DIRECTORY_ENTRY_EXCEPTION.VirtualAddress', 'OptionalHeader.Magic', 'Section.text.PointerToRelocations', 'WINSOCK.DLL', 'Section.text.NumberOfLinenumbers', 'Section.rsrc.PointerToRelocations', 'OptionalHeader.DataDirectory.IMAGE_DIRECTORY_ENTRY_RESERVED.VirtualAddress', 'OptionalHeader.DataDirectory.IMAGE_DIRECTORY_ENTRY_GLOBALPTR.Size', 'Section.rsrc.PointerToLinenumbers', 'Section.text.NumberOfRelocations', 'Section.rsrc.NumberOfRelocations', 'Section.data.PointerToLinenumbers', 'MAPI32.DLL', 'Section.data.PointerToRelocations', 'Section.data.NumberOfLinenumbers', 'DCIMAN32.DLL', 'ADVAP132.DLL', 'AWFAXP32.DLL', 'AWFXAB32.DLL', 'AWPWD32.DLL', 'AWRESX32.DLL', 'AWUTIL32.DLL', 'BHNETB.DLL', 'BHSUPP.DLL', 'CCAPI.DLL', 'CCEI.DLL', 'CCPSH.DLL', 'CCTN20.DLL', 'CMC.DLL', 'DCIMAN.DLL', 'DSKMAINT.DLL', 'FileHeader.Machine', 'FileHeader.NumberOfSections', 'FileHeader.NumberOfSymbols', 'FileHeader.PointerToSymbolTable', 'FileHeader.SizeOfOptionalHeader', 'FileHeader.TimeDateStamp', 'GROUP.DLL', 'HYPERTERM.DLL', 'KERNL32.DLL', 'MAPI.DLL', 'MFC30.DLL', 'MSFS32.DLL', 'MSNDUI.DLL', 'MSNET32.DLL', 'MSPST32.DLL', 'MSSHRUI.DLL', 'MSVIEWUT.DLL', 'NAL.DLL', 'NDIS30.DLL', 'NETAPI.DLL', 'NETBIOS.DLL', 'NETDI.DLL', 'NETSETUP.DLL', 'NWAB32.DLL', 'NWNET32.DLL', 'NWNP32.DLL', 'OptionalHeader.DataDirectory.IMAGE_DIRECTORY_ENTRY_GLOBALPTR.VirtualAddress', 'POWERCFG.DLL', 'RASAPI16.DLL', 'RASPI.DLL', 'RPCLTC1.DLL', 'RPCNS4.DLL', 'RPCTLC3.DLL', 'RPCTLC5.DLL', 'RPCTLC6.DLL', 'RPCTLS3.DLL', 'RPCTLS5.DLL', 'RPCTLS6.DLL', 'RSRC32.DLL', 'Resource.Characteristics', 'Resource.MajorVersion', 'Resource.MinorVersion', 'Resource.NumberOfIdEntries', 'Resource.NumberOfNamedEntries', 'Resource.RT_ACCELERATOR', 'Resource.RT_BITMAP', 'Resource.RT_CURSOR', 'Resource.RT_DIALOG']\n",
        "# peminer_header_180 = ['OptionalHeader.ImageBase', 'OptionalHeader.DataDirectory.IMAGE_DIRECTORY_ENTRY_SECURITY.Size', 'OptionalHeader.DataDirectory.IMAGE_DIRECTORY_ENTRY_EXPORT.Size', 'FileHeader.Characteristics', 'OptionalHeader.DataDirectory.IMAGE_DIRECTORY_ENTRY_SECURITY.VirtualAddress', 'OptionalHeader.DataDirectory.IMAGE_DIRECTORY_ENTRY_EXPORT.VirtualAddress', 'OptionalHeader.AddressOfEntryPoint', 'OptionalHeader.CheckSum', 'OptionalHeader.SizeOfImage', 'OptionalHeader.DataDirectory.IMAGE_DIRECTORY_ENTRY_IMPORT.Size', 'OptionalHeader.DataDirectory.IMAGE_DIRECTORY_ENTRY_RESOURCE.Size', 'Section.rsrc.VirtualSize', 'OptionalHeader.MajorOperatingSystemVersion', 'OptionalHeader.MajorImageVersion', 'OptionalHeader.DataDirectory.IMAGE_DIRECTORY_ENTRY_IAT.Size', 'OptionalHeader.DataDirectory.IMAGE_DIRECTORY_ENTRY_IMPORT.VirtualAddress', 'OptionalHeader.Subsystem', 'OptionalHeader.DataDirectory.IMAGE_DIRECTORY_ENTRY_RESOURCE.VirtualAddress', 'OptionalHeader.SizeOfCode', 'Section.rsrc.SizeOfRawData', 'OptionalHeader.MajorLinkerVersion', 'Section.rsrc.VirtualAddress', 'OptionalHeader.DllCharacteristics', 'Section.data.VirtualSize', 'Section.rsrc.PointerToRawData', 'Section.text.VirtualSize', 'OptionalHeader.SizeOfInitializedData', 'OptionalHeader.BaseOfData', 'Section.data.PointerToRawData', 'OptionalHeader.DataDirectory.IMAGE_DIRECTORY_ENTRY_BASERELOC.Size', 'Section.text.SizeOfRawData', 'OptionalHeader.DataDirectory.IMAGE_DIRECTORY_ENTRY_DEBUG.VirtualAddress', 'Section.data.VirtualAddress', 'Section.data.SizeOfRawData', 'OptionalHeader.MajorSubsystemVersion', 'OptionalHeader.DataDirectory.IMAGE_DIRECTORY_ENTRY_IAT.VirtualAddress', 'OptionalHeader.DataDirectory.IMAGE_DIRECTORY_ENTRY_DEBUG.Size', 'OptionalHeader.DataDirectory.IMAGE_DIRECTORY_ENTRY_BASERELOC.VirtualAddress', 'OptionalHeader.DataDirectory.IMAGE_DIRECTORY_ENTRY_LOAD_CONFIG.Size', 'OptionalHeader.DataDirectory.IMAGE_DIRECTORY_ENTRY_TLS.VirtualAddress', 'OptionalHeader.DataDirectory.IMAGE_DIRECTORY_ENTRY_LOAD_CONFIG.VirtualAddress', 'OptionalHeader.SizeOfUninitializedData', 'OptionalHeader.MinorLinkerVersion', 'COMCTL32.DLL', 'OptionalHeader.SizeOfStackReserve', 'Section.text.PointerToRawData', 'OptionalHeader.SizeOfStackCommit', 'OptionalHeader.DataDirectory.IMAGE_DIRECTORY_ENTRY_DELAY_IMPORT.VirtualAddress', 'VERSION.DLL', 'Section.text.Characteristics', 'SHELL32.DLL', 'Section.rsrc.Characteristics', 'OptionalHeader.MinorImageVersion', 'OptionalHeader.SizeOfHeaders', 'OptionalHeader.DataDirectory.IMAGE_DIRECTORY_ENTRY_BOUND_IMPORT.VirtualAddress', 'COMDLG32.DLL', 'OptionalHeader.BaseOfCode', 'Section.text.VirtualAddress', 'GDI32.DLL', 'OptionalHeader.DataDirectory.IMAGE_DIRECTORY_ENTRY_TLS.Size', 'Section.data.Characteristics', 'USER32.DLL', 'SHLWAPI.DLL', 'OptionalHeader.DataDirectory.IMAGE_DIRECTORY_ENTRY_DELAY_IMPORT.Size', 'WSOCK32.DLL', 'OptionalHeader.MinorOperatingSystemVersion', 'OptionalHeader.FileAlignment', 'OptionalHeader.DataDirectory.IMAGE_DIRECTORY_ENTRY_BOUND_IMPORT.Size', 'WINMM.DLL', 'WININET.DLL', 'MPR.DLL', 'OptionalHeader.MinorSubsystemVersion', 'OptionalHeader.SizeOfHeapReserve', 'SECUR32.DLL', 'OLEDLG.DLL', 'NETAPI32.DLL', 'OptionalHeader.DataDirectory.IMAGE_DIRECTORY_ENTRY_COM_DESCRIPTOR.VirtualAddress', 'OptionalHeader.DataDirectory.IMAGE_DIRECTORY_ENTRY_COM_DESCRIPTOR.Size', 'OptionalHeader.SectionAlignment', 'RPCRT4.DLL', 'RASAPI32.DLL', 'LZ32.DLL', 'OptionalHeader.SizeOfHeapCommit', 'OptionalHeader.DataDirectory.IMAGE_DIRECTORY_ENTRY_RESERVED.Size', 'CRTDLL.DLL', 'OptionalHeader.DataDirectory.IMAGE_DIRECTORY_ENTRY_EXCEPTION.Size', 'OptionalHeader.NumberOfRvaAndSizes', 'OptionalHeader.Reserved1', 'Section.rsrc.NumberOfLinenumbers', 'Section.text.PointerToLinenumbers', 'OptionalHeader.LoaderFlags', 'OptionalHeader.DataDirectory.IMAGE_DIRECTORY_ENTRY_EXCEPTION.VirtualAddress', 'OptionalHeader.Magic', 'Section.text.PointerToRelocations', 'WINSOCK.DLL', 'Section.text.NumberOfLinenumbers', 'Section.rsrc.PointerToRelocations', 'OptionalHeader.DataDirectory.IMAGE_DIRECTORY_ENTRY_RESERVED.VirtualAddress', 'OptionalHeader.DataDirectory.IMAGE_DIRECTORY_ENTRY_GLOBALPTR.Size', 'Section.rsrc.PointerToLinenumbers', 'Section.text.NumberOfRelocations', 'Section.rsrc.NumberOfRelocations', 'Section.data.PointerToLinenumbers', 'MAPI32.DLL', 'Section.data.PointerToRelocations', 'Section.data.NumberOfLinenumbers', 'DCIMAN32.DLL', 'ADVAP132.DLL', 'AWFAXP32.DLL', 'AWFXAB32.DLL', 'AWPWD32.DLL', 'AWRESX32.DLL', 'AWUTIL32.DLL', 'BHNETB.DLL', 'BHSUPP.DLL', 'CCAPI.DLL', 'CCEI.DLL', 'CCPSH.DLL', 'CCTN20.DLL', 'CMC.DLL', 'DCIMAN.DLL', 'DSKMAINT.DLL', 'FileHeader.Machine', 'FileHeader.NumberOfSections', 'FileHeader.NumberOfSymbols', 'FileHeader.PointerToSymbolTable', 'FileHeader.SizeOfOptionalHeader', 'FileHeader.TimeDateStamp', 'GROUP.DLL', 'HYPERTERM.DLL', 'KERNL32.DLL', 'MAPI.DLL', 'MFC30.DLL', 'MSFS32.DLL', 'MSNDUI.DLL', 'MSNET32.DLL', 'MSPST32.DLL', 'MSSHRUI.DLL', 'MSVIEWUT.DLL', 'NAL.DLL', 'NDIS30.DLL', 'NETAPI.DLL', 'NETBIOS.DLL', 'NETDI.DLL', 'NETSETUP.DLL', 'NWAB32.DLL', 'NWNET32.DLL', 'NWNP32.DLL', 'OptionalHeader.DataDirectory.IMAGE_DIRECTORY_ENTRY_GLOBALPTR.VirtualAddress', 'POWERCFG.DLL', 'RASAPI16.DLL', 'RASPI.DLL', 'RPCLTC1.DLL', 'RPCNS4.DLL', 'RPCTLC3.DLL', 'RPCTLC5.DLL', 'RPCTLC6.DLL', 'RPCTLS3.DLL', 'RPCTLS5.DLL', 'RPCTLS6.DLL', 'RSRC32.DLL', 'Resource.Characteristics', 'Resource.MajorVersion', 'Resource.MinorVersion', 'Resource.NumberOfIdEntries', 'Resource.NumberOfNamedEntries', 'Resource.RT_ACCELERATOR', 'Resource.RT_BITMAP', 'Resource.RT_CURSOR', 'Resource.RT_DIALOG', 'Resource.RT_DLGINCLUDE', 'Resource.RT_FONT', 'Resource.RT_FONTDIR', 'Resource.RT_GROUP_CURSOR', 'Resource.RT_GROUP_ICON', 'Resource.RT_ICON', 'Resource.RT_MENU', 'Resource.RT_MESSAGETABLE', 'Resource.RT_RCDATA', 'Resource.RT_STRING']\n",
        "## 원래 헤더(188)\n",
        "# peminer_header = ['ADVAP132.DLL', 'AWFAXP32.DLL', 'AWFXAB32.DLL', 'AWPWD32.DLL', 'AWRESX32.DLL', 'AWUTIL32.DLL', 'BHNETB.DLL', 'BHSUPP.DLL', 'CCAPI.DLL', 'CCEI.DLL', 'CCPSH.DLL', 'CCTN20.DLL', 'CMC.DLL', 'COMCTL32.DLL', 'COMDLG32.DLL', 'CRTDLL.DLL', 'DCIMAN.DLL', 'DCIMAN32.DLL', 'DSKMAINT.DLL', 'FileHeader.Characteristics', 'FileHeader.Machine', 'FileHeader.NumberOfSections', 'FileHeader.NumberOfSymbols', 'FileHeader.PointerToSymbolTable', 'FileHeader.SizeOfOptionalHeader', 'FileHeader.TimeDateStamp', 'GDI32.DLL', 'GROUP.DLL', 'HYPERTERM.DLL', 'KERNL32.DLL', 'LZ32.DLL', 'MAPI.DLL', 'MAPI32.DLL', 'MFC30.DLL', 'MPR.DLL', 'MSFS32.DLL', 'MSNDUI.DLL', 'MSNET32.DLL', 'MSPST32.DLL', 'MSSHRUI.DLL', 'MSVIEWUT.DLL', 'NAL.DLL', 'NDIS30.DLL', 'NETAPI.DLL', 'NETAPI32.DLL', 'NETBIOS.DLL', 'NETDI.DLL', 'NETSETUP.DLL', 'NWAB32.DLL', 'NWNET32.DLL', 'NWNP32.DLL', 'OLEDLG.DLL', 'OptionalHeader.AddressOfEntryPoint', 'OptionalHeader.BaseOfCode', 'OptionalHeader.BaseOfData', 'OptionalHeader.CheckSum', 'OptionalHeader.DataDirectory.IMAGE_DIRECTORY_ENTRY_BASERELOC.Size', 'OptionalHeader.DataDirectory.IMAGE_DIRECTORY_ENTRY_BASERELOC.VirtualAddress', 'OptionalHeader.DataDirectory.IMAGE_DIRECTORY_ENTRY_BOUND_IMPORT.Size', 'OptionalHeader.DataDirectory.IMAGE_DIRECTORY_ENTRY_BOUND_IMPORT.VirtualAddress', 'OptionalHeader.DataDirectory.IMAGE_DIRECTORY_ENTRY_COM_DESCRIPTOR.Size', 'OptionalHeader.DataDirectory.IMAGE_DIRECTORY_ENTRY_COM_DESCRIPTOR.VirtualAddress', 'OptionalHeader.DataDirectory.IMAGE_DIRECTORY_ENTRY_DEBUG.Size', 'OptionalHeader.DataDirectory.IMAGE_DIRECTORY_ENTRY_DEBUG.VirtualAddress', 'OptionalHeader.DataDirectory.IMAGE_DIRECTORY_ENTRY_DELAY_IMPORT.Size', 'OptionalHeader.DataDirectory.IMAGE_DIRECTORY_ENTRY_DELAY_IMPORT.VirtualAddress', 'OptionalHeader.DataDirectory.IMAGE_DIRECTORY_ENTRY_EXCEPTION.Size', 'OptionalHeader.DataDirectory.IMAGE_DIRECTORY_ENTRY_EXCEPTION.VirtualAddress', 'OptionalHeader.DataDirectory.IMAGE_DIRECTORY_ENTRY_EXPORT.Size', 'OptionalHeader.DataDirectory.IMAGE_DIRECTORY_ENTRY_EXPORT.VirtualAddress', 'OptionalHeader.DataDirectory.IMAGE_DIRECTORY_ENTRY_GLOBALPTR.Size', 'OptionalHeader.DataDirectory.IMAGE_DIRECTORY_ENTRY_GLOBALPTR.VirtualAddress', 'OptionalHeader.DataDirectory.IMAGE_DIRECTORY_ENTRY_IAT.Size', 'OptionalHeader.DataDirectory.IMAGE_DIRECTORY_ENTRY_IAT.VirtualAddress', 'OptionalHeader.DataDirectory.IMAGE_DIRECTORY_ENTRY_IMPORT.Size', 'OptionalHeader.DataDirectory.IMAGE_DIRECTORY_ENTRY_IMPORT.VirtualAddress', 'OptionalHeader.DataDirectory.IMAGE_DIRECTORY_ENTRY_LOAD_CONFIG.Size', 'OptionalHeader.DataDirectory.IMAGE_DIRECTORY_ENTRY_LOAD_CONFIG.VirtualAddress', 'OptionalHeader.DataDirectory.IMAGE_DIRECTORY_ENTRY_RESERVED.Size', 'OptionalHeader.DataDirectory.IMAGE_DIRECTORY_ENTRY_RESERVED.VirtualAddress', 'OptionalHeader.DataDirectory.IMAGE_DIRECTORY_ENTRY_RESOURCE.Size', 'OptionalHeader.DataDirectory.IMAGE_DIRECTORY_ENTRY_RESOURCE.VirtualAddress', 'OptionalHeader.DataDirectory.IMAGE_DIRECTORY_ENTRY_SECURITY.Size', 'OptionalHeader.DataDirectory.IMAGE_DIRECTORY_ENTRY_SECURITY.VirtualAddress', 'OptionalHeader.DataDirectory.IMAGE_DIRECTORY_ENTRY_TLS.Size', 'OptionalHeader.DataDirectory.IMAGE_DIRECTORY_ENTRY_TLS.VirtualAddress', 'OptionalHeader.DllCharacteristics', 'OptionalHeader.FileAlignment', 'OptionalHeader.ImageBase', 'OptionalHeader.LoaderFlags', 'OptionalHeader.Magic', 'OptionalHeader.MajorImageVersion', 'OptionalHeader.MajorLinkerVersion', 'OptionalHeader.MajorOperatingSystemVersion', 'OptionalHeader.MajorSubsystemVersion', 'OptionalHeader.MinorImageVersion', 'OptionalHeader.MinorLinkerVersion', 'OptionalHeader.MinorOperatingSystemVersion', 'OptionalHeader.MinorSubsystemVersion', 'OptionalHeader.NumberOfRvaAndSizes', 'OptionalHeader.Reserved1', 'OptionalHeader.SectionAlignment', 'OptionalHeader.SizeOfCode', 'OptionalHeader.SizeOfHeaders', 'OptionalHeader.SizeOfHeapCommit', 'OptionalHeader.SizeOfHeapReserve', 'OptionalHeader.SizeOfImage', 'OptionalHeader.SizeOfInitializedData', 'OptionalHeader.SizeOfStackCommit', 'OptionalHeader.SizeOfStackReserve', 'OptionalHeader.SizeOfUninitializedData', 'OptionalHeader.Subsystem', 'POWERCFG.DLL', 'RASAPI16.DLL', 'RASAPI32.DLL', 'RASPI.DLL', 'RPCLTC1.DLL', 'RPCNS4.DLL', 'RPCRT4.DLL', 'RPCTLC3.DLL', 'RPCTLC5.DLL', 'RPCTLC6.DLL', 'RPCTLS3.DLL', 'RPCTLS5.DLL', 'RPCTLS6.DLL', 'RSRC32.DLL', 'Resource.Characteristics', 'Resource.MajorVersion', 'Resource.MinorVersion', 'Resource.NumberOfIdEntries', 'Resource.NumberOfNamedEntries', 'Resource.RT_ACCELERATOR', 'Resource.RT_BITMAP', 'Resource.RT_CURSOR', 'Resource.RT_DIALOG', 'Resource.RT_DLGINCLUDE', 'Resource.RT_FONT', 'Resource.RT_FONTDIR', 'Resource.RT_GROUP_CURSOR', 'Resource.RT_GROUP_ICON', 'Resource.RT_ICON', 'Resource.RT_MENU', 'Resource.RT_MESSAGETABLE', 'Resource.RT_RCDATA', 'Resource.RT_STRING', 'Resource.RT_VERSION', 'Resource.TimeDateStamp', 'SAPNSP.DLL', 'SECUR32.DLL', 'SHELL32.DLL', 'SHLWAPI.DLL', 'SLENH.DLL', 'Section.data.Characteristics', 'Section.data.NumberOfLinenumbers', 'Section.data.NumberOfRelocations', 'Section.data.PointerToLinenumbers', 'Section.data.PointerToRawData', 'Section.data.PointerToRelocations', 'Section.data.SizeOfRawData', 'Section.data.VirtualAddress', 'Section.data.VirtualSize', 'Section.rsrc.Characteristics', 'Section.rsrc.NumberOfLinenumbers', 'Section.rsrc.NumberOfRelocations', 'Section.rsrc.PointerToLinenumbers', 'Section.rsrc.PointerToRawData', 'Section.rsrc.PointerToRelocations', 'Section.rsrc.SizeOfRawData', 'Section.rsrc.VirtualAddress', 'Section.rsrc.VirtualSize', 'Section.text.Characteristics', 'Section.text.NumberOfLinenumbers', 'Section.text.NumberOfRelocations', 'Section.text.PointerToLinenumbers', 'Section.text.PointerToRawData', 'Section.text.PointerToRelocations', 'Section.text.SizeOfRawData', 'Section.text.VirtualAddress', 'Section.text.VirtualSize', 'UMDM32.DLL', 'USER32.DLL', 'VERSION.DLL', 'WININET.DLL', 'WINMM.DLL', 'WINREG.DLL', 'WINSOCK.DLL', 'WS2.DLL', 'WSOCK32.DLL']\n",
        "\n",
        "class PeminerParser:\n",
        "    def __init__(self, path):\n",
        "        self.report = read_json(path)\n",
        "        self.vector = []\n",
        "    \n",
        "    def process_report(self):\n",
        "        # 원래 코드\n",
        "        # self.vector = [value for _, value in sorted(self.report.items(), key=lambda x: x[0])]\n",
        "        # 바뀐 코드\n",
        "        for _,value in sorted(self.report.items(), key=lambda x: x[0]):\n",
        "          if _ in peminer_header_40:\n",
        "            self.vector.append(value)\n",
        "        return self.vector\n",
        "\n",
        "class PeminerParser:\n",
        "    def __init__(self, path):\n",
        "        self.report = read_json(path)\n",
        "        self.vector = []\n",
        "    \n",
        "    def process_report(self):\n",
        "        # 원래 코드\n",
        "        # self.vector = [value for _, value in sorted(self.report.items(), key=lambda x: x[0])]\n",
        "        # 바뀐 코드\n",
        "        for _,value in sorted(self.report.items(), key=lambda x: x[0]):\n",
        "          if _ in peminer_header_40:\n",
        "            self.vector.append(value)\n",
        "        return self.vector"
      ],
      "execution_count": null,
      "outputs": []
    },
    {
      "cell_type": "markdown",
      "metadata": {
        "id": "CNysM8xY75zR"
      },
      "source": [
        "\n",
        "\n",
        "> #### EMBER\n",
        "\n"
      ]
    },
    {
      "cell_type": "code",
      "metadata": {
        "id": "CjYVFWhTGP4o"
      },
      "source": [
        "class EmberParser:\n",
        "    def __init__(self, path):\n",
        "        self.report = read_json(path)\n",
        "        self.vector = []\n",
        "    \n",
        "    def get_histogram_info(self):\n",
        "        histogram = np.array(self.report[\"histogram\"])\n",
        "        total = histogram.sum()\n",
        "        vector = histogram / total\n",
        "        return vector.tolist()\n",
        "    \n",
        "    def get_byteentropy_info(self):\n",
        "        byteentropy = np.array(self.report[\"byteentropy\"])\n",
        "        total = byteentropy.sum()\n",
        "        vector = byteentropy / total\n",
        "        return vector.tolist()\n",
        "\n",
        "    def get_string_info(self):\n",
        "        strings = self.report[\"strings\"]\n",
        "\n",
        "        hist_divisor = float(strings['printables']) if strings['printables'] > 0 else 1.0\n",
        "        vector = [\n",
        "            strings['numstrings'], \n",
        "            strings['avlength'], \n",
        "            strings['printables'],\n",
        "            strings['entropy'], \n",
        "            strings['paths'], \n",
        "            strings['urls'],\n",
        "            strings['registry'], \n",
        "            strings['MZ']\n",
        "        ]\n",
        "        vector += (np.asarray(strings['printabledist']) / hist_divisor).tolist()\n",
        "        return vector\n",
        "    \n",
        "    def get_general_file_info(self):\n",
        "        general = self.report[\"general\"]\n",
        "        vector = [\n",
        "             general['exports'], general['has_debug'], general['has_relocations'], general['has_resources'],\n",
        "            general['has_signature'], general['has_tls'], general['size']\n",
        "        ]\n",
        "        return vector\n",
        "\n",
        "    def get_imports_info(self):\n",
        "        imports = self.report[\"imports\"]\n",
        "        libraries = list(set([l.lower() for l in imports.keys()]))\n",
        "        libraries_hashed = FeatureHasher(256, input_type=\"string\").transform([libraries]).toarray()[0]\n",
        "        import_ = [lib.lower() + ':' + e for lib, elist in imports.items() for e in elist]\n",
        "        imports_hashed = FeatureHasher(1024, input_type=\"string\").transform([import_]).toarray()[0]\n",
        "        vector = np.hstack([libraries_hashed, imports_hashed])\n",
        "        return vector.tolist()\n",
        "\n",
        "    def get_datadirectories_info(self):\n",
        "        # 특정 데이터만 가져오기 위해 중요도가 높은 데이터의 index만 Data_Directory 리스트에 저장\n",
        "        Data_Directory = [0, 1, 2, 3, 4, 5, 8, 9, 10, 11, 12, 13, 19, 20, 21, 24, 25, 27, 29]\n",
        "        datadirectories = self.report[\"datadirectories\"]\n",
        "        name_order = [\"EXPORT_TABLE\", \"IMPORT_TABLE\", \"RESOURCE_TABLE\", \"EXCEPTION_TABLE\", \"CERTIFICATE_TABLE\",\n",
        "                      \"BASE_RELOCATION_TABLE\", \"DEBUG\", \"ARCHITECTURE\", \"GLOBAL_PTR\", \"TLS_TABLE\", \"LOAD_CONFIG_TABLE\",\n",
        "                      \"BOUND_IMPORT\", \"IAT\", \"DELAY_IMPORT_DESCRIPTOR\", \"CLR_RUNTIME_HEADER\"]\n",
        "        vector = np.zeros(19, dtype=np.float32)\n",
        "        cnt = 0\n",
        "        for i in Data_Directory:\n",
        "          if i < len(datadirectories):\n",
        "              if i%2 == 0:\n",
        "                vector[cnt] = datadirectories[i//2][\"size\"]\n",
        "              if i%2 == 1:\n",
        "                vector[cnt] = datadirectories[i//2][\"virtual_address\"]\n",
        "          cnt += 1\n",
        "        return vector.tolist()\n",
        "\n",
        "    def get_section_info(self):\n",
        "        # 특정 데이터만 가져오기 위해 중요도가 높은 데이터의 index만 아래의 리스트에 저장      \n",
        "        Section_General = [1, 3, 4]\n",
        "        Section_Size = [1, 4, 5, 14, 22, 28, 32, 35, 41, 42, 43]\n",
        "        Section_Entropy = [5, 14, 20, 28, 32, 35, 40, 41, 42, 43]\n",
        "        Section_Virtual_Size = [0, 4, 5, 10, 14, 16, 27, 32, 34, 35, 38, 41, 42, 43]\n",
        "        Section_Entry = [9, 17, 20, 39]\n",
        "        Section_Characteristic = [13, 23, 37, 47]\n",
        "\n",
        "        sections = self.report[\"section\"]\n",
        "        vector = [\n",
        "            #0. len(sections),  # total number of sections\n",
        "            sum(1 for s in sections['sections'] if s['size'] == 0), # number of sections with nonzero size\n",
        "            #2. sum(1 for s in sections['sections'] if s['name'] == \"\"),  # number of sections with an empty name\n",
        "            sum(1 for s in sections['sections'] if 'MEM_READ' in s['props'] and 'MEM_EXECUTE' in s['props']), # number of RX\n",
        "            sum(1 for s in sections['sections'] if 'MEM_WRITE' in s['props']) # number of W\n",
        "        ]\n",
        "        # gross characteristics of each section\n",
        "        section_sizes = [(s['name'], s['size']) for s in sections['sections']]\n",
        "        section_sizes_hashed = FeatureHasher(50, input_type=\"pair\").transform([section_sizes]).toarray()[0] # 50 \n",
        "        section_sizes_hashed_new = []\n",
        "        for value in Section_Size:\n",
        "          section_sizes_hashed_new.append(section_sizes_hashed[value])\n",
        "        \n",
        "        section_entropy = [(s['name'], s['entropy']) for s in sections['sections']]\n",
        "        section_entropy_hashed = FeatureHasher(50, input_type=\"pair\").transform([section_entropy]).toarray()[0] # 50\n",
        "        section_entropy_hashed_new = []\n",
        "        for value in Section_Entropy:\n",
        "          section_entropy_hashed_new.append(section_entropy_hashed[value])\n",
        "\n",
        "        section_vsize = [(s['name'], s['vsize']) for s in sections['sections']]\n",
        "        section_vsize_hashed = FeatureHasher(50, input_type=\"pair\").transform([section_vsize]).toarray()[0]\n",
        "        section_vsize_hashed_new = []\n",
        "        for value in Section_Virtual_Size:\n",
        "          section_vsize_hashed_new.append(section_vsize_hashed[value])\n",
        "        \n",
        "        entry_name_hashed = FeatureHasher(50, input_type=\"string\").transform([sections['entry']]).toarray()[0]\n",
        "        entry_name_hashed_new = []\n",
        "        for value in Section_Entry:\n",
        "          entry_name_hashed_new.append(entry_name_hashed[value])\n",
        "\n",
        "        characteristics = [p for s in sections['sections'] for p in s['props'] if s['name'] == sections['entry']]\n",
        "        characteristics_hashed = FeatureHasher(50, input_type=\"string\").transform([characteristics]).toarray()[0]\n",
        "        characteristics_hashed_new = []\n",
        "        for value in Section_Characteristic:\n",
        "          characteristics_hashed_new.append(characteristics_hashed[value])\n",
        "        \n",
        "        hstack = np.hstack([\n",
        "            vector, section_sizes_hashed_new, section_entropy_hashed_new, section_vsize_hashed_new, entry_name_hashed_new,\n",
        "            characteristics_hashed_new\n",
        "        ])\n",
        "        return hstack.tolist()\n",
        "\n",
        "    def get_exports_info(self):\n",
        "        exports_hashed = FeatureHasher(128, input_type=\"string\").transform([self.report]).toarray()[0]\n",
        "        return exports_hashed.tolist()\n",
        "\n",
        "    def get_header_file_info(self):\n",
        "        # 특정 데이터만 가져오기 위해 중요도가 높은 데이터의 index만 Header_Info 리스트에 저장      \n",
        "        Header_Info = [0, 11, 14, 15, 28, 29, 34, 51, 52, 53, 54, 55, 57, 59, 60]\n",
        "        fh1 = FeatureHasher(10, input_type=\"string\").transform([self.report['header']['coff']['characteristics']]).toarray()[0]\n",
        "        fh1_new = []\n",
        "        for i in [0,3,4]:\n",
        "          fh1_new.append(fh1[i])\n",
        "        fh2 = FeatureHasher(10, input_type=\"string\").transform([[self.report['header']['optional']['subsystem']]]).toarray()[0]  # 21-30 -> 28, 29\n",
        "        fh2_new = []\n",
        "        for i in [7,8]:\n",
        "          fh2_new.append(fh2[i])\n",
        "        fh3 = FeatureHasher(10, input_type=\"string\").transform([self.report['header']['optional']['dll_characteristics']]).toarray()[0]  # 31-40 ->34\n",
        "        fh3_new = []\n",
        "        fh3_new.append(fh3[3])\n",
        "\n",
        "        # 리스트에 해당되지 않은 데이터들은 가져올 필요가 없으므로 주석 처리\n",
        "        hstack = np.hstack([\n",
        "            self.report['header']['coff']['timestamp'], # 0 \n",
        "            #FeatureHasher(10, input_type=\"string\").transform([[self.report['header']['coff']['machine']]]).toarray()[0],  # 1~10 \n",
        "            fh1_new, # 11-20 -> 11,14,15\n",
        "            fh2_new,  # 21-30 -> 28, 29\n",
        "            fh3_new,  # 31-40 ->34\n",
        "            #FeatureHasher(10, input_type=\"string\").transform([[self.report['header']['optional']['magic']]]).toarray()[0],  # 41-50\n",
        "            self.report['header']['optional']['major_image_version'], # 51\n",
        "            self.report['header']['optional']['minor_image_version'], # 52\n",
        "            self.report['header']['optional']['major_linker_version'],# 53\n",
        "            self.report['header']['optional']['minor_linker_version'],# 54\n",
        "            self.report['header']['optional']['major_operating_system_version'],# 55\n",
        "            #self.report['header']['optional']['minor_operating_system_version'],# 56\n",
        "            self.report['header']['optional']['major_subsystem_version'],# 57\n",
        "            #self.report['header']['optional']['minor_subsystem_version'],# 58\n",
        "            self.report['header']['optional']['sizeof_code'],# 59\n",
        "            self.report['header']['optional']['sizeof_headers'],# 60\n",
        "            #self.report['header']['optional']['sizeof_heap_commit'],# 61\n",
        "        ])\n",
        "        return hstack.tolist()\n",
        "\n",
        "\n",
        "    def process_report(self):\n",
        "        vector = []\n",
        "        vector += self.get_general_file_info()\n",
        "        #vector += self.get_histogram_info()\n",
        "        #vector += self.get_byteentropy_info()\n",
        "        #vector += self.get_string_info()\n",
        "        vector += self.get_imports_info()\n",
        "        vector += self.get_datadirectories_info()\n",
        "        vector += self.get_section_info()\n",
        "        vector += self.get_exports_info()\n",
        "        vector += self.get_header_file_info()\n",
        "\n",
        "        return vector"
      ],
      "execution_count": null,
      "outputs": []
    },
    {
      "cell_type": "markdown",
      "metadata": {
        "id": "Ffs9rJhA77RV"
      },
      "source": [
        "\n",
        "> #### PESTUDIO\n",
        "\n"
      ]
    },
    {
      "cell_type": "code",
      "metadata": {
        "id": "P2RoaWWnGPt0"
      },
      "source": [
        "class PestudioParser:\n",
        "    def __init__(self, path, flag = 0):\n",
        "        if flag == -1:\n",
        "          return\n",
        "        self.report = read_json(path)\n",
        "        self.vector = []\n",
        "\n",
        "    def get_max_entropy_info(self, flag = 0):\n",
        "        entropy = []\n",
        "        try:\n",
        "            if flag == -1:\n",
        "              raise Exception\n",
        "            if \"entropy\" in self.report[\"image\"][\"dos-header\"]:\n",
        "              entropy.append(float(self.report[\"image\"][\"dos-header\"][\"entropy\"]))\n",
        "            if \"entropy\" in self.report[\"image\"][\"dos-stub\"]:\n",
        "              entropy.append(float(self.report[\"image\"][\"dos-stub\"][\"entropy\"]))\n",
        "            if \"entropy\" in self.report[\"image\"][\"overlay\"]:\n",
        "              entropy.append(float(self.report[\"image\"][\"overlay\"][\"entropy\"]))\n",
        "            if \"entropy\" in self.report[\"image\"][\"overview\"]:\n",
        "              entropy.append(float(self.report[\"image\"][\"overview\"][\"entropy\"]))\n",
        "            \n",
        "            Max = max(entropy)\n",
        "\n",
        "            if Max >= 6.0:\n",
        "                result = 1\n",
        "            else:\n",
        "                result = 0\n",
        "        except Exception:\n",
        "            result = -1\n",
        "        return [result]\n",
        "       \n",
        "    def get_certificate_info(self, flag = 0):\n",
        "        try: \n",
        "            if flag == -1:\n",
        "              raise Exception\n",
        "            certificate = self.report[\"image\"][\"certificate\"]\n",
        "\n",
        "            if certificate == \"n/a\":\n",
        "                result = 1\n",
        "            else:\n",
        "                result = 0\n",
        "        except:\n",
        "            result = -1\n",
        "        return [result]   \n",
        "\n",
        "    def get_debug_info(self, flag = 0):\n",
        "        try: \n",
        "            if flag == -1:\n",
        "              raise Exception\n",
        "            debug = self.report[\"image\"][\"debug\"]\n",
        "            if debug == \"n/a\":\n",
        "                result = 1\n",
        "            else:\n",
        "                result = 0\n",
        "        except:\n",
        "            result = -1\n",
        "        return [result]        \n",
        "\n",
        "    def get_network_run_from_swap_info(self, flag = 0):\n",
        "        try:\n",
        "            if flag == -1:\n",
        "              raise Exception\n",
        "            network_run_from_swap = self.report[\"image\"][\"file-header\"][\"network-run-from-swap\"]\n",
        "            if network_run_from_swap == \"true\":\n",
        "                result = 1\n",
        "            else:\n",
        "                result = 0\n",
        "        except: \n",
        "            result = -1\n",
        "        return [result]\n",
        "\n",
        "    def get_control_flow_guard_info(self, flag = 0):\n",
        "        try:\n",
        "            if flag == -1:\n",
        "              raise Exception\n",
        "            control_flow_guard = self.report[\"image\"][\"optional-header\"][\"control-flow-guard\"]\n",
        "            if control_flow_guard == \"n/a\":\n",
        "                result = 1\n",
        "            else:\n",
        "                result = 0\n",
        "        except:\n",
        "            result = -1\n",
        "        return [result]\n",
        "\n",
        "    def get_exports_info(self, flag = 0):\n",
        "        try: \n",
        "            if flag == -1:\n",
        "              raise Exception\n",
        "            exports = self.report[\"image\"][\"exports\"]\n",
        "            if exports == \"n/a\":\n",
        "                result = 1\n",
        "            else:\n",
        "                result = 0\n",
        "        except:\n",
        "            result = -1\n",
        "        return [result]\n",
        "\n",
        "    def get_tls_callbacks_info(self, flag = 0):\n",
        "        try: \n",
        "            if flag == -1:\n",
        "              raise Exception\n",
        "            tls_callbacks = self.report[\"image\"][\"tls-callbacks\"]\n",
        "            if tls_callbacks == \"n/a\":\n",
        "                result = 1\n",
        "            else:\n",
        "                result = 0\n",
        "        except:\n",
        "            result = -1\n",
        "        return [result]\n",
        "\n",
        "    def get_section_info(self, flag = 0):\n",
        "        try:\n",
        "            if flag == -1:\n",
        "              raise Exception\n",
        "            sections = self.report[\"image\"][\"sections\"][\"section\"]\n",
        "            num_of_section = len(section)\n",
        "\n",
        "            max_entropy = 0.0\n",
        "            min_entropy = 50.0\n",
        "            excutable = 0\n",
        "            for section in sections:\n",
        "                max_entropy = max(max_entropy, float(section[\"@entropy\"]))\n",
        "                min_entropy = min(min_entropy, float(section[\"@entropy\"]))        \n",
        "\n",
        "                if section[\"@excutable\"] == \"-\":\n",
        "                    excutable += 1\n",
        "                else:\n",
        "                    excutable += 0\n",
        "        except:\n",
        "            num_of_section = 0\n",
        "            max_entropy = -1.0\n",
        "            min_entropy = -1.0\n",
        "            excutable = -1\n",
        "        return [num_of_section, max_entropy, min_entropy, excutable]\n",
        "\n",
        "    def get_import_info(self, flag = 0):\n",
        "        dic_o = {'VerQueryValueA': 3826, 'GetFileVersionInfoA': 3381, 'GetFileVersionInfoSizeA': 3376, 'lstrcmpiA': 3359, 'HeapReAlloc': 3285, 'FindNextFileA': 3272, 'SetErrorMode': 3241, 'DispatchMessageA': 3241, 'IsWindowEnabled': 3200}\n",
        "        vector = []\n",
        "        try:\n",
        "            if flag == -1:\n",
        "              raise Exception\n",
        "            imports = self.report[\"image\"][\"imports\"][\"import\"]\n",
        "            for key,value in dic_o.items():\n",
        "              # print(key)\n",
        "              if key in imports[\"@name\"]:\n",
        "                vector.append(1)\n",
        "              else:\n",
        "                vector.append(0)\n",
        "        except:\n",
        "            vector = [-1 for i in range(len(dic_o))]\n",
        "        return vector\n",
        "\n",
        "    def get_import_info2(self, flag = 0):\n",
        "        dic_x = {'': 159559, 'RegQueryValueExA': 5448, 'RegOpenKeyExA': 5358, 'SelectObject': 5280, 'GetDeviceCaps': 5019, 'SetTextColor': 4967, 'CharNextA': 4890, 'SetBkColor': 4879, 'FindFirstFileA': 4766, 'SetBkMode': 4735, 'DestroyWindow': 4552, 'GetStartupInfoA': 4496, 'GetFileType': 4437, 'lstrcpynA': 4427, 'ImageList_Create': 4411}\n",
        "        vector = []\n",
        "        try:\n",
        "            if flag == -1:\n",
        "              raise Exception\n",
        "            imports = self.report[\"image\"][\"imports\"][\"import\"]\n",
        "            for key,value in dic_x.items():\n",
        "              # print(key)\n",
        "              if key in imports[\"@name\"]:\n",
        "                vector.append(1)\n",
        "              else:\n",
        "                vector.append(0)\n",
        "        except:\n",
        "            vector = [-1 for i in range(len(dic_x))]\n",
        "        return vector      \n",
        "            \n",
        "    def get_virustotal_info(self, flag = 0):  # 정상 악성 비교해봤을 때, 악성은 offline이 아님\n",
        "        try:\n",
        "            if flag == -1:\n",
        "              raise Exception\n",
        "            if self.report[\"image\"][\"virustotal\"] != \"offline\":\n",
        "                result = 1\n",
        "            else:\n",
        "                result = 0\n",
        "        except:\n",
        "            result = -1\n",
        "\n",
        "        return [result]\n",
        "        \n",
        "    def process_report(self, flag = 0):\n",
        "        vector = []\n",
        "        vector += self.get_max_entropy_info(flag)\n",
        "        vector += self.get_certificate_info(flag)\n",
        "        vector += self.get_debug_info(flag)\n",
        "        vector += self.get_network_run_from_swap_info(flag)\n",
        "        vector += self.get_control_flow_guard_info(flag)\n",
        "        vector += self.get_exports_info(flag)\n",
        "        vector += self.get_tls_callbacks_info(flag)\n",
        "        vector += self.get_section_info(flag)\n",
        "        vector += self.get_import_info(flag)\n",
        "        vector += self.get_import_info2(flag)\n",
        "        vector += self.get_virustotal_info(flag)\n",
        "        return vector"
      ],
      "execution_count": null,
      "outputs": []
    },
    {
      "cell_type": "markdown",
      "metadata": {
        "id": "wH_fYIR_GoO6"
      },
      "source": [
        "### 학습데이터 구성"
      ]
    },
    {
      "cell_type": "markdown",
      "metadata": {
        "id": "RPkRA4hf-wVE"
      },
      "source": [
        "> #### PEMINER, EMBER"
      ]
    },
    {
      "cell_type": "code",
      "metadata": {
        "id": "lx-P4FMQQ3e8"
      },
      "source": [
        "import os\n",
        "import queue\n",
        "\n",
        "learn_data = []\n",
        "\n",
        "def get_subdir(path):\n",
        "    global learn_data\n",
        "    try:  # 검색이 허가되지 않은 디렉토리 접근에 관한 예외처리\n",
        "        dirfiles = os.listdir(path)  # path에 해당하는 디렉토리 dirfiles에 추가\n",
        "    except PermissionError:\n",
        "        return []\n",
        "\n",
        "    subdir_list = []\n",
        "    for each in dirfiles:\n",
        "        if each.endswith(\".json\"):  # .txt로 끝나는 파일은 따로 all_txt리스트에 저장\n",
        "            learn_data.append(path + each)\n",
        "        full_name = path + each  # path와 each(디렉토리)\n",
        "        if os.path.isdir(full_name):\n",
        "            subdir_list.append(full_name + \"/\")\n",
        "    return subdir_list\n",
        "\n",
        "\n",
        "dir_queue = queue.Queue()\n",
        "# /Library/ 아래의 모든 하위 디렉토리 찾기\n",
        "dir_queue.put(\"PEMINER/학습데이터/\")  # 검색하고자 하는 디렉토리를 줄 앞에 세움\n",
        "\n",
        "while not dir_queue.empty():  # 큐가 비어있는 상태인지 확인\n",
        "    dir_name = dir_queue.get()  # 큐에서 빼낸 dir_name\n",
        "    subdir_names = get_subdir(dir_name)  # dir_name의 하위 디렉토리를 subdir_names에 저장\n",
        "    for each in subdir_names:  # subdir_names리스트에 있는 디렉토리들을 다시 큐에 넣음\n",
        "        dir_queue.put(each)\n",
        "\n",
        "#for dir in learn_data:\n",
        "#    print(dir)"
      ],
      "execution_count": null,
      "outputs": []
    },
    {
      "cell_type": "markdown",
      "metadata": {
        "id": "zmvjvlTF6FCU"
      },
      "source": [
        "> #### PESTUDIO\n",
        "\n"
      ]
    },
    {
      "cell_type": "code",
      "metadata": {
        "id": "TxKIYzFTl6I9"
      },
      "source": [
        "import os\n",
        "import queue\n",
        "\n",
        "pestudio_data = []\n",
        "\n",
        "def get_subdir(path):\n",
        "    global pestudio_data\n",
        "    try:  # 검색이 허가되지 않은 디렉토리 접근에 관한 예외처리\n",
        "        dirfiles = os.listdir(path)  # path에 해당하는 디렉토리 dirfiles에 추가\n",
        "    except PermissionError:\n",
        "        return []\n",
        "\n",
        "    subdir_list = []\n",
        "    for each in dirfiles:\n",
        "        if each.endswith(\".json\"):  # .txt로 끝나는 파일은 따로 all_txt리스트에 저장\n",
        "            pestudio_data.append(path + each)\n",
        "        full_name = path + each  # path와 each(디렉토리)\n",
        "        if os.path.isdir(full_name):\n",
        "            subdir_list.append(full_name + \"/\")\n",
        "    return subdir_list\n",
        "\n",
        "\n",
        "dir_queue = queue.Queue()\n",
        "# /Library/ 아래의 모든 하위 디렉토리 찾기\n",
        "dir_queue.put(\"PESTUDIO/학습데이터/\")  # 검색하고자 하는 디렉토리를 줄 앞에 세움\n",
        "\n",
        "while not dir_queue.empty():  # 큐가 비어있는 상태인지 확인\n",
        "    dir_name = dir_queue.get()  # 큐에서 빼낸 dir_name\n",
        "    subdir_names = get_subdir(dir_name)  # dir_name의 하위 디렉토리를 subdir_names에 저장\n",
        "    for each in subdir_names:  # subdir_names리스트에 있는 디렉토리들을 다시 큐에 넣음\n",
        "        dir_queue.put(each)\n",
        "\n",
        "#for dir in pestudio_data:\n",
        "#    print(dir)"
      ],
      "execution_count": null,
      "outputs": []
    },
    {
      "cell_type": "markdown",
      "metadata": {
        "id": "Xg8CbdCV-1QV"
      },
      "source": [
        "> #### PEMINER + EMBER + PESTUDIO"
      ]
    },
    {
      "cell_type": "code",
      "metadata": {
        "id": "6_wfhNejGnrd",
        "colab": {
          "base_uri": "https://localhost:8080/"
        },
        "outputId": "716d561f-5346-41d1-e665-e22afb578e60"
      },
      "source": [
        "# 데이터의 특징 벡터 모음(2차원 리스트) : X\n",
        "# 데이터의 레이블 모음(1차원 리스트) : y\n",
        "X, y = [], []\n",
        "\n",
        "for path in learn_data:\n",
        "  feature_vector = []\n",
        "  temp, fdata, fname = path.strip().split(\"/\")\n",
        "  fname = fname.replace(\".json\",\"\")\n",
        "  label = learn_label_table[fname]\n",
        "  for data in [\"PEMINER\", \"EMBER\",\"PESTUDIO\"]:\n",
        "        path = f\"{data}/{fdata}/{fname}.json\"\n",
        "        if data == \"PEMINER\":\n",
        "            feature_vector += PeminerParser(path).process_report()\n",
        "        elif data == \"EMBER\":\n",
        "            feature_vector += EmberParser(path).process_report()\n",
        "        elif data == \"PESTUDIO\" and path in pestudio_data:\n",
        "            feature_vector += PestudioParser(path).process_report()\n",
        "        else:  \n",
        "            feature_vector += PestudioParser(path, -1).process_report(-1)\n",
        "  X.append(feature_vector)\n",
        "  y.append(label)\n",
        "\n",
        "np.asarray(X).shape, np.asarray(y).shape"
      ],
      "execution_count": null,
      "outputs": [
        {
          "output_type": "execute_result",
          "data": {
            "text/plain": [
              "((20000, 1571), (20000,))"
            ]
          },
          "metadata": {
            "tags": []
          },
          "execution_count": 11
        }
      ]
    },
    {
      "cell_type": "markdown",
      "metadata": {
        "id": "cJoqBTsAIaPG"
      },
      "source": [
        "### 검증데이터 구성"
      ]
    },
    {
      "cell_type": "markdown",
      "metadata": {
        "id": "T4lwCHe4-8_i"
      },
      "source": [
        "> #### PEMINER, EMBER"
      ]
    },
    {
      "cell_type": "code",
      "metadata": {
        "id": "KSdc5ApKGQ9z"
      },
      "source": [
        "import os\n",
        "import queue\n",
        "\n",
        "veri_data = []\n",
        "\n",
        "def get_subdir(path):\n",
        "    global veri_data\n",
        "    try:  # 검색이 허가되지 않은 디렉토리 접근에 관한 예외처리\n",
        "        dirfiles = os.listdir(path)  # path에 해당하는 디렉토리 dirfiles에 추가\n",
        "    except PermissionError:\n",
        "        return []\n",
        "\n",
        "    subdir_list = []\n",
        "    for each in dirfiles:\n",
        "        if each.endswith(\".json\"):  # .txt로 끝나는 파일은 따로 all_txt리스트에 저장\n",
        "            veri_data.append(path + each)\n",
        "        full_name = path + each  # path와 each(디렉토리)\n",
        "        if os.path.isdir(full_name):\n",
        "            subdir_list.append(full_name + \"/\")\n",
        "    return subdir_list\n",
        "\n",
        "\n",
        "dir_queue = queue.Queue()\n",
        "# /Library/ 아래의 모든 하위 디렉토리 찾기\n",
        "dir_queue.put(\"PEMINER/검증데이터/\")  # 검색하고자 하는 디렉토리를 줄 앞에 세움\n",
        "\n",
        "while not dir_queue.empty():  # 큐가 비어있는 상태인지 확인\n",
        "    dir_name = dir_queue.get()  # 큐에서 빼낸 dir_name\n",
        "    subdir_names = get_subdir(dir_name)  # dir_name의 하위 디렉토리를 subdir_names에 저장\n",
        "    for each in subdir_names:  # subdir_names리스트에 있는 디렉토리들을 다시 큐에 넣음\n",
        "        dir_queue.put(each)\n"
      ],
      "execution_count": null,
      "outputs": []
    },
    {
      "cell_type": "markdown",
      "metadata": {
        "id": "lnvablNa6aw1"
      },
      "source": [
        "\n",
        "\n",
        "> #### PESTUDIO\n",
        "\n"
      ]
    },
    {
      "cell_type": "code",
      "metadata": {
        "id": "vgRIJzJ4q4xh"
      },
      "source": [
        "import os\n",
        "import queue\n",
        "\n",
        "pestudio_veri_data = []\n",
        "\n",
        "def get_subdir(path):\n",
        "    global pestudio_veri_data\n",
        "    try:  # 검색이 허가되지 않은 디렉토리 접근에 관한 예외처리\n",
        "        dirfiles = os.listdir(path)  # path에 해당하는 디렉토리 dirfiles에 추가\n",
        "    except PermissionError:\n",
        "        return []\n",
        "\n",
        "    subdir_list = []\n",
        "    for each in dirfiles:\n",
        "        if each.endswith(\".json\"):  # .txt로 끝나는 파일은 따로 all_txt리스트에 저장\n",
        "            pestudio_veri_data.append(path + each)\n",
        "        full_name = path + each  # path와 each(디렉토리)\n",
        "        if os.path.isdir(full_name):\n",
        "            subdir_list.append(full_name + \"/\")\n",
        "    return subdir_list\n",
        "\n",
        "dir_queue = queue.Queue()\n",
        "# /Library/ 아래의 모든 하위 디렉토리 찾기\n",
        "dir_queue.put(\"PESTUDIO/검증데이터/\")  # 검색하고자 하는 디렉토리를 줄 앞에 세움\n",
        "\n",
        "while not dir_queue.empty():  # 큐가 비어있는 상태인지 확인\n",
        "    dir_name = dir_queue.get()  # 큐에서 빼낸 dir_name\n",
        "    subdir_names = get_subdir(dir_name)  # dir_name의 하위 디렉토리를 subdir_names에 저장\n",
        "    for each in subdir_names:  # subdir_names리스트에 있는 디렉토리들을 다시 큐에 넣음\n",
        "        dir_queue.put(each)"
      ],
      "execution_count": null,
      "outputs": []
    },
    {
      "cell_type": "markdown",
      "metadata": {
        "id": "ru0m5H42_BU7"
      },
      "source": [
        "> #### PEMINER + EMBER + PESTUDIO"
      ]
    },
    {
      "cell_type": "code",
      "metadata": {
        "colab": {
          "base_uri": "https://localhost:8080/"
        },
        "id": "XskaeAIdnCNY",
        "outputId": "db2773f9-5e0d-4b85-8328-d2b2ce51852d"
      },
      "source": [
        "# 데이터의 특징 벡터 모음(2차원 리스트) : X\n",
        "# 데이터의 레이블 모음(1차원 리스트) : y\n",
        "A, b = [], []\n",
        "\n",
        "for path in veri_data:\n",
        "  feature_vector = []\n",
        "  temp, fdata, fname = path.strip().split(\"/\")\n",
        "  fname = fname.replace(\".json\",\"\")\n",
        "  label = verify_label_table[fname]\n",
        "  for data in [\"PEMINER\", \"EMBER\",\"PESTUDIO\"]:\n",
        "        path = f\"{data}/{fdata}/{fname}.json\"\n",
        "        if data == \"PEMINER\":\n",
        "            feature_vector += PeminerParser(path).process_report()\n",
        "        elif data == \"EMBER\":\n",
        "            feature_vector += EmberParser(path).process_report()\n",
        "        elif data == \"PESTUDIO\" and path in pestudio_veri_data:\n",
        "            feature_vector += PestudioParser(path).process_report()\n",
        "        else:  \n",
        "            feature_vector += PestudioParser(path, -1).process_report(-1)\n",
        "  A.append(feature_vector)\n",
        "  b.append(label)\n",
        "\n",
        "np.asarray(A).shape, np.asarray(b).shape"
      ],
      "execution_count": null,
      "outputs": [
        {
          "output_type": "execute_result",
          "data": {
            "text/plain": [
              "((10000, 1571), (10000,))"
            ]
          },
          "metadata": {
            "tags": []
          },
          "execution_count": 14
        }
      ]
    },
    {
      "cell_type": "markdown",
      "metadata": {
        "id": "7D4p7EzGHzbm"
      },
      "source": [
        "### 학습 및 검증"
      ]
    },
    {
      "cell_type": "code",
      "metadata": {
        "id": "WjDcWbxPH5Nn"
      },
      "source": [
        "SEED = 41\n",
        "\n",
        "def load_model(**kwargs):\n",
        "    if kwargs[\"model\"] == \"rf\":\n",
        "        return RandomForestClassifier(random_state=kwargs[\"random_state\"], n_jobs=4)\n",
        "    elif kwargs[\"model\"] == \"dt\": # decision tree\n",
        "        return DecisionTreeClassifier(random_state=kwargs[\"random_state\"])\n",
        "    elif kwargs[\"model\"] == \"lgb\":\n",
        "        return LGBMClassifier(random_state=kwargs[\"random_state\"])\n",
        "    elif kwargs[\"model\"] == \"svm\":\n",
        "        return SVC(random_state=kwargs[\"random_state\"])\n",
        "    elif kwargs[\"model\"] == \"lr\":\n",
        "        return LogisticRegression(random_state=kwargs[\"random_state\"], n_jobs=-1)\n",
        "    elif kwargs[\"model\"] == \"knn\":\n",
        "        return KNeighborsClassifier(n_jobs=-1)\n",
        "    elif kwargs[\"model\"] == \"adaboost\":\n",
        "        return AdaBoostClassifier(random_state=kwargs[\"random_state\"])\n",
        "    elif kwargs[\"model\"] == \"mlp\":\n",
        "        return MLPClassifier(random_state=kwargs[\"random_state\"])\n",
        "    else:\n",
        "        print(\"Unsupported Algorithm\")\n",
        "        return None\n",
        "\n",
        "def train(X_train, y_train, model):\n",
        "    '''\n",
        "        머신러닝 모델을 선택하여 학습을 진행하는 함수\n",
        "\t\n",
        "        :param X_train: 학습할 2차원 리스트 특징벡터\n",
        "        :param y_train: 학습할 1차원 리스트 레이블 벡터\n",
        "        :param model: 문자열, 선택할 머신러닝 알고리즘\n",
        "        :return: 학습된 머신러닝 모델 객체\n",
        "    '''\n",
        "    clf = load_model(model=model, random_state=SEED)\n",
        "    clf.fit(X_train, y_train)\n",
        "    return clf\n",
        "\n",
        "def evaluate(X_test, y_test, model):\n",
        "    '''\n",
        "        학습된 머신러닝 모델로 검증 데이터를 검증하는 함수\n",
        "\t\n",
        "        :param X_test: 검증할 2차원 리스트 특징 벡터\n",
        "        :param y_test: 검증할 1차원 리스트 레이블 벡터\n",
        "        :param model: 학습된 머신러닝 모델 객체\n",
        "    '''\n",
        "    predict = model.predict(X_test)\n",
        "    print(\"정확도\", model.score(X_test, y_test))\n"
      ],
      "execution_count": null,
      "outputs": []
    },
    {
      "cell_type": "code",
      "metadata": {
        "id": "cbWTdCAdGRAr",
        "colab": {
          "base_uri": "https://localhost:8080/"
        },
        "outputId": "86a6f965-dbda-4fc8-fb75-d21be290bff2"
      },
      "source": [
        "# 학습\n",
        "models = []\n",
        "for model in [\"rf\", \"lgb\"]:\n",
        "    clf = train(X, y, model)\n",
        "    models.append(clf)\n",
        "\n",
        "# 검증\n",
        "# 실제 검증 시에는 제공한 검증데이터를 검증에 사용해야 함\n",
        "for model in models:\n",
        "    evaluate(A, b, model)"
      ],
      "execution_count": null,
      "outputs": [
        {
          "output_type": "stream",
          "text": [
            "정확도 0.9547\n",
            "정확도 0.9563\n"
          ],
          "name": "stdout"
        }
      ]
    },
    {
      "cell_type": "markdown",
      "metadata": {
        "id": "2BymEmm0qN8C"
      },
      "source": [
        "### 앙상블"
      ]
    },
    {
      "cell_type": "code",
      "metadata": {
        "id": "gpMv5cR0GRGt"
      },
      "source": [
        "def ensemble_result(X, y, models):\n",
        "    '''\n",
        "        학습된 모델들의 결과를 앙상블하는 함수\n",
        "   \n",
        "        :param X: 검증할 2차원 리스트 특징 벡터\n",
        "        :param y: 검증할 1차원 리스트 레이블 벡터\n",
        "        :param models: 1개 이상의 학습된 머신러닝 모델 객체를 가지는 1차원 리스트\n",
        "    '''\n",
        "    \n",
        "    # Soft Voting\n",
        "    # https://devkor.tistory.com/entry/Soft-Voting-%EA%B3%BC-Hard-Voting\n",
        "    predicts = []\n",
        "    for model in models:\n",
        "        prob = [result for _, result in model.predict_proba(X)]\n",
        "        predicts.append(prob)\n",
        "    \n",
        "    predict = np.mean(predicts, axis=0)\n",
        "    predict = [1 if x >= 0.5 else 0 for x in predict]  \n",
        "    print(\"정확도\", accuracy_score(y, predict))"
      ],
      "execution_count": null,
      "outputs": []
    },
    {
      "cell_type": "code",
      "metadata": {
        "id": "8cYbnqlhGRLj",
        "colab": {
          "base_uri": "https://localhost:8080/"
        },
        "outputId": "e44f0c0b-4a2c-4674-baac-bb480c4f4cd1"
      },
      "source": [
        "ensemble_result(A, b, models)"
      ],
      "execution_count": null,
      "outputs": [
        {
          "output_type": "stream",
          "text": [
            "정확도 0.9595\n"
          ],
          "name": "stdout"
        }
      ]
    },
    {
      "cell_type": "markdown",
      "metadata": {
        "id": "xfjth0LiDyzV"
      },
      "source": [
        "### 테스트데이터 구성"
      ]
    },
    {
      "cell_type": "markdown",
      "metadata": {
        "id": "_umPGIycC8xG"
      },
      "source": [
        "> #### PEMINER, EMBER - Test Data"
      ]
    },
    {
      "cell_type": "code",
      "metadata": {
        "id": "WLtr2Od9C9Nw"
      },
      "source": [
        "import os\n",
        "import queue\n",
        "\n",
        "test_data = []\n",
        "\n",
        "def get_subdir(path):\n",
        "    global test_data\n",
        "    try:  # 검색이 허가되지 않은 디렉토리 접근에 관한 예외처리\n",
        "        dirfiles = os.listdir(path)  # path에 해당하는 디렉토리 dirfiles에 추가\n",
        "    except PermissionError:\n",
        "        return []\n",
        "\n",
        "    subdir_list = []\n",
        "    for each in dirfiles:\n",
        "        if each.endswith(\".json\"):  # .txt로 끝나는 파일은 따로 all_txt리스트에 저장\n",
        "            test_data.append(path + each)\n",
        "        full_name = path + each  # path와 each(디렉토리)\n",
        "        if os.path.isdir(full_name):\n",
        "            subdir_list.append(full_name + \"/\")\n",
        "    return subdir_list\n",
        "\n",
        "\n",
        "dir_queue = queue.Queue()\n",
        "# /Library/ 아래의 모든 하위 디렉토리 찾기\n",
        "dir_queue.put(\"PEMINER/테스트데이터/\")  # 검색하고자 하는 디렉토리를 줄 앞에 세움\n",
        "\n",
        "while not dir_queue.empty():  # 큐가 비어있는 상태인지 확인\n",
        "    dir_name = dir_queue.get()  # 큐에서 빼낸 dir_name\n",
        "    subdir_names = get_subdir(dir_name)  # dir_name의 하위 디렉토리를 subdir_names에 저장\n",
        "    for each in subdir_names:  # subdir_names리스트에 있는 디렉토리들을 다시 큐에 넣음\n",
        "        dir_queue.put(each)"
      ],
      "execution_count": null,
      "outputs": []
    },
    {
      "cell_type": "markdown",
      "metadata": {
        "id": "Mo9E7WmNkx6i"
      },
      "source": [
        "> #### PESTUDIO - Test Data"
      ]
    },
    {
      "cell_type": "code",
      "metadata": {
        "id": "9_u7Uih6k21Z"
      },
      "source": [
        "import os\n",
        "import queue\n",
        "\n",
        "pestudio_test_data = []\n",
        "\n",
        "def get_subdir(path):\n",
        "    global pestudio_test_data\n",
        "    try:  # 검색이 허가되지 않은 디렉토리 접근에 관한 예외처리\n",
        "        dirfiles = os.listdir(path)  # path에 해당하는 디렉토리 dirfiles에 추가\n",
        "    except PermissionError:\n",
        "        return []\n",
        "\n",
        "    subdir_list = []\n",
        "    for each in dirfiles:\n",
        "        if each.endswith(\".json\"):  # .txt로 끝나는 파일은 따로 all_txt리스트에 저장\n",
        "            pestudio_test_data.append(path + each)\n",
        "        full_name = path + each  # path와 each(디렉토리)\n",
        "        if os.path.isdir(full_name):\n",
        "            subdir_list.append(full_name + \"/\")\n",
        "    return subdir_list\n",
        "\n",
        "\n",
        "dir_queue = queue.Queue()\n",
        "# /Library/ 아래의 모든 하위 디렉토리 찾기\n",
        "dir_queue.put(\"PESTUDIO/테스트데이터/\")  # 검색하고자 하는 디렉토리를 줄 앞에 세움\n",
        "\n",
        "while not dir_queue.empty():  # 큐가 비어있는 상태인지 확인\n",
        "    dir_name = dir_queue.get()  # 큐에서 빼낸 dir_name\n",
        "    subdir_names = get_subdir(dir_name)  # dir_name의 하위 디렉토리를 subdir_names에 저장\n",
        "    for each in subdir_names:  # subdir_names리스트에 있는 디렉토리들을 다시 큐에 넣음\n",
        "        dir_queue.put(each)"
      ],
      "execution_count": null,
      "outputs": []
    },
    {
      "cell_type": "markdown",
      "metadata": {
        "id": "2JZkmsLClR5F"
      },
      "source": [
        "> #### PEMINER + EMBER + PESTUDIO - Test Data"
      ]
    },
    {
      "cell_type": "code",
      "metadata": {
        "colab": {
          "base_uri": "https://localhost:8080/"
        },
        "id": "KReyZqBilSYq",
        "outputId": "cc40bd89-249c-45dc-97c7-65b60cf2761a"
      },
      "source": [
        "# 데이터의 특징 벡터 모음(2차원 리스트) : T\n",
        "T = []\n",
        "file_name = []\n",
        "for path in test_data:\n",
        "  global file_name\n",
        "  feature_vector = []\n",
        "  temp, fdata, fname = path.strip().split(\"/\")\n",
        "  fname = fname.replace(\".json\",\"\")\n",
        "  file_name.append(fname)\n",
        "  for data in [\"PEMINER\", \"EMBER\", \"PESTUDIO\"]:\n",
        "        path = f\"{data}/{fdata}/{fname}.json\"\n",
        "        if data == \"PEMINER\":\n",
        "            feature_vector += PeminerParser(path).process_report()\n",
        "        elif data == \"EMBER\":\n",
        "            feature_vector += EmberParser(path).process_report()\n",
        "        elif data == \"PESTUDIO\" and path in pestudio_veri_data:\n",
        "            feature_vector += PestudioParser(path).process_report()\n",
        "        else:  \n",
        "            feature_vector += PestudioParser(path, -1).process_report(-1)\n",
        "  T.append(feature_vector)\n",
        "\n",
        "np.asarray(T).shape"
      ],
      "execution_count": null,
      "outputs": [
        {
          "output_type": "execute_result",
          "data": {
            "text/plain": [
              "(10000, 1571)"
            ]
          },
          "metadata": {
            "tags": []
          },
          "execution_count": 21
        }
      ]
    },
    {
      "cell_type": "markdown",
      "metadata": {
        "id": "JbdE0R6nk_kt"
      },
      "source": [
        "### 테스트 실행"
      ]
    },
    {
      "cell_type": "code",
      "metadata": {
        "id": "DEV_dM-hlPSk"
      },
      "source": [
        "def test(X, models):\n",
        "    predicts = []\n",
        "    for model in models:\n",
        "        prob = [result for _, result in model.predict_proba(X)]\n",
        "        predicts.append(prob)\n",
        "    \n",
        "    predict = np.mean(predicts, axis=0)\n",
        "    predict = [1 if x >= 0.5 else 0 for x in predict]\n",
        "\n",
        "    return predict    \n",
        "\n",
        "test_ret = test(T, models)\n",
        "\n",
        "import csv\n",
        "\n",
        "f = open('predict.csv', 'w', newline='')\n",
        "wr = csv.writer(f)\n",
        "wr.writerow(['file', 'predict'])\n",
        "\n",
        "for i in range(len(test_ret)):\n",
        "  wr.writerow([file_name[i], test_ret[i]])\n",
        "\n",
        "f.close()"
      ],
      "execution_count": null,
      "outputs": []
    },
    {
      "cell_type": "markdown",
      "metadata": {
        "id": "MaKTIMPgmlHN"
      },
      "source": [
        "---\n",
        "### PESTUDIO import 함수에서 사용할 리스트 생성\n",
        "- 주어진 모든 데이터에 대해 함수이름 저장\n",
        "1.   정상파일 함수 이름 & 빈도수 : func_name_o\n",
        "2.   악성파일 함수 이름 & 빈도수 : func_name_x"
      ]
    },
    {
      "cell_type": "code",
      "metadata": {
        "id": "xKscuNVzmncm"
      },
      "source": [
        "func_name = {}\n",
        "for path in pestudio_data:\n",
        "  temp, fdata, fname = path.strip().split(\"/\")\n",
        "  fname = fname.replace(\".json\",\"\")\n",
        "  path = f\"PESTUDIO/{fdata}/{fname}.json\"\n",
        "  data = read_json(path)\n",
        "  label = learn_label_table[fname]\n",
        "  if \"image\" not in data:\n",
        "    continue\n",
        "  if \"imports\" not in data[\"image\"]:\n",
        "    continue\n",
        "  if \"import\" not in data[\"image\"][\"imports\"]:\n",
        "    continue\n",
        "  for pe_import in data[\"image\"][\"imports\"][\"import\"]:\n",
        "    if \"@name\" not in pe_import:\n",
        "      continue\n",
        "    if pe_import == \"@name\":\n",
        "      continue\n",
        "    name = pe_import[\"@name\"]\n",
        "    if name not in func_name:\n",
        "      func_name[name] = 1\n",
        "    else:\n",
        "      func_name[name] += 1"
      ],
      "execution_count": null,
      "outputs": []
    },
    {
      "cell_type": "code",
      "metadata": {
        "id": "lI9JsTvImtGX"
      },
      "source": [
        "for path in pestudio_veri_data:\n",
        "  temp, fdata, fname = path.strip().split(\"/\")\n",
        "  fname = fname.replace(\".json\",\"\")\n",
        "  path = f\"PESTUDIO/{fdata}/{fname}.json\"\n",
        "  data = read_json(path)\n",
        "  label = verify_label_table[fname]\n",
        "  if \"image\" not in data:\n",
        "    continue\n",
        "  if \"imports\" not in data[\"image\"]:\n",
        "    continue\n",
        "  if \"import\" not in data[\"image\"][\"imports\"]:\n",
        "    continue\n",
        "  for pe_import in data[\"image\"][\"imports\"][\"import\"]:\n",
        "    if \"@name\" not in pe_import:\n",
        "      continue\n",
        "    if pe_import == \"@name\":\n",
        "      continue\n",
        "    name = pe_import[\"@name\"]\n",
        "    if name not in func_name:\n",
        "      func_name[name] = 1\n",
        "    else:\n",
        "      func_name[name] += 1"
      ],
      "execution_count": null,
      "outputs": []
    },
    {
      "cell_type": "code",
      "metadata": {
        "id": "XcQi6yzYm0a3"
      },
      "source": [
        "func_name_o = {}\n",
        "for path in pestudio_data:\n",
        "  temp, fdata, fname = path.strip().split(\"/\")\n",
        "  fname = fname.replace(\".json\",\"\")\n",
        "  path = f\"PESTUDIO/{fdata}/{fname}.json\"\n",
        "  data = read_json(path)\n",
        "  label = learn_label_table[fname]\n",
        "  if label == 1: # 악성파일인 경우 pass\n",
        "    continue\n",
        "  if \"image\" not in data:\n",
        "    continue\n",
        "  if \"imports\" not in data[\"image\"]:\n",
        "    continue\n",
        "  if \"import\" not in data[\"image\"][\"imports\"]:\n",
        "    continue\n",
        "  for pe_import in data[\"image\"][\"imports\"][\"import\"]:\n",
        "    if \"@name\" not in pe_import:\n",
        "      continue\n",
        "    if pe_import == \"@name\":\n",
        "      continue\n",
        "    name = pe_import[\"@name\"]\n",
        "    if name not in func_name_o:\n",
        "      func_name_o[name] = 1\n",
        "    else:\n",
        "      func_name_o[name] += 1"
      ],
      "execution_count": null,
      "outputs": []
    },
    {
      "cell_type": "code",
      "metadata": {
        "id": "rhzn0kT1nXy7"
      },
      "source": [
        "for path in pestudio_veri_data:\n",
        "  temp, fdata, fname = path.strip().split(\"/\")\n",
        "  fname = fname.replace(\".json\",\"\")\n",
        "  path = f\"PESTUDIO/{fdata}/{fname}.json\"\n",
        "  data = read_json(path)\n",
        "  label = verify_label_table[fname]\n",
        "  if label == 1: # 악성파일인 경우 pass\n",
        "    continue\n",
        "  if \"image\" not in data:\n",
        "    continue\n",
        "  if \"imports\" not in data[\"image\"]:\n",
        "    continue\n",
        "  if \"import\" not in data[\"image\"][\"imports\"]:\n",
        "    continue\n",
        "  for pe_import in data[\"image\"][\"imports\"][\"import\"]:\n",
        "    if \"@name\" not in pe_import:\n",
        "      continue\n",
        "    if pe_import == \"@name\":\n",
        "      continue\n",
        "    name = pe_import[\"@name\"]\n",
        "    if name not in func_name_o:\n",
        "      func_name_o[name] = 1\n",
        "    else:\n",
        "      func_name_o[name] += 1"
      ],
      "execution_count": null,
      "outputs": []
    },
    {
      "cell_type": "code",
      "metadata": {
        "id": "ZMmyswO9ngCq"
      },
      "source": [
        "func_name_x = {}\n",
        "for path in pestudio_data:\n",
        "  temp, fdata, fname = path.strip().split(\"/\")\n",
        "  fname = fname.replace(\".json\",\"\")\n",
        "  path = f\"PESTUDIO/{fdata}/{fname}.json\"\n",
        "  data = read_json(path)\n",
        "  label = learn_label_table[fname]\n",
        "  if label == 0:\n",
        "    continue\n",
        "  if \"image\" not in data:\n",
        "    continue\n",
        "  if \"imports\" not in data[\"image\"]:\n",
        "    continue\n",
        "  if \"import\" not in data[\"image\"][\"imports\"]:\n",
        "    continue\n",
        "  for pe_import in data[\"image\"][\"imports\"][\"import\"]:\n",
        "    if \"@name\" not in pe_import:\n",
        "      continue\n",
        "    if pe_import == \"@name\":\n",
        "      continue\n",
        "    name = pe_import[\"@name\"]\n",
        "    if name not in func_name_x:\n",
        "      func_name_x[name] = 1\n",
        "    else:\n",
        "      func_name_x[name] += 1"
      ],
      "execution_count": null,
      "outputs": []
    },
    {
      "cell_type": "code",
      "metadata": {
        "id": "v3VwVz8knjZl"
      },
      "source": [
        "for path in pestudio_veri_data:\n",
        "  temp, fdata, fname = path.strip().split(\"/\")\n",
        "  fname = fname.replace(\".json\",\"\")\n",
        "  path = f\"PESTUDIO/{fdata}/{fname}.json\"\n",
        "  data = read_json(path)\n",
        "  label = verify_label_table[fname]\n",
        "  if label == 0:\n",
        "    continue\n",
        "  if \"image\" not in data:\n",
        "    continue\n",
        "  if \"imports\" not in data[\"image\"]:\n",
        "    continue\n",
        "  if \"import\" not in data[\"image\"][\"imports\"]:\n",
        "    continue\n",
        "  for pe_import in data[\"image\"][\"imports\"][\"import\"]:\n",
        "    if \"@name\" not in pe_import:\n",
        "      continue\n",
        "    if pe_import == \"@name\":\n",
        "      continue\n",
        "    name = pe_import[\"@name\"]\n",
        "    if name not in func_name_x:\n",
        "      func_name_x[name] = 1\n",
        "    else:\n",
        "      func_name_x[name] += 1"
      ],
      "execution_count": null,
      "outputs": []
    },
    {
      "cell_type": "code",
      "metadata": {
        "id": "vxn0ayYunp8i",
        "colab": {
          "base_uri": "https://localhost:8080/"
        },
        "outputId": "157ce8b3-13ed-4c4a-fcd9-e30fe1c78453"
      },
      "source": [
        "print(len(func_name))\n",
        "print(len(func_name_o))\n",
        "print(len(func_name_x))\n",
        "func_name_t = sorted(func_name.items(), key=lambda x: x[1], reverse=True)[:50]\n",
        "func_name_o_t = sorted(func_name_o.items(), key=lambda x: x[1], reverse=True)[:50]\n",
        "func_name_x_t = sorted(func_name_x.items(), key=lambda x: x[1], reverse=True)[:50]\n",
        "print(func_name_t)\n",
        "print(func_name_o_t)\n",
        "print(func_name_x_t)"
      ],
      "execution_count": null,
      "outputs": [
        {
          "output_type": "stream",
          "text": [
            "[('GetProcAddress', 4906), ('GetLastError', 4832), ('GetCurrentProcess', 4481), ('CloseHandle', 4473), ('Sleep', 4362), ('MultiByteToWideChar', 4234), ('GetTickCount', 4104), ('ExitProcess', 4001), ('WriteFile', 3895), ('GetCurrentThreadId', 3791), ('GetModuleHandleA', 3647), ('RegCloseKey', 3631), ('FreeLibrary', 3542), ('UnhandledExceptionFilter', 3435), ('QueryPerformanceCounter', 3434), ('GetCurrentProcessId', 3415), ('WideCharToMultiByte', 3375), ('LoadLibraryA', 3265), ('GetSystemTimeAsFileTime', 3246), ('ReadFile', 3228), ('TerminateProcess', 3227), ('SetFilePointer', 3140), ('SetUnhandledExceptionFilter', 3074), ('DeleteCriticalSection', 3067), ('LeaveCriticalSection', 3012), ('EnterCriticalSection', 3009), ('WaitForSingleObject', 2834), ('GetCommandLineA', 2720), ('GetModuleFileNameA', 2610), ('FindClose', 2559), ('GetFileSize', 2545), ('CreateFileA', 2473), ('RtlUnwind', 2447), ('InitializeCriticalSection', 2413), ('LocalFree', 2399), ('_initterm', 2394), ('GetDC', 2394), ('GetStdHandle', 2394), ('VirtualAlloc', 2373), ('CoTaskMemFree', 2325), ('VirtualFree', 2314), ('CoCreateInstance', 2308), ('lstrlenA', 2308), ('DeleteObject', 2304), ('CreateThread', 2300), ('RaiseException', 2293), ('free', 2281), ('GetWindowRect', 2262), ('TlsGetValue', 2260), ('SelectObject', 2254)]\n",
            "[('', 159559), ('GetProcAddress', 11255), ('ExitProcess', 11220), ('GetLastError', 8838), ('WriteFile', 8662), ('CloseHandle', 8640), ('GetModuleHandleA', 8606), ('MultiByteToWideChar', 8014), ('GetCommandLineA', 7555), ('LoadLibraryA', 7515), ('FreeLibrary', 7386), ('RegCloseKey', 7377), ('GetModuleFileNameA', 7285), ('GetTickCount', 6928), ('Sleep', 6814), ('ReadFile', 6730), ('GetCurrentProcess', 6566), ('FindClose', 6486), ('SetFilePointer', 6341), ('VirtualAlloc', 6311), ('lstrlenA', 6113), ('WideCharToMultiByte', 5948), ('CreateFileA', 5878), ('GetCurrentThreadId', 5800), ('GetStdHandle', 5623), ('RtlUnwind', 5551), ('DeleteObject', 5544), ('RegQueryValueExA', 5448), ('GetFileSize', 5408), ('UnhandledExceptionFilter', 5383), ('VirtualFree', 5360), ('RegOpenKeyExA', 5358), ('SelectObject', 5280), ('GetDeviceCaps', 5019), ('CreateThread', 4978), ('SetTextColor', 4967), ('WaitForSingleObject', 4892), ('CharNextA', 4890), ('EnterCriticalSection', 4884), ('SetBkColor', 4879), ('RaiseException', 4878), ('LeaveCriticalSection', 4849), ('FindFirstFileA', 4766), ('SetBkMode', 4735), ('DestroyWindow', 4552), ('GetStartupInfoA', 4496), ('GetFileType', 4437), ('lstrcpynA', 4427), ('DeleteCriticalSection', 4412), ('ImageList_Create', 4411)]\n"
          ],
          "name": "stdout"
        }
      ]
    },
    {
      "cell_type": "code",
      "metadata": {
        "id": "ij7UX1Y2nvb-",
        "colab": {
          "base_uri": "https://localhost:8080/"
        },
        "outputId": "8a3c4e5e-2cc3-4ab5-8337-52f8acea695c"
      },
      "source": [
        "# 정상\n",
        "list1 = func_name_o_t\n",
        "# 악성\n",
        "list2 = func_name_x_t\n",
        "# 정상에서 뺀 거\n",
        "dic_o = {}\n",
        "dic_x = {}\n",
        "for i in range(len(list1)):\n",
        "  for j in range(len(list2)):\n",
        "    if list1[i][0] == list2[j][0]:\n",
        "      break\n",
        "  if j == len(list2)-1:\n",
        "    dic_o[list1[i][0]] = list1[i][1]\n",
        "print(dic_o)\n",
        "\n",
        "# 악성에서 뺀 거\n",
        "for i in range(len(list2)):\n",
        "  for j in range(len(list1)):\n",
        "    if list2[i][0] == list1[j][0]:\n",
        "      break\n",
        "  if j == len(list1)-1:\n",
        "    dic_x[list2[i][0]] = list2[i][1]\n",
        "print(dic_x)\n",
        "\n",
        "print(len(dic_o))\n",
        "print(len(dic_x))"
      ],
      "execution_count": null,
      "outputs": [
        {
          "output_type": "stream",
          "text": [
            "{'QueryPerformanceCounter': 3434, 'GetCurrentProcessId': 3415, 'GetSystemTimeAsFileTime': 3246, 'TerminateProcess': 3227, 'SetUnhandledExceptionFilter': 3074, 'InitializeCriticalSection': 2413, 'LocalFree': 2399, '_initterm': 2394, 'GetDC': 2394, 'CoTaskMemFree': 2325, 'CoCreateInstance': 2308, 'free': 2281, 'GetWindowRect': 2262, 'TlsGetValue': 2260}\n",
            "{'': 159559, 'RegQueryValueExA': 5448, 'RegOpenKeyExA': 5358, 'SelectObject': 5280, 'GetDeviceCaps': 5019, 'SetTextColor': 4967, 'CharNextA': 4890, 'SetBkColor': 4879, 'FindFirstFileA': 4766, 'SetBkMode': 4735, 'DestroyWindow': 4552, 'GetStartupInfoA': 4496, 'GetFileType': 4437, 'lstrcpynA': 4427, 'ImageList_Create': 4411}\n",
            "14\n",
            "15\n",
            "15\n"
          ],
          "name": "stdout"
        }
      ]
    },
    {
      "cell_type": "code",
      "metadata": {
        "id": "bu-EbYocnzgy"
      },
      "source": [
        "print(dic_o)\n",
        "print(dic_x)\n",
        "print(len(dic_o))\n",
        "print(len(dic_x))\n",
        "\n",
        "#dic_x = {'VerQueryValueA': 3826, 'GetFileVersionInfoA': 3381, 'GetFileVersionInfoSizeA': 3376, 'lstrcmpiA': 3359, 'HeapReAlloc': 3285, 'FindNextFileA': 3272, 'SetErrorMode': 3241, 'DispatchMessageA': 3241, 'IsWindowEnabled': 3200}"
      ],
      "execution_count": null,
      "outputs": []
    }
  ]
}